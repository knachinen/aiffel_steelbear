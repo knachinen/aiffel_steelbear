{
 "cells": [
  {
   "cell_type": "code",
   "execution_count": 21,
   "id": "c5099635",
   "metadata": {},
   "outputs": [],
   "source": [
    "import os\n",
    "\n",
    "import numpy as np\n",
    "import matplotlib.pyplot as plt\n",
    "import seaborn as sns\n",
    "from tqdm.notebook import tqdm, trange\n",
    "\n",
    "from gensim.models import Word2Vec\n",
    "from gensim.models import KeyedVectors\n",
    "from konlpy.tag import Komoran\n",
    "from sklearn.feature_extraction.text import TfidfVectorizer"
   ]
  },
  {
   "cell_type": "markdown",
   "id": "ffde7a9b",
   "metadata": {},
   "source": [
    "# STEP 1. 형태소 분석기를 이용하여 품사가 명사인 경우 해당 단어를 추출하기"
   ]
  },
  {
   "cell_type": "code",
   "execution_count": 2,
   "id": "828f04ba",
   "metadata": {},
   "outputs": [],
   "source": [
    "tokenizer = Komoran()\n",
    "\n",
    "def read_token(file_name, desc=None, position=0):\n",
    "    result = []\n",
    "    with open(os.getenv('HOME')+'/aiffel/weat/'+file_name, 'r') as fread: # 파일 사이즈를 기준으로 진행바 그리기\n",
    "        # 파일 처리 진행도를 그리는 진행바\n",
    "        pbar = tqdm(total=os.path.getsize(os.getenv('HOME')+'/aiffel/weat/'+file_name), \n",
    "                    desc=desc, \n",
    "                    position=position)\n",
    "        \n",
    "        while True:\n",
    "            line = fread.readline() \n",
    "            if not line: break \n",
    "            # 문장에서 명사만 추출\n",
    "            result.extend(tokenizer.nouns(line))\n",
    "                    \n",
    "            # 불러온 바이트 크기만큼 진행바 업데이트\n",
    "            pbar.update(len(line.encode('utf-8')))\n",
    "        # 진행바 완료 처리\n",
    "        pbar.close()\n",
    "\n",
    "    return ' '.join(result)"
   ]
  },
  {
   "cell_type": "code",
   "execution_count": 3,
   "id": "7b2e3dcc",
   "metadata": {},
   "outputs": [],
   "source": [
    "# corpus 파일\n",
    "synopsis_text = 'synopsis.txt'\n",
    "\n",
    "# target 파일\n",
    "art_txt = 'synopsis_art.txt'\n",
    "gen_txt = 'synopsis_gen.txt'\n",
    "\n",
    "# attribute 파일 리스트\n",
    "genre_txt = ['synopsis_SF.txt', 'synopsis_family.txt', 'synopsis_show.txt', 'synopsis_horror.txt', 'synopsis_etc.txt', \n",
    "             'synopsis_documentary.txt', 'synopsis_drama.txt', 'synopsis_romance.txt', 'synopsis_musical.txt', \n",
    "             'synopsis_mystery.txt', 'synopsis_crime.txt', 'synopsis_historical.txt', 'synopsis_western.txt', \n",
    "             'synopsis_adult.txt', 'synopsis_thriller.txt', 'synopsis_animation.txt', 'synopsis_action.txt', \n",
    "             'synopsis_adventure.txt', 'synopsis_war.txt', 'synopsis_comedy.txt', 'synopsis_fantasy.txt']\n",
    "genre_name = ['SF', '가족', '공연', '공포(호러)', '기타', '다큐멘터리', '드라마', '멜로로맨스', '뮤지컬', '미스터리', '범죄', '사극', '서부극(웨스턴)',\n",
    "         '성인물(에로)', '스릴러', '애니메이션', '액션', '어드벤처', '전쟁', '코미디', '판타지']"
   ]
  },
  {
   "cell_type": "code",
   "execution_count": 4,
   "id": "5045a05f",
   "metadata": {},
   "outputs": [
    {
     "data": {
      "application/vnd.jupyter.widget-view+json": {
       "model_id": "53f93d7618a647b7ba5d220d767b7641",
       "version_major": 2,
       "version_minor": 0
      },
      "text/plain": [
       "corpus:   0%|          | 0/17752952 [00:00<?, ?it/s]"
      ]
     },
     "metadata": {},
     "output_type": "display_data"
    }
   ],
   "source": [
    "# corpus 가져오기\n",
    "corpus = []\n",
    "with open(os.getenv('HOME')+'/aiffel/weat/'+synopsis_text, 'r') as fread: # 파일 사이즈를 기준으로 진행바 그리기\n",
    "    # 파일 처리 진행도를 그리는 진행바\n",
    "    pbar = tqdm(total=os.path.getsize(os.getenv('HOME')+'/aiffel/weat/'+synopsis_text), \n",
    "                desc='corpus')\n",
    "\n",
    "    while True:\n",
    "        line = fread.readline() \n",
    "        if not line: break \n",
    "        # 문장에서 명사만 추출\n",
    "        corpus.append(tokenizer.nouns(line))\n",
    "\n",
    "        # 불러온 바이트 크기만큼 진행바 업데이트\n",
    "        pbar.update(len(line.encode('utf-8')))\n",
    "    # 진행바 완료 처리\n",
    "    pbar.close()"
   ]
  },
  {
   "cell_type": "code",
   "execution_count": 5,
   "id": "a75a8298",
   "metadata": {},
   "outputs": [
    {
     "name": "stdout",
     "output_type": "stream",
     "text": [
      "71156\n",
      "['사운드', '엔지니어', '상', '우', '유지태', '분', '치매', '할머니', '백성희', '분']\n"
     ]
    }
   ],
   "source": [
    "# 명사 추출이 되는지 확인\n",
    "print(len(corpus))\n",
    "print(corpus[0])"
   ]
  },
  {
   "cell_type": "code",
   "execution_count": 6,
   "id": "b0551976",
   "metadata": {},
   "outputs": [
    {
     "data": {
      "application/vnd.jupyter.widget-view+json": {
       "model_id": "26ef6122585843fa810a6bff63bd19b2",
       "version_major": 2,
       "version_minor": 0
      },
      "text/plain": [
       "art:   0%|          | 0/2737865 [00:00<?, ?it/s]"
      ]
     },
     "metadata": {},
     "output_type": "display_data"
    },
    {
     "data": {
      "application/vnd.jupyter.widget-view+json": {
       "model_id": "28e76bc5caf74b0a8299ded44657e4f1",
       "version_major": 2,
       "version_minor": 0
      },
      "text/plain": [
       "gen:   0%|          | 0/13398320 [00:00<?, ?it/s]"
      ]
     },
     "metadata": {},
     "output_type": "display_data"
    }
   ],
   "source": [
    "# target 말뭉치 가져오기\n",
    "art = read_token(art_txt, 'art')\n",
    "gen = read_token(gen_txt, 'gen')"
   ]
  },
  {
   "cell_type": "code",
   "execution_count": 7,
   "id": "25522148",
   "metadata": {},
   "outputs": [
    {
     "data": {
      "application/vnd.jupyter.widget-view+json": {
       "model_id": "1e87bbe89cb7470cbfdb9874d0f0907d",
       "version_major": 2,
       "version_minor": 0
      },
      "text/plain": [
       "genre:   0%|          | 0/21 [00:00<?, ?it/s]"
      ]
     },
     "metadata": {},
     "output_type": "display_data"
    },
    {
     "data": {
      "application/vnd.jupyter.widget-view+json": {
       "model_id": "da52391721c94fc7b2a89bdd6552feec",
       "version_major": 2,
       "version_minor": 0
      },
      "text/plain": [
       "SF:   0%|          | 0/276105 [00:00<?, ?it/s]"
      ]
     },
     "metadata": {},
     "output_type": "display_data"
    },
    {
     "data": {
      "application/vnd.jupyter.widget-view+json": {
       "model_id": "b18ca9949c2941f8a2e15b1bf545866f",
       "version_major": 2,
       "version_minor": 0
      },
      "text/plain": [
       "가족:   0%|          | 0/106163 [00:00<?, ?it/s]"
      ]
     },
     "metadata": {},
     "output_type": "display_data"
    },
    {
     "data": {
      "application/vnd.jupyter.widget-view+json": {
       "model_id": "d35e87ee1e614b88aad93f0172ca4454",
       "version_major": 2,
       "version_minor": 0
      },
      "text/plain": [
       "공연:   0%|          | 0/101338 [00:00<?, ?it/s]"
      ]
     },
     "metadata": {},
     "output_type": "display_data"
    },
    {
     "data": {
      "application/vnd.jupyter.widget-view+json": {
       "model_id": "e632fb41462c4d0991965c32d4392551",
       "version_major": 2,
       "version_minor": 0
      },
      "text/plain": [
       "공포(호러):   0%|          | 0/761520 [00:00<?, ?it/s]"
      ]
     },
     "metadata": {},
     "output_type": "display_data"
    },
    {
     "data": {
      "application/vnd.jupyter.widget-view+json": {
       "model_id": "abe347172d614c2bbf5573c908728c9d",
       "version_major": 2,
       "version_minor": 0
      },
      "text/plain": [
       "기타:   0%|          | 0/636890 [00:00<?, ?it/s]"
      ]
     },
     "metadata": {},
     "output_type": "display_data"
    },
    {
     "data": {
      "application/vnd.jupyter.widget-view+json": {
       "model_id": "db7f97c5042547baa53d38fe0c707c74",
       "version_major": 2,
       "version_minor": 0
      },
      "text/plain": [
       "다큐멘터리:   0%|          | 0/2017337 [00:00<?, ?it/s]"
      ]
     },
     "metadata": {},
     "output_type": "display_data"
    },
    {
     "data": {
      "application/vnd.jupyter.widget-view+json": {
       "model_id": "988dffc95adb44bcbe19a904af2fa4b1",
       "version_major": 2,
       "version_minor": 0
      },
      "text/plain": [
       "드라마:   0%|          | 0/5151492 [00:00<?, ?it/s]"
      ]
     },
     "metadata": {},
     "output_type": "display_data"
    },
    {
     "data": {
      "application/vnd.jupyter.widget-view+json": {
       "model_id": "de9dcf3f6da843d49bc0a5c4a7a2ee9a",
       "version_major": 2,
       "version_minor": 0
      },
      "text/plain": [
       "멜로로맨스:   0%|          | 0/1356092 [00:00<?, ?it/s]"
      ]
     },
     "metadata": {},
     "output_type": "display_data"
    },
    {
     "data": {
      "application/vnd.jupyter.widget-view+json": {
       "model_id": "f4401bb6eaa74353928591f5b6475a21",
       "version_major": 2,
       "version_minor": 0
      },
      "text/plain": [
       "뮤지컬:   0%|          | 0/44068 [00:00<?, ?it/s]"
      ]
     },
     "metadata": {},
     "output_type": "display_data"
    },
    {
     "data": {
      "application/vnd.jupyter.widget-view+json": {
       "model_id": "97392fd9ec164be98113e3e589b0cb4d",
       "version_major": 2,
       "version_minor": 0
      },
      "text/plain": [
       "미스터리:   0%|          | 0/204375 [00:00<?, ?it/s]"
      ]
     },
     "metadata": {},
     "output_type": "display_data"
    },
    {
     "data": {
      "application/vnd.jupyter.widget-view+json": {
       "model_id": "f5b83070b8f349b5869fc04e806df682",
       "version_major": 2,
       "version_minor": 0
      },
      "text/plain": [
       "범죄:   0%|          | 0/371729 [00:00<?, ?it/s]"
      ]
     },
     "metadata": {},
     "output_type": "display_data"
    },
    {
     "data": {
      "application/vnd.jupyter.widget-view+json": {
       "model_id": "173aa394e52e4dc4bf9ae1433eb115a5",
       "version_major": 2,
       "version_minor": 0
      },
      "text/plain": [
       "사극:   0%|          | 0/45299 [00:00<?, ?it/s]"
      ]
     },
     "metadata": {},
     "output_type": "display_data"
    },
    {
     "data": {
      "application/vnd.jupyter.widget-view+json": {
       "model_id": "d0acba864fd74dcab897ecd358859279",
       "version_major": 2,
       "version_minor": 0
      },
      "text/plain": [
       "서부극(웨스턴):   0%|          | 0/11749 [00:00<?, ?it/s]"
      ]
     },
     "metadata": {},
     "output_type": "display_data"
    },
    {
     "data": {
      "application/vnd.jupyter.widget-view+json": {
       "model_id": "4c6631ee1c4f48a0afc8ef0f51f00a09",
       "version_major": 2,
       "version_minor": 0
      },
      "text/plain": [
       "성인물(에로):   0%|          | 0/606086 [00:00<?, ?it/s]"
      ]
     },
     "metadata": {},
     "output_type": "display_data"
    },
    {
     "data": {
      "application/vnd.jupyter.widget-view+json": {
       "model_id": "79974a4af54e4eb989ff43bd066dd36a",
       "version_major": 2,
       "version_minor": 0
      },
      "text/plain": [
       "스릴러:   0%|          | 0/558890 [00:00<?, ?it/s]"
      ]
     },
     "metadata": {},
     "output_type": "display_data"
    },
    {
     "data": {
      "application/vnd.jupyter.widget-view+json": {
       "model_id": "c95bd531a5034010aac37147aee56e27",
       "version_major": 2,
       "version_minor": 0
      },
      "text/plain": [
       "애니메이션:   0%|          | 0/1638647 [00:00<?, ?it/s]"
      ]
     },
     "metadata": {},
     "output_type": "display_data"
    },
    {
     "data": {
      "application/vnd.jupyter.widget-view+json": {
       "model_id": "0c07065b791f43feabd525b818d4d7b1",
       "version_major": 2,
       "version_minor": 0
      },
      "text/plain": [
       "액션:   0%|          | 0/1454329 [00:00<?, ?it/s]"
      ]
     },
     "metadata": {},
     "output_type": "display_data"
    },
    {
     "data": {
      "application/vnd.jupyter.widget-view+json": {
       "model_id": "c93e48600acf41a899a7555ed46087e3",
       "version_major": 2,
       "version_minor": 0
      },
      "text/plain": [
       "어드벤처:   0%|          | 0/125859 [00:00<?, ?it/s]"
      ]
     },
     "metadata": {},
     "output_type": "display_data"
    },
    {
     "data": {
      "application/vnd.jupyter.widget-view+json": {
       "model_id": "dbe1b4f2cdce41589c0ec4859175ac4f",
       "version_major": 2,
       "version_minor": 0
      },
      "text/plain": [
       "전쟁:   0%|          | 0/106944 [00:00<?, ?it/s]"
      ]
     },
     "metadata": {},
     "output_type": "display_data"
    },
    {
     "data": {
      "application/vnd.jupyter.widget-view+json": {
       "model_id": "aebc40ba71b84fd2bd062ff6d345e5c2",
       "version_major": 2,
       "version_minor": 0
      },
      "text/plain": [
       "코미디:   0%|          | 0/1394921 [00:00<?, ?it/s]"
      ]
     },
     "metadata": {},
     "output_type": "display_data"
    },
    {
     "data": {
      "application/vnd.jupyter.widget-view+json": {
       "model_id": "8090cb40ddc945a299035d97cbd94772",
       "version_major": 2,
       "version_minor": 0
      },
      "text/plain": [
       "판타지:   0%|          | 0/159187 [00:00<?, ?it/s]"
      ]
     },
     "metadata": {},
     "output_type": "display_data"
    }
   ],
   "source": [
    "# attribute 말뭉치 가져오기\n",
    "genre = []\n",
    "for genre_path, name in tqdm(zip(genre_txt, genre_name), \n",
    "                             total=len(genre_name),\n",
    "                             desc='genre'):\n",
    "    genre.append(read_token(genre_path, desc=name, position=1))"
   ]
  },
  {
   "cell_type": "markdown",
   "id": "e7d4eb9c",
   "metadata": {},
   "source": [
    "# STEP 2. 추출된 결과로 embedding model 만들기"
   ]
  },
  {
   "cell_type": "code",
   "execution_count": 8,
   "id": "d6f90fac",
   "metadata": {},
   "outputs": [],
   "source": [
    "model = Word2Vec(sentences=corpus,\n",
    "                 vector_size=3000,\n",
    "                 window=5,\n",
    "                 min_count=5,\n",
    "                 workers=4,\n",
    "                 sg=1)"
   ]
  },
  {
   "cell_type": "code",
   "execution_count": 9,
   "id": "ae4bea29",
   "metadata": {},
   "outputs": [
    {
     "data": {
      "text/plain": [
       "[('여자', 0.7285671234130859),\n",
       " ('그 여자', 0.7149316668510437),\n",
       " ('사내', 0.6895236372947693),\n",
       " ('남자들', 0.6736619472503662),\n",
       " ('종두', 0.6718348860740662),\n",
       " ('두 여자', 0.6543571949005127),\n",
       " ('밤거리', 0.6454757452011108),\n",
       " ('동거녀', 0.6396735906600952),\n",
       " ('아는 여자', 0.6389144659042358),\n",
       " ('허물', 0.6363397240638733)]"
      ]
     },
     "execution_count": 9,
     "metadata": {},
     "output_type": "execute_result"
    }
   ],
   "source": [
    "model.wv.most_similar('남자')"
   ]
  },
  {
   "cell_type": "code",
   "execution_count": 10,
   "id": "b765d120",
   "metadata": {},
   "outputs": [
    {
     "data": {
      "text/plain": [
       "[('그 여자', 0.7318713665008545),\n",
       " ('남자', 0.7285671234130859),\n",
       " ('종두', 0.6665416955947876),\n",
       " ('남자들', 0.6408053636550903),\n",
       " ('두기', 0.6393619775772095),\n",
       " ('스토킹', 0.6381886005401611),\n",
       " ('허물', 0.6354616284370422),\n",
       " ('아는 여자', 0.6352965831756592),\n",
       " ('후안', 0.6343703269958496),\n",
       " ('바텐더', 0.6341785192489624)]"
      ]
     },
     "execution_count": 10,
     "metadata": {},
     "output_type": "execute_result"
    }
   ],
   "source": [
    "model.wv.most_similar('여자')"
   ]
  },
  {
   "cell_type": "code",
   "execution_count": 11,
   "id": "201511c4",
   "metadata": {},
   "outputs": [
    {
     "data": {
      "text/plain": [
       "[('영화로', 0.7306223511695862),\n",
       " ('다큐멘터리', 0.7164408564567566),\n",
       " ('옴니버스', 0.7030378580093384),\n",
       " ('전작', 0.6918044686317444),\n",
       " ('편의', 0.6892226338386536),\n",
       " ('서사', 0.686048686504364),\n",
       " ('픽션', 0.6829968094825745),\n",
       " ('드라마', 0.6818315982818604),\n",
       " ('설정', 0.6811093688011169),\n",
       " ('차용', 0.6781631708145142)]"
      ]
     },
     "execution_count": 11,
     "metadata": {},
     "output_type": "execute_result"
    }
   ],
   "source": [
    "model.wv.most_similar('영화')"
   ]
  },
  {
   "cell_type": "code",
   "execution_count": 12,
   "id": "c50e0dae",
   "metadata": {},
   "outputs": [
    {
     "data": {
      "text/plain": [
       "[('신작', 0.7059822082519531),\n",
       " ('데뷔작', 0.6977284550666809),\n",
       " ('영화감독', 0.69254469871521),\n",
       " ('거장', 0.6859962940216064),\n",
       " ('장편', 0.6635642051696777),\n",
       " ('키아로스타미', 0.6571603417396545),\n",
       " ('영화 제작', 0.6563647389411926),\n",
       " ('영화로', 0.6505518555641174),\n",
       " ('뤽', 0.6464004516601562),\n",
       " ('부작', 0.6452431082725525)]"
      ]
     },
     "execution_count": 12,
     "metadata": {},
     "output_type": "execute_result"
    }
   ],
   "source": [
    "model.wv.most_similar('감독')"
   ]
  },
  {
   "cell_type": "markdown",
   "id": "899ac735",
   "metadata": {},
   "source": [
    "- 남자, 여자\n",
    "    - 서로가 가장 유사한 단어\n",
    "    - 그외 겹치는 유사 단어들이 많음\n",
    "- 영화, 감독\n",
    "    - 각자 의미상 유사한 단어들이 많이 나옴"
   ]
  },
  {
   "cell_type": "markdown",
   "id": "9961b752",
   "metadata": {},
   "source": [
    "# STEP 3. target, attribute 단어 셋 만들기"
   ]
  },
  {
   "cell_type": "markdown",
   "id": "82be06d6",
   "metadata": {},
   "source": [
    "## target 단어 셋"
   ]
  },
  {
   "cell_type": "code",
   "execution_count": 13,
   "id": "90acbabc",
   "metadata": {},
   "outputs": [],
   "source": [
    "vectorizer = TfidfVectorizer()\n",
    "X = vectorizer.fit_transform([art, gen])"
   ]
  },
  {
   "cell_type": "code",
   "execution_count": 14,
   "id": "c9b76f48",
   "metadata": {},
   "outputs": [],
   "source": [
    "#TF-IDF를 행렬로 저장\n",
    "m1 = X[0].tocoo()\n",
    "m2 = X[1].tocoo()\n",
    "\n",
    "w1 = [[i, j] for i, j in zip(m1.col, m1.data)]\n",
    "w2 = [[i, j] for i, j in zip(m2.col, m2.data)]\n",
    "\n",
    "# 단어들을 TF-IDF가 높은 순으로 정렬\n",
    "w1.sort(key=lambda x: x[1], reverse=True)  \n",
    "w2.sort(key=lambda x: x[1], reverse=True)"
   ]
  },
  {
   "cell_type": "code",
   "execution_count": 15,
   "id": "afdb1a13",
   "metadata": {},
   "outputs": [
    {
     "name": "stderr",
     "output_type": "stream",
     "text": [
      "/opt/conda/lib/python3.9/site-packages/sklearn/utils/deprecation.py:87: FutureWarning: Function get_feature_names is deprecated; get_feature_names is deprecated in 1.0 and will be removed in 1.2. Please use get_feature_names_out instead.\n",
      "  warnings.warn(msg, category=FutureWarning)\n"
     ]
    }
   ],
   "source": [
    "n = 15\n",
    "w1_, w2_ = [], []\n",
    "# 상위 100개 단어 추출\n",
    "for i in range(100):\n",
    "    w1_.append(vectorizer.get_feature_names()[w1[i][0]])\n",
    "    w2_.append(vectorizer.get_feature_names()[w2[i][0]])\n",
    "\n",
    "# w1에만 있고 w2에는 없는, 예술영화를 잘 대표하는 단어를 15개 추출한다.\n",
    "target_art, target_gen = [], []\n",
    "for i in range(100):\n",
    "    if (w1_[i] not in w2_) and (w1_[i] in model.wv): target_art.append(w1_[i])\n",
    "    if len(target_art) == n: break \n",
    "\n",
    "# w2에만 있고 w1에는 없는, 일반영화를 잘 대표하는 단어를 15개 추출한다.\n",
    "for i in range(100):\n",
    "    if (w2_[i] not in w1_) and (w2_[i] in model.wv): target_gen.append(w2_[i])\n",
    "    if len(target_gen) == n: break"
   ]
  },
  {
   "cell_type": "code",
   "execution_count": 16,
   "id": "42a29c05",
   "metadata": {},
   "outputs": [
    {
     "name": "stdout",
     "output_type": "stream",
     "text": [
      "예술영화를 대표하는 단어들:\n",
      "음악, 여인, 이름, 준비, 충격, 희망, 청년, 연인, 상처, 목숨, 프랑스, 매력, 진실, 모두, 만남, \n",
      "\n",
      "일반영화를 대표하는 단어들:\n",
      "국제, 애니메이션, 서울, 주인공, 연출, 섹스, 다큐멘터리, 부문, 조직, 의도, 회사, 일본, 부부, 문제, 경쟁, "
     ]
    }
   ],
   "source": [
    "print('예술영화를 대표하는 단어들:')\n",
    "for w in target_art:\n",
    "    print(w, end=', ')\n",
    "\n",
    "print('\\n')\n",
    "    \n",
    "print('일반영화를 대표하는 단어들:')\n",
    "for w in target_gen:\n",
    "    print(w, end=', ')"
   ]
  },
  {
   "cell_type": "markdown",
   "id": "c246f149",
   "metadata": {},
   "source": [
    "## attribute 단어 셋 "
   ]
  },
  {
   "cell_type": "code",
   "execution_count": 17,
   "id": "2e991c14",
   "metadata": {},
   "outputs": [],
   "source": [
    "vectorizer = TfidfVectorizer()\n",
    "X = vectorizer.fit_transform(genre)"
   ]
  },
  {
   "cell_type": "code",
   "execution_count": 18,
   "id": "48fe5be0",
   "metadata": {},
   "outputs": [],
   "source": [
    "m = [X[i].tocoo() for i in range(X.shape[0])]\n",
    "\n",
    "w = [[[i, j] for i, j in zip(mm.col, mm.data)] for mm in m]"
   ]
  },
  {
   "cell_type": "code",
   "execution_count": 23,
   "id": "a5cf0cda",
   "metadata": {},
   "outputs": [],
   "source": [
    "w_ = list(map(lambda s: sorted(s, key=lambda x: x[1]), w))"
   ]
  },
  {
   "cell_type": "code",
   "execution_count": 24,
   "id": "beec3a19",
   "metadata": {},
   "outputs": [
    {
     "data": {
      "application/vnd.jupyter.widget-view+json": {
       "model_id": "566e0825f9284f3c96e1cdcd06521852",
       "version_major": 2,
       "version_minor": 0
      },
      "text/plain": [
       "  0%|          | 0/21 [00:00<?, ?it/s]"
      ]
     },
     "metadata": {},
     "output_type": "display_data"
    },
    {
     "data": {
      "application/vnd.jupyter.widget-view+json": {
       "model_id": "eb68ce4115884a81a3561a57b0e668da",
       "version_major": 2,
       "version_minor": 0
      },
      "text/plain": [
       "SF:   0%|          | 0/4378 [00:00<?, ?it/s]"
      ]
     },
     "metadata": {},
     "output_type": "display_data"
    },
    {
     "data": {
      "application/vnd.jupyter.widget-view+json": {
       "model_id": "7a7aebf8f0994c6fa307c23705f7ba21",
       "version_major": 2,
       "version_minor": 0
      },
      "text/plain": [
       "가족:   0%|          | 0/2237 [00:00<?, ?it/s]"
      ]
     },
     "metadata": {},
     "output_type": "display_data"
    },
    {
     "data": {
      "application/vnd.jupyter.widget-view+json": {
       "model_id": "cc422ef590e941b09a5d4219e8cd4d2e",
       "version_major": 2,
       "version_minor": 0
      },
      "text/plain": [
       "공연:   0%|          | 0/2100 [00:00<?, ?it/s]"
      ]
     },
     "metadata": {},
     "output_type": "display_data"
    },
    {
     "data": {
      "application/vnd.jupyter.widget-view+json": {
       "model_id": "106912b454ef4d3d8beae45cec6af282",
       "version_major": 2,
       "version_minor": 0
      },
      "text/plain": [
       "공포(호러):   0%|          | 0/7068 [00:00<?, ?it/s]"
      ]
     },
     "metadata": {},
     "output_type": "display_data"
    },
    {
     "data": {
      "application/vnd.jupyter.widget-view+json": {
       "model_id": "2d9b0c24ac0b493db02adc38e292247a",
       "version_major": 2,
       "version_minor": 0
      },
      "text/plain": [
       "기타:   0%|          | 0/7496 [00:00<?, ?it/s]"
      ]
     },
     "metadata": {},
     "output_type": "display_data"
    },
    {
     "data": {
      "application/vnd.jupyter.widget-view+json": {
       "model_id": "10e3049e64d947369b034ae712ae116f",
       "version_major": 2,
       "version_minor": 0
      },
      "text/plain": [
       "다큐멘터리:   0%|          | 0/14914 [00:00<?, ?it/s]"
      ]
     },
     "metadata": {},
     "output_type": "display_data"
    },
    {
     "data": {
      "application/vnd.jupyter.widget-view+json": {
       "model_id": "dbbb1296c23b4773a2b57eb36e947a1f",
       "version_major": 2,
       "version_minor": 0
      },
      "text/plain": [
       "드라마:   0%|          | 0/21431 [00:00<?, ?it/s]"
      ]
     },
     "metadata": {},
     "output_type": "display_data"
    },
    {
     "data": {
      "application/vnd.jupyter.widget-view+json": {
       "model_id": "bb689be655fa43138da4aa1cbbc97488",
       "version_major": 2,
       "version_minor": 0
      },
      "text/plain": [
       "멜로로맨스:   0%|          | 0/9545 [00:00<?, ?it/s]"
      ]
     },
     "metadata": {},
     "output_type": "display_data"
    },
    {
     "data": {
      "application/vnd.jupyter.widget-view+json": {
       "model_id": "0eb8608912c34bfcb61f133e1cf1409c",
       "version_major": 2,
       "version_minor": 0
      },
      "text/plain": [
       "뮤지컬:   0%|          | 0/1274 [00:00<?, ?it/s]"
      ]
     },
     "metadata": {},
     "output_type": "display_data"
    },
    {
     "data": {
      "application/vnd.jupyter.widget-view+json": {
       "model_id": "815f7072a8814fccb1e0b2cb5f50ca18",
       "version_major": 2,
       "version_minor": 0
      },
      "text/plain": [
       "미스터리:   0%|          | 0/3501 [00:00<?, ?it/s]"
      ]
     },
     "metadata": {},
     "output_type": "display_data"
    },
    {
     "data": {
      "application/vnd.jupyter.widget-view+json": {
       "model_id": "1ffdb7f998014b689fbc5c38b94e236c",
       "version_major": 2,
       "version_minor": 0
      },
      "text/plain": [
       "범죄:   0%|          | 0/5559 [00:00<?, ?it/s]"
      ]
     },
     "metadata": {},
     "output_type": "display_data"
    },
    {
     "data": {
      "application/vnd.jupyter.widget-view+json": {
       "model_id": "3a0c58a1089346b0b22cf96a04a7f68d",
       "version_major": 2,
       "version_minor": 0
      },
      "text/plain": [
       "사극:   0%|          | 0/1312 [00:00<?, ?it/s]"
      ]
     },
     "metadata": {},
     "output_type": "display_data"
    },
    {
     "data": {
      "application/vnd.jupyter.widget-view+json": {
       "model_id": "195b07b25f1442d5afc1fa79947d4dac",
       "version_major": 2,
       "version_minor": 0
      },
      "text/plain": [
       "서부극(웨스턴):   0%|          | 0/409 [00:00<?, ?it/s]"
      ]
     },
     "metadata": {},
     "output_type": "display_data"
    },
    {
     "data": {
      "application/vnd.jupyter.widget-view+json": {
       "model_id": "ac2220e9bdd34703b12ceb6617878078",
       "version_major": 2,
       "version_minor": 0
      },
      "text/plain": [
       "성인물(에로):   0%|          | 0/4561 [00:00<?, ?it/s]"
      ]
     },
     "metadata": {},
     "output_type": "display_data"
    },
    {
     "data": {
      "application/vnd.jupyter.widget-view+json": {
       "model_id": "9f013b29493743978088cd4c1d8f40e2",
       "version_major": 2,
       "version_minor": 0
      },
      "text/plain": [
       "스릴러:   0%|          | 0/6492 [00:00<?, ?it/s]"
      ]
     },
     "metadata": {},
     "output_type": "display_data"
    },
    {
     "data": {
      "application/vnd.jupyter.widget-view+json": {
       "model_id": "508a5d9d1d4342c28607604690a79a92",
       "version_major": 2,
       "version_minor": 0
      },
      "text/plain": [
       "애니메이션:   0%|          | 0/11608 [00:00<?, ?it/s]"
      ]
     },
     "metadata": {},
     "output_type": "display_data"
    },
    {
     "data": {
      "application/vnd.jupyter.widget-view+json": {
       "model_id": "33e5e03b62884fe1a6fbaccdcbc06ae4",
       "version_major": 2,
       "version_minor": 0
      },
      "text/plain": [
       "액션:   0%|          | 0/11723 [00:00<?, ?it/s]"
      ]
     },
     "metadata": {},
     "output_type": "display_data"
    },
    {
     "data": {
      "application/vnd.jupyter.widget-view+json": {
       "model_id": "4634caf688544da7b0be66673fe6b91b",
       "version_major": 2,
       "version_minor": 0
      },
      "text/plain": [
       "어드벤처:   0%|          | 0/2817 [00:00<?, ?it/s]"
      ]
     },
     "metadata": {},
     "output_type": "display_data"
    },
    {
     "data": {
      "application/vnd.jupyter.widget-view+json": {
       "model_id": "6be7139da4bc460c8c1fa8d1a1a17627",
       "version_major": 2,
       "version_minor": 0
      },
      "text/plain": [
       "전쟁:   0%|          | 0/2460 [00:00<?, ?it/s]"
      ]
     },
     "metadata": {},
     "output_type": "display_data"
    },
    {
     "data": {
      "application/vnd.jupyter.widget-view+json": {
       "model_id": "5aa5c5225b0742b0a5d24a21497271aa",
       "version_major": 2,
       "version_minor": 0
      },
      "text/plain": [
       "코미디:   0%|          | 0/12399 [00:00<?, ?it/s]"
      ]
     },
     "metadata": {},
     "output_type": "display_data"
    },
    {
     "data": {
      "application/vnd.jupyter.widget-view+json": {
       "model_id": "a051871f0cc240bd9fa2650b89f71c64",
       "version_major": 2,
       "version_minor": 0
      },
      "text/plain": [
       "판타지:   0%|          | 0/2882 [00:00<?, ?it/s]"
      ]
     },
     "metadata": {},
     "output_type": "display_data"
    }
   ],
   "source": [
    "genre_voc = []\n",
    "\n",
    "# 장르별 단어 사전 생성\n",
    "for i in trange(len(w)):\n",
    "    voc = []\n",
    "    for col, _ in tqdm(w_[i], desc=genre_name[i], position=1):\n",
    "        word = vectorizer.get_feature_names()[col]\n",
    "        if word in model.wv:\n",
    "            voc.append(word)\n",
    "    genre_voc.append(voc)"
   ]
  },
  {
   "cell_type": "code",
   "execution_count": 33,
   "id": "bd3ef281",
   "metadata": {},
   "outputs": [
    {
     "name": "stdout",
     "output_type": "stream",
     "text": [
      "['고군분투', '이용', '선택', '정체', '동시', '인기', '여인', '장면', '접근', '폭력', '바탕', '발생', '살인', '자살', '얼마']\n"
     ]
    }
   ],
   "source": [
    "print(list(genre_voc[1][:15]))"
   ]
  },
  {
   "cell_type": "code",
   "execution_count": 44,
   "id": "a304f9d5",
   "metadata": {},
   "outputs": [
    {
     "data": {
      "application/vnd.jupyter.widget-view+json": {
       "model_id": "14cb10c6d7314e54ba88f9970b8e7505",
       "version_major": 2,
       "version_minor": 0
      },
      "text/plain": [
       "  0%|          | 0/21 [00:00<?, ?it/s]"
      ]
     },
     "metadata": {},
     "output_type": "display_data"
    },
    {
     "data": {
      "application/vnd.jupyter.widget-view+json": {
       "model_id": "c2a4f24ebd0a4ece801a9fcf43287dd8",
       "version_major": 2,
       "version_minor": 0
      },
      "text/plain": [
       "SF:   0%|          | 0/15 [00:00<?, ?it/s]"
      ]
     },
     "metadata": {},
     "output_type": "display_data"
    },
    {
     "data": {
      "application/vnd.jupyter.widget-view+json": {
       "model_id": "2c7cb8769a9b47ae8c915a01b12bf3b4",
       "version_major": 2,
       "version_minor": 0
      },
      "text/plain": [
       "가족:   0%|          | 0/15 [00:00<?, ?it/s]"
      ]
     },
     "metadata": {},
     "output_type": "display_data"
    },
    {
     "data": {
      "application/vnd.jupyter.widget-view+json": {
       "model_id": "ea7759614c7a4435a708ce076490492c",
       "version_major": 2,
       "version_minor": 0
      },
      "text/plain": [
       "공연:   0%|          | 0/15 [00:00<?, ?it/s]"
      ]
     },
     "metadata": {},
     "output_type": "display_data"
    },
    {
     "data": {
      "application/vnd.jupyter.widget-view+json": {
       "model_id": "fc03d97b1a0e48f0914ad4b741820f66",
       "version_major": 2,
       "version_minor": 0
      },
      "text/plain": [
       "공포(호러):   0%|          | 0/15 [00:00<?, ?it/s]"
      ]
     },
     "metadata": {},
     "output_type": "display_data"
    },
    {
     "data": {
      "application/vnd.jupyter.widget-view+json": {
       "model_id": "45ade02a4f7a44a5be92304577b0eb86",
       "version_major": 2,
       "version_minor": 0
      },
      "text/plain": [
       "기타:   0%|          | 0/15 [00:00<?, ?it/s]"
      ]
     },
     "metadata": {},
     "output_type": "display_data"
    },
    {
     "data": {
      "application/vnd.jupyter.widget-view+json": {
       "model_id": "085a604da94a4958a85e853fb9a1ac84",
       "version_major": 2,
       "version_minor": 0
      },
      "text/plain": [
       "다큐멘터리:   0%|          | 0/15 [00:00<?, ?it/s]"
      ]
     },
     "metadata": {},
     "output_type": "display_data"
    },
    {
     "data": {
      "application/vnd.jupyter.widget-view+json": {
       "model_id": "af4b2a228c26403bb57b635aa135b06e",
       "version_major": 2,
       "version_minor": 0
      },
      "text/plain": [
       "드라마:   0%|          | 0/15 [00:00<?, ?it/s]"
      ]
     },
     "metadata": {},
     "output_type": "display_data"
    },
    {
     "data": {
      "application/vnd.jupyter.widget-view+json": {
       "model_id": "e4bc6313eade43aa87f67233fb21703b",
       "version_major": 2,
       "version_minor": 0
      },
      "text/plain": [
       "멜로로맨스:   0%|          | 0/15 [00:00<?, ?it/s]"
      ]
     },
     "metadata": {},
     "output_type": "display_data"
    },
    {
     "data": {
      "application/vnd.jupyter.widget-view+json": {
       "model_id": "9e7856ce93ba4b358cd633e6fe68a93d",
       "version_major": 2,
       "version_minor": 0
      },
      "text/plain": [
       "뮤지컬:   0%|          | 0/15 [00:00<?, ?it/s]"
      ]
     },
     "metadata": {},
     "output_type": "display_data"
    },
    {
     "data": {
      "application/vnd.jupyter.widget-view+json": {
       "model_id": "37f45fc8f07247169f0d5213b0ae5d74",
       "version_major": 2,
       "version_minor": 0
      },
      "text/plain": [
       "미스터리:   0%|          | 0/15 [00:00<?, ?it/s]"
      ]
     },
     "metadata": {},
     "output_type": "display_data"
    },
    {
     "data": {
      "application/vnd.jupyter.widget-view+json": {
       "model_id": "9dce4e3fb471415e942f02a5c0e42658",
       "version_major": 2,
       "version_minor": 0
      },
      "text/plain": [
       "범죄:   0%|          | 0/15 [00:00<?, ?it/s]"
      ]
     },
     "metadata": {},
     "output_type": "display_data"
    },
    {
     "data": {
      "application/vnd.jupyter.widget-view+json": {
       "model_id": "fed732c6f4fc47098e65a1c8c5ba4893",
       "version_major": 2,
       "version_minor": 0
      },
      "text/plain": [
       "사극:   0%|          | 0/15 [00:00<?, ?it/s]"
      ]
     },
     "metadata": {},
     "output_type": "display_data"
    },
    {
     "data": {
      "application/vnd.jupyter.widget-view+json": {
       "model_id": "bfd2d4be076548e19e1593e202f7b434",
       "version_major": 2,
       "version_minor": 0
      },
      "text/plain": [
       "서부극(웨스턴):   0%|          | 0/15 [00:00<?, ?it/s]"
      ]
     },
     "metadata": {},
     "output_type": "display_data"
    },
    {
     "data": {
      "application/vnd.jupyter.widget-view+json": {
       "model_id": "8dc17f1ecf924017b76d42b3f6eac470",
       "version_major": 2,
       "version_minor": 0
      },
      "text/plain": [
       "성인물(에로):   0%|          | 0/15 [00:00<?, ?it/s]"
      ]
     },
     "metadata": {},
     "output_type": "display_data"
    },
    {
     "data": {
      "application/vnd.jupyter.widget-view+json": {
       "model_id": "c39ada357ec74871b0d8b5bb3fd1084f",
       "version_major": 2,
       "version_minor": 0
      },
      "text/plain": [
       "스릴러:   0%|          | 0/15 [00:00<?, ?it/s]"
      ]
     },
     "metadata": {},
     "output_type": "display_data"
    },
    {
     "data": {
      "application/vnd.jupyter.widget-view+json": {
       "model_id": "f092b63747d14cfa96e62b01bc90bd44",
       "version_major": 2,
       "version_minor": 0
      },
      "text/plain": [
       "애니메이션:   0%|          | 0/15 [00:00<?, ?it/s]"
      ]
     },
     "metadata": {},
     "output_type": "display_data"
    },
    {
     "data": {
      "application/vnd.jupyter.widget-view+json": {
       "model_id": "d1332355d0a54fe4b8667a52cb9ec806",
       "version_major": 2,
       "version_minor": 0
      },
      "text/plain": [
       "액션:   0%|          | 0/15 [00:00<?, ?it/s]"
      ]
     },
     "metadata": {},
     "output_type": "display_data"
    },
    {
     "data": {
      "application/vnd.jupyter.widget-view+json": {
       "model_id": "c38229f0355c488993efa2eb0ead024d",
       "version_major": 2,
       "version_minor": 0
      },
      "text/plain": [
       "어드벤처:   0%|          | 0/15 [00:00<?, ?it/s]"
      ]
     },
     "metadata": {},
     "output_type": "display_data"
    },
    {
     "data": {
      "application/vnd.jupyter.widget-view+json": {
       "model_id": "0372b0ee525b43fc85ce61dce5f5d9cb",
       "version_major": 2,
       "version_minor": 0
      },
      "text/plain": [
       "전쟁:   0%|          | 0/15 [00:00<?, ?it/s]"
      ]
     },
     "metadata": {},
     "output_type": "display_data"
    },
    {
     "data": {
      "application/vnd.jupyter.widget-view+json": {
       "model_id": "ca024de6b5774488a0843e3523cd355c",
       "version_major": 2,
       "version_minor": 0
      },
      "text/plain": [
       "코미디:   0%|          | 0/15 [00:00<?, ?it/s]"
      ]
     },
     "metadata": {},
     "output_type": "display_data"
    },
    {
     "data": {
      "application/vnd.jupyter.widget-view+json": {
       "model_id": "b9ccefb5a9ad4bf294fc8dbe067b3d6d",
       "version_major": 2,
       "version_minor": 0
      },
      "text/plain": [
       "판타지:   0%|          | 0/15 [00:00<?, ?it/s]"
      ]
     },
     "metadata": {},
     "output_type": "display_data"
    }
   ],
   "source": [
    "# 둘 이상 장르에 등장하는 단어\n",
    "normal_words = []\n",
    "# attributes 단어\n",
    "attributes = [genre_voc[i][:15] for i in range(len(genre_voc))]\n",
    "# attribute 단어가 지워졌을 때 대체할 후보 단어\n",
    "remains = [genre_voc[i][15:] for i in range(len(genre_voc))]\n",
    "\n",
    "for i in trange(len(genre_voc)):\n",
    "    count = 0\n",
    "    pbar = tqdm(total=15, desc=genre_name[i], position=1)\n",
    "    while remains[i]:\n",
    "        if count == 15: # 15개를 모두 뽑으면 반복 종료\n",
    "            break\n",
    "        \n",
    "        # 중복 검사를 진행할 단어\n",
    "        word = attributes[i][count]\n",
    "        \n",
    "        if word in normal_words:\n",
    "            del attributes[i][count] # 중복 단어 제거\n",
    "            attributes[i].append(remains[i].pop(0)) # 제거된 단어를 대체할 단어 추가\n",
    "            continue\n",
    "        \n",
    "        # 타 장르에 단어가 존재하는지 검사\n",
    "        exist = False\n",
    "        for j in range(len(attributes)):\n",
    "            if i == j:\n",
    "                continue\n",
    "            if word in attributes[j]:\n",
    "                normal_words.append(word)\n",
    "                exist = True\n",
    "                break\n",
    "        if exist:\n",
    "            del attributes[i][count] # 중복 단어 제거\n",
    "            attributes[i].append(remains[i].pop(0)) # 제거된 단어를 대체할 단어 추가\n",
    "        else:\n",
    "            # 한 장르에서만 등장하므로 attribute 단어로 등록\n",
    "            count += 1\n",
    "            pbar.update(1)\n",
    "    pbar.close()"
   ]
  },
  {
   "cell_type": "code",
   "execution_count": 45,
   "id": "3aed5937",
   "metadata": {},
   "outputs": [
    {
     "name": "stdout",
     "output_type": "stream",
     "text": [
      "SF:유혹, 시선, 소개, 인정, 무대, 부산국제영화제, 이별, 원작, 유산, 역할, 편지, 비극, 오후, 가의, 평온, \n",
      "가족:정체, 동시, 여인, 장면, 폭력, 발생, 살인, 얼마, 싸움, 만남, 출신, 소설, 강요, 유지, 기사, \n",
      "공연:자유, 과거, 존재, 욕망, 청년, 혼란, 세상, 가족, 소리, 그림, 작가, 중심, 혼자, 일상, 개인, \n",
      "공포(호러):거래, 선언, 중년, 가치, 단절, 계기, 불만, 본능, 오해, 어려움, 사랑은, 라이, 활약, 선사, 사기, \n",
      "기타:권력, 리스, 미모, 설상가상, 제거, 일행, 잠입, 배신, 회의, 방송, 욕심, 실력, 케이, 박사, 소속, \n",
      "다큐멘터리:계략, 저택, 당황, 저주, 맥스, 영문, 한순간, 인질, 엠마, 아가씨, 한눈, 부임, 맹세, 호감, 미녀, \n",
      "드라마:광란, 시시각각, 스릴, 쑥대밭, 모니터, 순결, 목표물, 인원, 클린, 브루스, 통신, 중세, 아이템, 함락, 복면, \n",
      "멜로로맨스:대형, 안전, 살아남기, 바스, 자비, 악마, 규모, 군인, 효과, 생존, 고아, 이어, 전역, 언론, 야망, \n",
      "뮤지컬:복수, 인간, 아이, 인물, 전쟁, 도움, 사건, 동안, 완성, 동료, 가운데, 인해, 현장, 도착, 어느날, \n",
      "미스터리:사이에서, 자랑, 음악, 배경, 최후, 국가, 고민, 머리, 방황, 수단, 성장, 휴가, 바람, 커플, 악명, \n",
      "범죄:순수, 대학, 어른, 잘못, 출연, 얘기, 동화, 장인, 소원, 금지, 여왕, 이미지, 덕분, 소재, 입학, \n",
      "사극:아내, 서로, 관계, 기대, 그때, 결정, 부인, 모험, 이자, 인생, 감정, 여행, 예상, 불안, 부모, \n",
      "서부극(웨스턴):최고, 시절, 위기, 비밀, 결심, 마지막, 상황, 계획, 이후, 소식, 갈등, 친구, 죽음, 세계, 사이, \n",
      "성인물(에로):우정, 기록, 유럽, 집단, 추격, 영화제, 발표, 그림자, 최대, 로맨스, 공포, 스타, 훈련, 가수, 목소리, \n",
      "스릴러:강제, 세월, 들로, 전해, 소문, 하기, 조이, 자신감, 니콜, 저지, 증오, 소용돌이, 방송국, 건설, 격리, \n",
      "애니메이션:약혼녀, 만류, 변호사, 해고, 취재, 미국인, 경악, 장교, 교도소, 즈음, 핑계, 은둔, 포착, 최면, 헬렌, \n",
      "액션:애정, 다큐멘터리, 입원, 아저씨, 인형, 산골, 소통, 피부, 우울, 라이브, 쾌락, 연주, 장편, 친척, 가출, \n",
      "어드벤처:여성, 해진, 실수, 조직, 조금, 희생, 재회, 진행, 요구, 활동, 촬영, 행동, 반대, 지시, 파악, \n",
      "전쟁:조건, 결혼, 방법, 연기, 신분, 파티, 절망, 의심, 주인, 마리, 치료, 라고, 방문, 천재, 경쟁, \n",
      "코미디:혼돈, 부대, 생사, 사형, 가담, 통치, 저항, 파멸, 불신, 은신처, 파국, 계곡, 추구, 부작용, 인구, \n",
      "판타지:형제, 노력, 의지, 독립, 잡기, 전통, 졸업, 방식, 파트너, 재능, 클럽, 안고, 직전, 기술, 아래, \n"
     ]
    }
   ],
   "source": [
    "for i in range(len(attributes)):\n",
    "    print(genre_name[i] + \":\", end='')\n",
    "    for w in attributes[i]:\n",
    "        print(w, end=', ')\n",
    "    print('')"
   ]
  },
  {
   "cell_type": "code",
   "execution_count": 46,
   "id": "b9d1ae02",
   "metadata": {},
   "outputs": [],
   "source": [
    "for i in range(len(attributes) - 1):\n",
    "    for j in range(i + 1, len(attributes)):\n",
    "        a = set(attributes[i])\n",
    "        b = set(attributes[j])\n",
    "        union = a & b\n",
    "        if union:\n",
    "            print(union)"
   ]
  },
  {
   "cell_type": "markdown",
   "id": "9df856ff",
   "metadata": {},
   "source": [
    "# STEP 4. WEAT score 계산과 시각화"
   ]
  },
  {
   "cell_type": "code",
   "execution_count": 47,
   "id": "d94bae21",
   "metadata": {},
   "outputs": [],
   "source": [
    "def cos_sim(i, j):\n",
    "    return np.dot(i, j.T) / (np.linalg.norm(i) * np.linalg.norm(j))\n",
    "\n",
    "\n",
    "def s(w, A, B):\n",
    "    c_a = cos_sim(w, A)\n",
    "    c_b = cos_sim(w, B)\n",
    "\n",
    "    mean_A = np.mean(c_a, axis=-1)\n",
    "    mean_B = np.mean(c_b, axis=-1)\n",
    "\n",
    "    return mean_A - mean_B #, c_a, c_b\n",
    "\n",
    "# weat score 계산\n",
    "def weat_score(X, Y, A, B):\n",
    "    s_X = s(X, A, B)\n",
    "    s_Y = s(Y, A, B)\n",
    "\n",
    "    mean_X = np.mean(s_X)\n",
    "    mean_Y = np.mean(s_Y)\n",
    "\n",
    "    std_dev = np.std(np.concatenate([s_X, s_Y], axis=0))\n",
    "\n",
    "    return  (mean_X - mean_Y) / std_dev"
   ]
  },
  {
   "cell_type": "code",
   "execution_count": 48,
   "id": "b2fced6c",
   "metadata": {},
   "outputs": [],
   "source": [
    "matrix = [[0 for _ in range(len(genre_name))] for _ in range(len(genre_name))]\n",
    "# attribute 조합\n",
    "X = np.array([model.wv[word] for word in target_art])\n",
    "Y = np.array([model.wv[word] for word in target_gen])\n",
    "\n",
    "for i in range(len(genre_name)-1):\n",
    "    for j in range(i+1, len(genre_name)):\n",
    "        A = np.array([model.wv[word] for word in attributes[i]])\n",
    "        B = np.array([model.wv[word] for word in attributes[j]])\n",
    "        matrix[i][j] = weat_score(X, Y, A, B)"
   ]
  },
  {
   "cell_type": "code",
   "execution_count": 49,
   "id": "3c422fba",
   "metadata": {},
   "outputs": [
    {
     "data": {
      "image/png": "[encoded data removed]",
      "text/plain": [
       "<Figure size 1152x1152 with 2 Axes>"
      ]
     },
     "metadata": {},
     "output_type": "display_data"
    }
   ],
   "source": [
    "np.random.seed(0)\n",
    "\n",
    "# 한글 지원 폰트\n",
    "sns.set(font='NanumGothic')\n",
    "\n",
    "# 마이너스 부호 \n",
    "plt.rcParams['axes.unicode_minus'] = False\n",
    "\n",
    "# attribute별 WEAT score 행렬을 히트맵으로 표현\n",
    "_, ax = plt.subplots(figsize=(16, 16))\n",
    "sns.heatmap(matrix, xticklabels=genre_name, yticklabels=genre_name, annot=True,  cmap='RdYlGn_r', ax=ax)\n",
    "ax.set_ylabel('A')\n",
    "ax.set_xlabel('B')\n",
    "plt.show()"
   ]
  },
  {
   "cell_type": "code",
   "execution_count": 53,
   "id": "8cdeff01",
   "metadata": {},
   "outputs": [
    {
     "name": "stdout",
     "output_type": "stream",
     "text": [
      "SF vs 다큐멘터리, WEAT score: -0.801531195640564\n",
      "예술영화-다큐멘터리  일반영화-SF\n",
      "\n",
      "가족 vs 다큐멘터리, WEAT score: -1.0635334253311157\n",
      "예술영화-다큐멘터리  일반영화-가족\n",
      "\n",
      "가족 vs 애니메이션, WEAT score: -0.9624679088592529\n",
      "예술영화-애니메이션  일반영화-가족\n",
      "\n",
      "공연 vs 범죄, WEAT score: 0.9856438040733337\n",
      "예술영화-공연  일반영화-범죄\n",
      "\n",
      "공포(호러) vs 다큐멘터리, WEAT score: -0.8004717826843262\n",
      "예술영화-다큐멘터리  일반영화-공포(호러)\n",
      "\n",
      "기타 vs 다큐멘터리, WEAT score: -1.1252416372299194\n",
      "예술영화-다큐멘터리  일반영화-기타\n",
      "\n",
      "기타 vs 애니메이션, WEAT score: -0.8493719696998596\n",
      "예술영화-애니메이션  일반영화-기타\n",
      "\n",
      "다큐멘터리 vs 뮤지컬, WEAT score: 0.8556143641471863\n",
      "예술영화-다큐멘터리  일반영화-뮤지컬\n",
      "\n",
      "다큐멘터리 vs 미스터리, WEAT score: 0.8015859127044678\n",
      "예술영화-다큐멘터리  일반영화-미스터리\n",
      "\n",
      "다큐멘터리 vs 범죄, WEAT score: 0.994361937046051\n",
      "예술영화-다큐멘터리  일반영화-범죄\n",
      "\n",
      "다큐멘터리 vs 성인물(에로), WEAT score: 0.8160060048103333\n",
      "예술영화-다큐멘터리  일반영화-성인물(에로)\n",
      "\n",
      "다큐멘터리 vs 어드벤처, WEAT score: 0.9708645939826965\n",
      "예술영화-다큐멘터리  일반영화-어드벤처\n",
      "\n",
      "다큐멘터리 vs 전쟁, WEAT score: 1.0300084352493286\n",
      "예술영화-다큐멘터리  일반영화-전쟁\n",
      "\n",
      "다큐멘터리 vs 판타지, WEAT score: 0.8989397883415222\n",
      "예술영화-다큐멘터리  일반영화-판타지\n",
      "\n",
      "뮤지컬 vs 애니메이션, WEAT score: -0.840512216091156\n",
      "예술영화-애니메이션  일반영화-뮤지컬\n",
      "\n",
      "범죄 vs 사극, WEAT score: -0.9422898888587952\n",
      "예술영화-사극  일반영화-범죄\n",
      "\n",
      "범죄 vs 애니메이션, WEAT score: -0.8499038219451904\n",
      "예술영화-애니메이션  일반영화-범죄\n",
      "\n",
      "스릴러 vs 어드벤처, WEAT score: 0.9216101765632629\n",
      "예술영화-스릴러  일반영화-어드벤처\n",
      "\n",
      "애니메이션 vs 어드벤처, WEAT score: 1.036582112312317\n",
      "예술영화-애니메이션  일반영화-어드벤처\n",
      "\n"
     ]
    }
   ],
   "source": [
    "for i in range(len(genre_name)-1):\n",
    "    for j in range(i+1, len(genre_name)):\n",
    "        score = matrix[i][j]\n",
    "        if score >= 0.8 or score <= -0.8:\n",
    "            print(f'{genre_name[i]} vs {genre_name[j]}, WEAT score: {score}')\n",
    "            if score > 0:\n",
    "                print(f'예술영화-{genre_name[i]}  일반영화-{genre_name[j]}')\n",
    "            else:\n",
    "                print(f'예술영화-{genre_name[j]}  일반영화-{genre_name[i]}')\n",
    "            print('')"
   ]
  },
  {
   "cell_type": "code",
   "execution_count": null,
   "id": "6cd02ff3",
   "metadata": {},
   "outputs": [],
   "source": []
  }
 ],
 "metadata": {
  "kernelspec": {
   "display_name": "Python 3 (ipykernel)",
   "language": "python",
   "name": "python3"
  },
  "language_info": {
   "codemirror_mode": {
    "name": "ipython",
    "version": 3
   },
   "file_extension": ".py",
   "mimetype": "text/x-python",
   "name": "python",
   "nbconvert_exporter": "python",
   "pygments_lexer": "ipython3",
   "version": "3.9.7"
  }
 },
 "nbformat": 4,
 "nbformat_minor": 5
}
