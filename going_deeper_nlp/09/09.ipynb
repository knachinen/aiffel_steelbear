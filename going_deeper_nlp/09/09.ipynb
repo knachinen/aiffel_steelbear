{
 "cells": [
  {
   "cell_type": "code",
   "execution_count": 84,
   "id": "27eca28c",
   "metadata": {},
   "outputs": [],
   "source": [
    "import os\n",
    "\n",
    "import numpy as np\n",
    "import matplotlib.pyplot as plt\n",
    "import seaborn as sns\n",
    "from tqdm.notebook import tqdm\n",
    "\n",
    "from gensim.models import Word2Vec\n",
    "from gensim.models import KeyedVectors\n",
    "from konlpy.tag import Komoran\n",
    "from sklearn.feature_extraction.text import TfidfVectorizer"
   ]
  },
  {
   "cell_type": "markdown",
   "id": "b61c4a7b",
   "metadata": {},
   "source": [
    "# STEP 1. 형태소 분석기를 이용하여 품사가 명사인 경우 해당 단어를 추출하기"
   ]
  },
  {
   "cell_type": "code",
   "execution_count": 104,
   "id": "45919007",
   "metadata": {},
   "outputs": [],
   "source": [
    "tokenizer = Komoran()\n",
    "\n",
    "def read_token(file_name, desc=None, position=0):\n",
    "    result = []\n",
    "    with open(os.getenv('HOME')+'/aiffel/weat/'+file_name, 'r') as fread: # 파일 사이즈를 기준으로 진행바 그리기\n",
    "        # 파일 처리 진행도를 그리는 진행바\n",
    "        pbar = tqdm(total=os.path.getsize(os.getenv('HOME')+'/aiffel/weat/'+file_name), \n",
    "                    desc=desc, \n",
    "                    position=position)\n",
    "        \n",
    "        while True:\n",
    "            line = fread.readline() \n",
    "            if not line: break \n",
    "            # 문장에서 명사만 추출\n",
    "            result.extend(tokenizer.nouns(line))\n",
    "                    \n",
    "            # 불러온 바이트 크기만큼 진행바 업데이트\n",
    "            pbar.update(len(line.encode('utf-8')))\n",
    "        # 진행바 완료 처리\n",
    "        pbar.close()\n",
    "\n",
    "    return ' '.join(result)"
   ]
  },
  {
   "cell_type": "code",
   "execution_count": 92,
   "id": "667bb683",
   "metadata": {},
   "outputs": [],
   "source": [
    "# corpus 파일\n",
    "synopsis_text = 'synopsis.txt'\n",
    "\n",
    "# target 파일\n",
    "art_txt = 'synopsis_art.txt'\n",
    "gen_txt = 'synopsis_gen.txt'\n",
    "\n",
    "# attribute 파일 리스트\n",
    "genre_txt = ['synopsis_SF.txt', 'synopsis_family.txt', 'synopsis_show.txt', 'synopsis_horror.txt', 'synopsis_etc.txt', \n",
    "             'synopsis_documentary.txt', 'synopsis_drama.txt', 'synopsis_romance.txt', 'synopsis_musical.txt', \n",
    "             'synopsis_mystery.txt', 'synopsis_crime.txt', 'synopsis_historical.txt', 'synopsis_western.txt', \n",
    "             'synopsis_adult.txt', 'synopsis_thriller.txt', 'synopsis_animation.txt', 'synopsis_action.txt', \n",
    "             'synopsis_adventure.txt', 'synopsis_war.txt', 'synopsis_comedy.txt', 'synopsis_fantasy.txt']\n",
    "genre_name = ['SF', '가족', '공연', '공포(호러)', '기타', '다큐멘터리', '드라마', '멜로로맨스', '뮤지컬', '미스터리', '범죄', '사극', '서부극(웨스턴)',\n",
    "         '성인물(에로)', '스릴러', '애니메이션', '액션', '어드벤처', '전쟁', '코미디', '판타지']"
   ]
  },
  {
   "cell_type": "code",
   "execution_count": 97,
   "id": "bb101f82",
   "metadata": {},
   "outputs": [
    {
     "data": {
      "application/vnd.jupyter.widget-view+json": {
       "model_id": "c713ec82cd264c259ca3515b45d681fc",
       "version_major": 2,
       "version_minor": 0
      },
      "text/plain": [
       "corpus:   0%|          | 0/17752952 [00:00<?, ?it/s]"
      ]
     },
     "metadata": {},
     "output_type": "display_data"
    }
   ],
   "source": [
    "# corpus 가져오기\n",
    "corpus = []\n",
    "with open(os.getenv('HOME')+'/aiffel/weat/'+synopsis_text, 'r') as fread: # 파일 사이즈를 기준으로 진행바 그리기\n",
    "    # 파일 처리 진행도를 그리는 진행바\n",
    "    pbar = tqdm(total=os.path.getsize(os.getenv('HOME')+'/aiffel/weat/'+synopsis_text), \n",
    "                desc='corpus')\n",
    "\n",
    "    while True:\n",
    "        line = fread.readline() \n",
    "        if not line: break \n",
    "        # 문장에서 명사만 추출\n",
    "        corpus.append(tokenizer.nouns(line))\n",
    "\n",
    "        # 불러온 바이트 크기만큼 진행바 업데이트\n",
    "        pbar.update(len(line.encode('utf-8')))\n",
    "    # 진행바 완료 처리\n",
    "    pbar.close()"
   ]
  },
  {
   "cell_type": "code",
   "execution_count": 98,
   "id": "620306cd",
   "metadata": {},
   "outputs": [
    {
     "name": "stdout",
     "output_type": "stream",
     "text": [
      "71156\n",
      "['사운드', '엔지니어', '상', '우', '유지태', '분', '치매', '할머니', '백성희', '분']\n"
     ]
    }
   ],
   "source": [
    "# 명사 추출이 되는지 확인\n",
    "print(len(corpus))\n",
    "print(corpus[0])"
   ]
  },
  {
   "cell_type": "code",
   "execution_count": 105,
   "id": "04ec7477",
   "metadata": {},
   "outputs": [
    {
     "data": {
      "application/vnd.jupyter.widget-view+json": {
       "model_id": "dd4f244a2d1645a8820b709dd8eae38e",
       "version_major": 2,
       "version_minor": 0
      },
      "text/plain": [
       "art:   0%|          | 0/2737865 [00:00<?, ?it/s]"
      ]
     },
     "metadata": {},
     "output_type": "display_data"
    },
    {
     "data": {
      "application/vnd.jupyter.widget-view+json": {
       "model_id": "61a0182fa1cd47ce8cb6b494c577e367",
       "version_major": 2,
       "version_minor": 0
      },
      "text/plain": [
       "gen:   0%|          | 0/13398320 [00:00<?, ?it/s]"
      ]
     },
     "metadata": {},
     "output_type": "display_data"
    }
   ],
   "source": [
    "# target 말뭉치 가져오기\n",
    "art = read_token(art_txt, 'art')\n",
    "gen = read_token(gen_txt, 'gen')"
   ]
  },
  {
   "cell_type": "code",
   "execution_count": 106,
   "id": "ca73916a",
   "metadata": {},
   "outputs": [
    {
     "data": {
      "application/vnd.jupyter.widget-view+json": {
       "model_id": "e1eb0fcff8ce4e6d82ed13383b9dea7e",
       "version_major": 2,
       "version_minor": 0
      },
      "text/plain": [
       "genre:   0%|          | 0/21 [00:00<?, ?it/s]"
      ]
     },
     "metadata": {},
     "output_type": "display_data"
    },
    {
     "data": {
      "application/vnd.jupyter.widget-view+json": {
       "model_id": "c5680ea6b3414df791c2bc0b21c6dbe1",
       "version_major": 2,
       "version_minor": 0
      },
      "text/plain": [
       "SF:   0%|          | 0/276105 [00:00<?, ?it/s]"
      ]
     },
     "metadata": {},
     "output_type": "display_data"
    },
    {
     "data": {
      "application/vnd.jupyter.widget-view+json": {
       "model_id": "79b193ac98c84ad597bbd3532fa582f1",
       "version_major": 2,
       "version_minor": 0
      },
      "text/plain": [
       "가족:   0%|          | 0/106163 [00:00<?, ?it/s]"
      ]
     },
     "metadata": {},
     "output_type": "display_data"
    },
    {
     "data": {
      "application/vnd.jupyter.widget-view+json": {
       "model_id": "74ddaa3b309d47358e14faf899ddbaf0",
       "version_major": 2,
       "version_minor": 0
      },
      "text/plain": [
       "공연:   0%|          | 0/101338 [00:00<?, ?it/s]"
      ]
     },
     "metadata": {},
     "output_type": "display_data"
    },
    {
     "data": {
      "application/vnd.jupyter.widget-view+json": {
       "model_id": "d8134162e4274d418d61afe9378eb54f",
       "version_major": 2,
       "version_minor": 0
      },
      "text/plain": [
       "공포(호러):   0%|          | 0/761520 [00:00<?, ?it/s]"
      ]
     },
     "metadata": {},
     "output_type": "display_data"
    },
    {
     "data": {
      "application/vnd.jupyter.widget-view+json": {
       "model_id": "3241c2da986a4e0eb6769a799e310bbb",
       "version_major": 2,
       "version_minor": 0
      },
      "text/plain": [
       "기타:   0%|          | 0/636890 [00:00<?, ?it/s]"
      ]
     },
     "metadata": {},
     "output_type": "display_data"
    },
    {
     "data": {
      "application/vnd.jupyter.widget-view+json": {
       "model_id": "d8a2881f486441848ad4c05303b423ad",
       "version_major": 2,
       "version_minor": 0
      },
      "text/plain": [
       "다큐멘터리:   0%|          | 0/2017337 [00:00<?, ?it/s]"
      ]
     },
     "metadata": {},
     "output_type": "display_data"
    },
    {
     "data": {
      "application/vnd.jupyter.widget-view+json": {
       "model_id": "a544c196ea40422797b4b40a1841c032",
       "version_major": 2,
       "version_minor": 0
      },
      "text/plain": [
       "드라마:   0%|          | 0/5151492 [00:00<?, ?it/s]"
      ]
     },
     "metadata": {},
     "output_type": "display_data"
    },
    {
     "data": {
      "application/vnd.jupyter.widget-view+json": {
       "model_id": "d109075b943b4a6fad8a200de3c2c584",
       "version_major": 2,
       "version_minor": 0
      },
      "text/plain": [
       "멜로로맨스:   0%|          | 0/1356092 [00:00<?, ?it/s]"
      ]
     },
     "metadata": {},
     "output_type": "display_data"
    },
    {
     "data": {
      "application/vnd.jupyter.widget-view+json": {
       "model_id": "b396354a94bd46b38a74e95522d7e02a",
       "version_major": 2,
       "version_minor": 0
      },
      "text/plain": [
       "뮤지컬:   0%|          | 0/44068 [00:00<?, ?it/s]"
      ]
     },
     "metadata": {},
     "output_type": "display_data"
    },
    {
     "data": {
      "application/vnd.jupyter.widget-view+json": {
       "model_id": "1b9356f3cc2446779aae660d79a89033",
       "version_major": 2,
       "version_minor": 0
      },
      "text/plain": [
       "미스터리:   0%|          | 0/204375 [00:00<?, ?it/s]"
      ]
     },
     "metadata": {},
     "output_type": "display_data"
    },
    {
     "data": {
      "application/vnd.jupyter.widget-view+json": {
       "model_id": "abc4e6d05a9b4b009f163fdce3226eb7",
       "version_major": 2,
       "version_minor": 0
      },
      "text/plain": [
       "범죄:   0%|          | 0/371729 [00:00<?, ?it/s]"
      ]
     },
     "metadata": {},
     "output_type": "display_data"
    },
    {
     "data": {
      "application/vnd.jupyter.widget-view+json": {
       "model_id": "ea4920be6db3463f96371d0d9da0e999",
       "version_major": 2,
       "version_minor": 0
      },
      "text/plain": [
       "사극:   0%|          | 0/45299 [00:00<?, ?it/s]"
      ]
     },
     "metadata": {},
     "output_type": "display_data"
    },
    {
     "data": {
      "application/vnd.jupyter.widget-view+json": {
       "model_id": "e091e8f8c87746f4901b80deaa18232f",
       "version_major": 2,
       "version_minor": 0
      },
      "text/plain": [
       "서부극(웨스턴):   0%|          | 0/11749 [00:00<?, ?it/s]"
      ]
     },
     "metadata": {},
     "output_type": "display_data"
    },
    {
     "data": {
      "application/vnd.jupyter.widget-view+json": {
       "model_id": "b04da4edabd9449391585f0f81f0df4c",
       "version_major": 2,
       "version_minor": 0
      },
      "text/plain": [
       "성인물(에로):   0%|          | 0/606086 [00:00<?, ?it/s]"
      ]
     },
     "metadata": {},
     "output_type": "display_data"
    },
    {
     "data": {
      "application/vnd.jupyter.widget-view+json": {
       "model_id": "2ada28b67f3445d094966b44bac55f59",
       "version_major": 2,
       "version_minor": 0
      },
      "text/plain": [
       "스릴러:   0%|          | 0/558890 [00:00<?, ?it/s]"
      ]
     },
     "metadata": {},
     "output_type": "display_data"
    },
    {
     "data": {
      "application/vnd.jupyter.widget-view+json": {
       "model_id": "6f3cf9a00c444ca683ce93e9ec1cab4a",
       "version_major": 2,
       "version_minor": 0
      },
      "text/plain": [
       "애니메이션:   0%|          | 0/1638647 [00:00<?, ?it/s]"
      ]
     },
     "metadata": {},
     "output_type": "display_data"
    },
    {
     "data": {
      "application/vnd.jupyter.widget-view+json": {
       "model_id": "270f94d2357e4852b33d11055d71caf3",
       "version_major": 2,
       "version_minor": 0
      },
      "text/plain": [
       "액션:   0%|          | 0/1454329 [00:00<?, ?it/s]"
      ]
     },
     "metadata": {},
     "output_type": "display_data"
    },
    {
     "data": {
      "application/vnd.jupyter.widget-view+json": {
       "model_id": "dec16750cae44b70bd7210ec395e052c",
       "version_major": 2,
       "version_minor": 0
      },
      "text/plain": [
       "어드벤처:   0%|          | 0/125859 [00:00<?, ?it/s]"
      ]
     },
     "metadata": {},
     "output_type": "display_data"
    },
    {
     "data": {
      "application/vnd.jupyter.widget-view+json": {
       "model_id": "01ffad12d0974ed680612138a3c1d5f3",
       "version_major": 2,
       "version_minor": 0
      },
      "text/plain": [
       "전쟁:   0%|          | 0/106944 [00:00<?, ?it/s]"
      ]
     },
     "metadata": {},
     "output_type": "display_data"
    },
    {
     "data": {
      "application/vnd.jupyter.widget-view+json": {
       "model_id": "f78cfb76f43843f7a7455f5dde0bfb0a",
       "version_major": 2,
       "version_minor": 0
      },
      "text/plain": [
       "코미디:   0%|          | 0/1394921 [00:00<?, ?it/s]"
      ]
     },
     "metadata": {},
     "output_type": "display_data"
    },
    {
     "data": {
      "application/vnd.jupyter.widget-view+json": {
       "model_id": "c43ff3a28be442a984985e69c1e72157",
       "version_major": 2,
       "version_minor": 0
      },
      "text/plain": [
       "판타지:   0%|          | 0/159187 [00:00<?, ?it/s]"
      ]
     },
     "metadata": {},
     "output_type": "display_data"
    }
   ],
   "source": [
    "# attribute 말뭉치 가져오기\n",
    "genre = []\n",
    "for genre_path, name in tqdm(zip(genre_txt, genre_name), \n",
    "                             total=len(genre_name),\n",
    "                             desc='genre'):\n",
    "    genre.append(read_token(genre_path, desc=name, position=1))"
   ]
  },
  {
   "cell_type": "markdown",
   "id": "f8040d6b",
   "metadata": {},
   "source": [
    "# STEP 2. 추출된 결과로 embedding model 만들기"
   ]
  },
  {
   "cell_type": "code",
   "execution_count": 99,
   "id": "4742b231",
   "metadata": {},
   "outputs": [],
   "source": [
    "model = Word2Vec(sentences=corpus,\n",
    "                 vector_size=3000,\n",
    "                 window=5,\n",
    "                 min_count=5,\n",
    "                 workers=4,\n",
    "                 sg=1)"
   ]
  },
  {
   "cell_type": "code",
   "execution_count": 100,
   "id": "6e3c40ab",
   "metadata": {},
   "outputs": [
    {
     "data": {
      "text/plain": [
       "[('여자', 0.7358971834182739),\n",
       " ('그 여자', 0.7311111092567444),\n",
       " ('사내', 0.6962658762931824),\n",
       " ('남자들', 0.6863585710525513),\n",
       " ('종두', 0.6722939014434814),\n",
       " ('두 여자', 0.6711417436599731),\n",
       " ('두기', 0.6524874567985535),\n",
       " ('허물', 0.6522413492202759),\n",
       " ('외간', 0.6505795121192932),\n",
       " ('여자도', 0.6498739719390869)]"
      ]
     },
     "execution_count": 100,
     "metadata": {},
     "output_type": "execute_result"
    }
   ],
   "source": [
    "model.wv.most_similar('남자')"
   ]
  },
  {
   "cell_type": "code",
   "execution_count": 101,
   "id": "a6068b6f",
   "metadata": {},
   "outputs": [
    {
     "data": {
      "text/plain": [
       "[('남자', 0.7358970642089844),\n",
       " ('그 여자', 0.7177942395210266),\n",
       " ('남자들', 0.6427386403083801),\n",
       " ('외간', 0.634609580039978),\n",
       " ('종두', 0.631350576877594),\n",
       " ('바텐더', 0.6293610334396362),\n",
       " ('두 여자', 0.6233052015304565),\n",
       " ('여자도', 0.6228067278862),\n",
       " ('허물', 0.6215042471885681),\n",
       " ('사내', 0.6157427430152893)]"
      ]
     },
     "execution_count": 101,
     "metadata": {},
     "output_type": "execute_result"
    }
   ],
   "source": [
    "model.wv.most_similar('여자')"
   ]
  },
  {
   "cell_type": "code",
   "execution_count": 102,
   "id": "a2332aa0",
   "metadata": {},
   "outputs": [
    {
     "data": {
      "text/plain": [
       "[('영화로', 0.7130703926086426),\n",
       " ('옴니버스', 0.6937226057052612),\n",
       " ('드라마', 0.6916636824607849),\n",
       " ('주제', 0.6812388896942139),\n",
       " ('형식', 0.6806081533432007),\n",
       " ('서사', 0.6791335940361023),\n",
       " ('전작', 0.677427351474762),\n",
       " ('설정', 0.6762212514877319),\n",
       " ('옴니버스 영화', 0.6750410199165344),\n",
       " ('다큐멘터리', 0.6730028390884399)]"
      ]
     },
     "execution_count": 102,
     "metadata": {},
     "output_type": "execute_result"
    }
   ],
   "source": [
    "model.wv.most_similar('영화')"
   ]
  },
  {
   "cell_type": "code",
   "execution_count": 103,
   "id": "23902d2a",
   "metadata": {},
   "outputs": [
    {
     "data": {
      "text/plain": [
       "[('신작', 0.7168554663658142),\n",
       " ('영화감독', 0.7080140709877014),\n",
       " ('데뷔작', 0.7031692266464233),\n",
       " ('거장', 0.7006807327270508),\n",
       " ('키아로스타미', 0.6825974583625793),\n",
       " ('압바스', 0.6714556217193604),\n",
       " ('부작', 0.6711646914482117),\n",
       " ('영화로', 0.6706691384315491),\n",
       " ('작품', 0.6679583787918091),\n",
       " ('다큐멘터리', 0.6626492738723755)]"
      ]
     },
     "execution_count": 103,
     "metadata": {},
     "output_type": "execute_result"
    }
   ],
   "source": [
    "model.wv.most_similar('감독')"
   ]
  },
  {
   "cell_type": "markdown",
   "id": "16b79846",
   "metadata": {},
   "source": [
    "- 남자, 여자\n",
    "    - 서로가 가장 유사한 단어\n",
    "    - 그외 겹치는 유사 단어들이 많음\n",
    "- 영화, 감독\n",
    "    - 각자 의미상 유사한 단어들이 많이 나옴"
   ]
  },
  {
   "cell_type": "markdown",
   "id": "d9741554",
   "metadata": {},
   "source": [
    "# STEP 3. target, attribute 단어 셋 만들기"
   ]
  },
  {
   "cell_type": "markdown",
   "id": "8de33c1c",
   "metadata": {},
   "source": [
    "## target 단어 셋"
   ]
  },
  {
   "cell_type": "code",
   "execution_count": 108,
   "id": "687ff4df",
   "metadata": {},
   "outputs": [],
   "source": [
    "vectorizer = TfidfVectorizer()\n",
    "X = vectorizer.fit_transform([art, gen])"
   ]
  },
  {
   "cell_type": "code",
   "execution_count": 109,
   "id": "2684a21c",
   "metadata": {},
   "outputs": [],
   "source": [
    "#TF-IDF를 행렬로 저장\n",
    "m1 = X[0].tocoo()\n",
    "m2 = X[1].tocoo()\n",
    "\n",
    "w1 = [[i, j] for i, j in zip(m1.col, m1.data)]\n",
    "w2 = [[i, j] for i, j in zip(m2.col, m2.data)]\n",
    "\n",
    "# 단어들을 TF-IDF가 높은 순으로 정렬\n",
    "w1.sort(key=lambda x: x[1], reverse=True)  \n",
    "w2.sort(key=lambda x: x[1], reverse=True)"
   ]
  },
  {
   "cell_type": "code",
   "execution_count": 110,
   "id": "21a7b826",
   "metadata": {},
   "outputs": [],
   "source": [
    "n = 15\n",
    "w1_, w2_ = [], []\n",
    "# 상위 100개 단어 추출\n",
    "for i in range(100):\n",
    "    w1_.append(vectorizer.get_feature_names()[w1[i][0]])\n",
    "    w2_.append(vectorizer.get_feature_names()[w2[i][0]])\n",
    "\n",
    "# w1에만 있고 w2에는 없는, 예술영화를 잘 대표하는 단어를 15개 추출한다.\n",
    "target_art, target_gen = [], []\n",
    "for i in range(100):\n",
    "    if (w1_[i] not in w2_) and (w1_[i] in model.wv): target_art.append(w1_[i])\n",
    "    if len(target_art) == n: break \n",
    "\n",
    "# w2에만 있고 w1에는 없는, 일반영화를 잘 대표하는 단어를 15개 추출한다.\n",
    "for i in range(100):\n",
    "    if (w2_[i] not in w1_) and (w2_[i] in model.wv): target_gen.append(w2_[i])\n",
    "    if len(target_gen) == n: break"
   ]
  },
  {
   "cell_type": "code",
   "execution_count": 111,
   "id": "2206e6fc",
   "metadata": {},
   "outputs": [
    {
     "name": "stdout",
     "output_type": "stream",
     "text": [
      "예술영화를 대표하는 단어들:\n",
      "음악, 여인, 이름, 준비, 충격, 희망, 청년, 연인, 상처, 목숨, 프랑스, 매력, 진실, 모두, 만남, \n",
      "\n",
      "일반영화를 대표하는 단어들:\n",
      "국제, 애니메이션, 서울, 주인공, 연출, 섹스, 다큐멘터리, 부문, 조직, 의도, 회사, 일본, 부부, 문제, 경쟁, "
     ]
    }
   ],
   "source": [
    "print('예술영화를 대표하는 단어들:')\n",
    "for w in target_art:\n",
    "    print(w, end=', ')\n",
    "\n",
    "print('\\n')\n",
    "    \n",
    "print('일반영화를 대표하는 단어들:')\n",
    "for w in target_gen:\n",
    "    print(w, end=', ')"
   ]
  },
  {
   "cell_type": "markdown",
   "id": "9ceff462",
   "metadata": {},
   "source": [
    "## attribute 단어 셋 "
   ]
  },
  {
   "cell_type": "code",
   "execution_count": 145,
   "id": "bb86fcd8",
   "metadata": {},
   "outputs": [],
   "source": [
    "vectorizer = TfidfVectorizer()\n",
    "X = vectorizer.fit_transform(genre)"
   ]
  },
  {
   "cell_type": "code",
   "execution_count": 146,
   "id": "4b29c8c9",
   "metadata": {},
   "outputs": [],
   "source": [
    "m = [X[i].tocoo() for i in range(X.shape[0])]\n",
    "\n",
    "w = [[[i, j] for i, j in zip(mm.col, mm.data)] for mm in m]"
   ]
  },
  {
   "cell_type": "code",
   "execution_count": null,
   "id": "f0f19021",
   "metadata": {},
   "outputs": [
    {
     "data": {
      "application/vnd.jupyter.widget-view+json": {
       "model_id": "45f8b68319a24c638ddb62a7de4aea2e",
       "version_major": 2,
       "version_minor": 0
      },
      "text/plain": [
       "  0%|          | 0/21 [00:00<?, ?it/s]"
      ]
     },
     "metadata": {},
     "output_type": "display_data"
    }
   ],
   "source": [
    "genre_voc = []\n",
    "\n",
    "# 장르별 단어 사전 생성\n",
    "for i in tqdm(range(len(w))):\n",
    "    voc = filter(lambda x: vectorizer.get_feature_names()[x[0]] in model.wv, w[i])\n",
    "    voc = sorted(voc, key=lambda x: x[1], reverse=True)\n",
    "    voc = map(lambda x: vectorizer.get_feature_names()[x[0]], voc)\n",
    "    genre_voc.append(voc)"
   ]
  },
  {
   "cell_type": "code",
   "execution_count": null,
   "id": "a27d2998",
   "metadata": {},
   "outputs": [],
   "source": [
    "print(genre_voc[0])"
   ]
  },
  {
   "cell_type": "code",
   "execution_count": 131,
   "id": "53fd4a83",
   "metadata": {},
   "outputs": [],
   "source": [
    "normal_words = set()\n",
    "\n",
    "# 두 장르 이상 동시에 등장하는 단어 찾기\n",
    "for i in range(len(genre_voc)):\n",
    "    for j in range(len(genre_voc)):\n",
    "        if i == j:\n",
    "            continue\n",
    "        a = set(genre_voc[i])\n",
    "        b = set(genre_voc[j])\n",
    "        # 두 attribute의 겹치는 단어 누적\n",
    "        normal_words = normal_words | (a & b)"
   ]
  },
  {
   "cell_type": "code",
   "execution_count": 132,
   "id": "01fac80f",
   "metadata": {},
   "outputs": [],
   "source": [
    "attributes = []\n",
    "for i in range(len(genre_voc)):\n",
    "    attr = []\n",
    "    j = 0\n",
    "    for word in genre_voc[i]:\n",
    "        if j == 15:\n",
    "            break\n",
    "        if word not in normal_words: # 특정 장르에서만 나온 단어만 수집\n",
    "            attr.append(word)\n",
    "            j += 1\n",
    "    attributes.append(attr)"
   ]
  },
  {
   "cell_type": "code",
   "execution_count": 133,
   "id": "988b9749",
   "metadata": {},
   "outputs": [
    {
     "name": "stdout",
     "output_type": "stream",
     "text": [
      "SF:탐험, 리타, 동해, 해일, 딜러, 해저, 이루, 합일, 라이, 다크, 먹구름, 산골, 단어, 탑승객, 가치, \n",
      "가족:해나, 법정, 상호, 카자흐스탄, 까막눈, 앵무새, 어로, 모란, 배려, 순임, 열성, 초조, 사온, 절차, 여고생, \n",
      "공연:노마, 레기나, 회관, 사실주의, 가산, 파블로, 자리매김, 석방, 선구자, 아테네, 안내, 사르, 뒤처리, 타르트, 트랜스젠더, \n",
      "공포(호러):포맷, 고초, 은미, 공동묘지, 위탁, 교직, 벤츠, 성행위, 동석, 지인, 유모차, 유키오, 클루, 수술비, 답변, \n",
      "기타:그물, 나리, 코만도, 현숙, 후쿠오카, 애착, 검열, 사명감, 온유, 이동은, 마사오, 놀림거리, 혜정, 내리, 싱가포르, \n",
      "다큐멘터리:지배층, 핸드백, 통지서, 대리점, 승우, 콧수염, 혼례, 악사, 조리사, 혜연, 개종, 뉴포트, 기문, 마놀로, 서해, \n",
      "드라마:성왕, 초치, 정혁, 무당벌레, 청림, 낙제, 로웰, 승기, 올인, 기동대, 관타나모, 바웬사, 핫도그, 도성, 서갑숙, \n",
      "멜로로맨스:하야토, 대감, 후지미, 정근, 아해, 도화, 신위, 사또, 현종, 갈대, 바라나시, 공형진, 돌쇠, 오딘, 키리시, \n",
      "뮤지컬:당대, 주방, 자칭, 에리, 할리, 아타, 튀니지, 니즈, 흥행, 물탱크, 문턱, 클래식, 이토, 어필, 에로티시즘, \n",
      "미스터리:연락처, 루미, 위도, 황정민, 심리전, 지은, 연화, 한준, 김유정, 나티, 뒷걸음질, 야유, 내연, 주란, 영옥, \n",
      "범죄:매소, 철퇴, 오르테가, 내기, 자질, 남발, 권상우, 고천락, 이성호, 체포령, 이문, 하윤, 교통경찰, 옥황상제, 블랙잭, \n",
      "사극:지성, 이슈, 인시, 배출, 섹시, 평원, 야생마, 화기, 트리스탄, 이익, 누이, 승려, 소일, 난동, 미망인, \n",
      "서부극(웨스턴):분노, 최근, 일당, 이범, 조카, 영웅, 사랑, 소니아, 설교, 표적, 거액, 공포감, 교회, 마련, 보안관, \n",
      "성인물(에로):승패, 생명보험, 네모토, 과음, 아주버님, 기량, 금슬, 미나코, 미조, 학구, 료칸, 유부녀들, 오오이, 하든, 식칼, \n",
      "스릴러:지우개, 이문식, 퀘스트, 마구잡이, 디오스, 인터폴, 웨슬리, 갑옷, 풍기, 헤이즐, 백동일, 육탄, 응시자, 카멜레온, 자경단, \n",
      "애니메이션:퍼니셔, 베이브, 색시, 턱시도, 도운, 브러시, 무토, 안치오, 리에티, 드래곤볼, 인터페이스, 선철, 애드립, 족자, 권법, \n",
      "액션:이호, 포욱, 특차, 카이우, 실버호크, 클랑, 앤트맨, 중천, 위키드, 뚝방, 데드풀, 라비니아, 거칠마루, 중오, 황금봉, \n",
      "어드벤처:흑사병, 어중간, 자제, 공병, 마로, 풍차, 수수, 싱클레어, 커리어우먼, 이상형, 스틱, 얼룩말, 단추, 올라프, 대장장이, \n",
      "전쟁:미수, 파기, 포로들, 이시다, 탄약, 대대장, 월등, 고참, 헌병대, 황실, 브리튼, 보우, 배리, 전함, 연류, \n",
      "코미디:아르파, 구구, 커밋, 파퍼, 퍼프, 박만수, 패딩턴, 벨라스, 조지나, 아이보리, 정승, 홍경민, 코에이, 아수라, \n",
      "판타지:파스칼, 출입국, 친애, 이프, 샤를, 하치, 응축, 난쟁이, 아웃사이더, 상담가, 말괄량이, 거주지, 비비안, 설득력, 1943년, \n"
     ]
    }
   ],
   "source": [
    "for i in range(len(attributes)):\n",
    "    print(genre_name[i] + \":\", end='')\n",
    "    for w in attributes[i]:\n",
    "        print(w, end=', ')\n",
    "    print('')"
   ]
  },
  {
   "cell_type": "markdown",
   "id": "bc4bc812",
   "metadata": {},
   "source": [
    "# STEP 4. WEAT score 계산과 시각화"
   ]
  },
  {
   "cell_type": "code",
   "execution_count": 134,
   "id": "7c864ae9",
   "metadata": {},
   "outputs": [],
   "source": [
    "def cos_sim(i, j):\n",
    "    return np.dot(i, j.T) / (np.linalg.norm(i) * np.linalg.norm(j))\n",
    "\n",
    "\n",
    "def s(w, A, B):\n",
    "    c_a = cos_sim(w, A)\n",
    "    c_b = cos_sim(w, B)\n",
    "\n",
    "    mean_A = np.mean(c_a, axis=-1)\n",
    "    mean_B = np.mean(c_b, axis=-1)\n",
    "\n",
    "    return mean_A - mean_B #, c_a, c_b\n",
    "\n",
    "# weat score 계산\n",
    "def weat_score(X, Y, A, B):\n",
    "    s_X = s(X, A, B)\n",
    "    s_Y = s(Y, A, B)\n",
    "\n",
    "    mean_X = np.mean(s_X)\n",
    "    mean_Y = np.mean(s_Y)\n",
    "\n",
    "    std_dev = np.std(np.concatenate([s_X, s_Y], axis=0))\n",
    "\n",
    "    return  (mean_X - mean_Y) / std_dev"
   ]
  },
  {
   "cell_type": "code",
   "execution_count": 135,
   "id": "a3b5d0a1",
   "metadata": {},
   "outputs": [],
   "source": [
    "matrix = [[0 for _ in range(len(genre_name))] for _ in range(len(genre_name))]\n",
    "# attribute 조합\n",
    "X = np.array([model.wv[word] for word in target_art])\n",
    "Y = np.array([model.wv[word] for word in target_gen])\n",
    "\n",
    "for i in range(len(genre_name)-1):\n",
    "    for j in range(i+1, len(genre_name)):\n",
    "        A = np.array([model.wv[word] for word in attributes[i]])\n",
    "        B = np.array([model.wv[word] for word in attributes[j]])\n",
    "        matrix[i][j] = weat_score(X, Y, A, B)"
   ]
  },
  {
   "cell_type": "code",
   "execution_count": 136,
   "id": "61516d0b",
   "metadata": {},
   "outputs": [
    {
     "data": {
      "image/png": "[encoded data removed]",
      "text/plain": [
       "<Figure size 1152x1152 with 2 Axes>"
      ]
     },
     "metadata": {},
     "output_type": "display_data"
    }
   ],
   "source": [
    "np.random.seed(0)\n",
    "\n",
    "# 한글 지원 폰트\n",
    "sns.set(font='NanumGothic')\n",
    "\n",
    "# 마이너스 부호 \n",
    "plt.rcParams['axes.unicode_minus'] = False\n",
    "\n",
    "# attribute별 WEAT score 행렬을 히트맵으로 표현\n",
    "_, ax = plt.subplots(figsize=(16, 16))\n",
    "sns.heatmap(matrix, xticklabels=genre_name, yticklabels=genre_name, annot=True,  cmap='RdYlGn_r', ax=ax)\n",
    "ax.set_ylabel('A')\n",
    "ax.set_xlabel('B')\n",
    "plt.show()"
   ]
  },
  {
   "cell_type": "code",
   "execution_count": null,
   "id": "a73559b6",
   "metadata": {},
   "outputs": [],
   "source": [
    "for i in range(len(genre_name)-1):\n",
    "    for j in range(i+1, len(genre_name)):\n",
    "        score = matrix[i][j]\n",
    "        if score >= 0.8 or score <= -0.8:\n",
    "            print(f'{genre_name[i]} vs {genre_name[j], WEAT score: {score}}')\n",
    "            if score > 0:\n",
    "                print(f'예술 영화-{genre_name[i]}  일반 영화-{genre_name[j]}')\n",
    "            else:\n",
    "                print(f'예술 영화-{genre_name[j]}  일반 영화-{genre_name[i]}')"
   ]
  },
  {
   "cell_type": "code",
   "execution_count": null,
   "id": "8574be01",
   "metadata": {},
   "outputs": [],
   "source": []
  }
 ],
 "metadata": {
  "kernelspec": {
   "display_name": "Python 3 (ipykernel)",
   "language": "python",
   "name": "python3"
  },
  "language_info": {
   "codemirror_mode": {
    "name": "ipython",
    "version": 3
   },
   "file_extension": ".py",
   "mimetype": "text/x-python",
   "name": "python",
   "nbconvert_exporter": "python",
   "pygments_lexer": "ipython3",
   "version": "3.9.7"
  }
 },
 "nbformat": 4,
 "nbformat_minor": 5
}
