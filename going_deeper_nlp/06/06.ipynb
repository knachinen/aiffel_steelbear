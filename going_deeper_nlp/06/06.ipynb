{
 "cells": [
  {
   "cell_type": "markdown",
   "id": "bb90b7a2",
   "metadata": {},
   "source": [
    "# Vocabulary size에 따른 뉴스 카테고리 다중분류 모델 성능 평가하기 \n",
    "- vocabulary size에 따른 모델 성능 평가\n",
    "    1. vocabulary size 정하기\n",
    "    2. 데이터 불러오기\n",
    "    3. 모델 훈련\n",
    "    4. 모델 평가\n",
    "- 평가해볼 vocabulary size 정하기\n",
    "    - 문제에서 정해진 크기\n",
    "        - None, 5000\n",
    "    - 전체에서 <unk> 처리되는 비율에 따라 나누기 "
   ]
  },
  {
   "cell_type": "code",
   "execution_count": 58,
   "id": "7bef8fa8",
   "metadata": {},
   "outputs": [],
   "source": [
    "import tensorflow as tf\n",
    "from tensorflow import keras\n",
    "from tensorflow.keras import layers\n",
    "from tensorflow.keras.datasets import reuters\n",
    "import tensorflow_addons as tfa\n",
    "\n",
    "from sklearn.feature_extraction.text import TfidfVectorizer\n",
    "from sklearn.naive_bayes import MultinomialNB\n",
    "from sklearn.linear_model import LogisticRegression, SGDClassifier\n",
    "from sklearn.naive_bayes import ComplementNB\n",
    "from sklearn.tree import DecisionTreeClassifier\n",
    "from sklearn.ensemble import RandomForestClassifier\n",
    "from sklearn.ensemble import GradientBoostingClassifier\n",
    "from sklearn.ensemble import VotingClassifier\n",
    "from sklearn.svm import LinearSVC\n",
    "from sklearn.metrics import accuracy_score, f1_score\n",
    "\n",
    "import numpy as np\n",
    "import pandas as pd\n",
    "from tqdm import tqdm\n",
    "\n",
    "import matplotlib.pyplot as plt\n",
    "import seaborn as sns"
   ]
  },
  {
   "cell_type": "markdown",
   "id": "6c0af5ed",
   "metadata": {},
   "source": [
    "## 데이터 불러오기 "
   ]
  },
  {
   "cell_type": "code",
   "execution_count": 2,
   "id": "8b562bcd",
   "metadata": {},
   "outputs": [],
   "source": [
    "(x_train, y_train), (x_test, y_test) = reuters.load_data(num_words=None, test_split=0.2)\n",
    "vocabulary = reuters.get_word_index()"
   ]
  },
  {
   "cell_type": "markdown",
   "id": "4b057823",
   "metadata": {},
   "source": [
    "## 단어 빈도 조사하기"
   ]
  },
  {
   "cell_type": "code",
   "execution_count": 3,
   "id": "a6e4aac5",
   "metadata": {},
   "outputs": [
    {
     "name": "stdout",
     "output_type": "stream",
     "text": [
      "0 <pad>\n",
      "1 <sos>\n",
      "2 <unk>\n",
      "4 the\n",
      "5 of\n",
      "6 to\n",
      "7 in\n",
      "8 said\n",
      "9 and\n",
      "10 a\n",
      "11 mln\n",
      "12 3\n",
      "13 for\n",
      "14 vs\n",
      "15 dlrs\n",
      "16 it\n",
      "17 reuter\n",
      "18 000\n",
      "19 1\n",
      "20 pct\n",
      "21 on\n",
      "22 from\n",
      "23 is\n"
     ]
    }
   ],
   "source": [
    "# 단어 확인해보기\n",
    "index_word = {(index + 3): word for word, index in vocabulary.items()}\n",
    "index_word.update({\n",
    "    0: '<pad>',\n",
    "    1: '<sos>',\n",
    "    2: '<unk>',\n",
    "})\n",
    "\n",
    "def show_voca(start, end):\n",
    "    for i in range(start, end):\n",
    "        if i == 3:\n",
    "            continue\n",
    "        print(i, index_word[i])\n",
    "\n",
    "show_voca(0, 24)"
   ]
  },
  {
   "cell_type": "code",
   "execution_count": 4,
   "id": "f2905f91",
   "metadata": {},
   "outputs": [
    {
     "name": "stdout",
     "output_type": "stream",
     "text": [
      "1307239\n"
     ]
    }
   ],
   "source": [
    "# 모든 문서를 한 리스트로 통합하기\n",
    "word_list = np.sum(x_train)\n",
    "print(len(word_list))"
   ]
  },
  {
   "cell_type": "code",
   "execution_count": 5,
   "id": "8d47a2e6",
   "metadata": {},
   "outputs": [
    {
     "data": {
      "image/png": "[encoded data removed]",
      "text/plain": [
       "<Figure size 1440x576 with 1 Axes>"
      ]
     },
     "metadata": {
      "needs_background": "light"
     },
     "output_type": "display_data"
    }
   ],
   "source": [
    "# 훈련 데이터셋의 단어 빈도 확인하기\n",
    "frequencies = np.unique(word_list, return_counts=True)\n",
    "\n",
    "_, ax = plt.subplots(figsize=(20, 8))\n",
    "ax.set_xlabel('word index')\n",
    "ax.set_ylabel('count')\n",
    "ax.plot(frequencies[0][:200], frequencies[1][:200]) # 200 이후로는 빈도가 급격히 낮아짐\n",
    "plt.show()"
   ]
  },
  {
   "cell_type": "code",
   "execution_count": 6,
   "id": "2da147de",
   "metadata": {},
   "outputs": [
    {
     "name": "stdout",
     "output_type": "stream",
     "text": [
      "0%:\t1.0\n",
      "25%:\t18.0\n",
      "50%:\t119.0\n",
      "75%:\t773.0\n",
      "100%:\t30981.0\n"
     ]
    }
   ],
   "source": [
    "# 백분위수를 통해 소실되지 않는 토큰 비율에 따른 vocabulary size 확인하기\n",
    "for p in [0, 25, 50, 75, 100]:\n",
    "    print(f'{p}%:\\t{np.percentile(word_list, p)}')"
   ]
  },
  {
   "cell_type": "code",
   "execution_count": 7,
   "id": "79aed22f",
   "metadata": {},
   "outputs": [
    {
     "name": "stdout",
     "output_type": "stream",
     "text": [
      "90%:\t3166.0\n",
      "92.5%:\t4393.0\n",
      "95%:\t6380.0\n",
      "97.5%:\t10618.0\n",
      "100%:\t30981.0\n"
     ]
    }
   ],
   "source": [
    "# 75% 이후 급격하게 vocabulary 수가 늘어나 90%~100% 사이로 다시 확인해보기\n",
    "for p in [90, 92.5, 95, 97.5, 100]:\n",
    "    print(f'{p}%:\\t{np.percentile(word_list, p)}') # 특수 토큰 포함"
   ]
  },
  {
   "cell_type": "code",
   "execution_count": 8,
   "id": "983df658",
   "metadata": {},
   "outputs": [
    {
     "name": "stdout",
     "output_type": "stream",
     "text": [
      "119\t0.500\n",
      "773\t0.750\n",
      "3166\t0.900\n",
      "5000\t0.934\n",
      "6380\t0.950\n",
      "10618\t0.975\n"
     ]
    }
   ],
   "source": [
    "# 실제 누적 분포 확인하기\n",
    "def get_word_cumulative_frequency(num_words):\n",
    "    return np.mean(np.array(list(map(lambda x: int(x <= num_words), word_list))))\n",
    "\n",
    "for num_words in [119, 773, 3166, 5000, 6380, 10618]:\n",
    "    print(f'{num_words}\\t{get_word_cumulative_frequency(num_words):.3f}')"
   ]
  },
  {
   "cell_type": "markdown",
   "id": "87f7252c",
   "metadata": {},
   "source": [
    "## 테스트할 vocabulary size\n",
    "- 119: 50%\n",
    "- 773: 75%\n",
    "    - 단어수가 극단적으로 작은 경우 모델이 잘 판단할 수 있는지 확인해보기\n",
    "- 3166: 90%\n",
    "- 5000: 93.4%\n",
    "- 6380: 95%\n",
    "- 106218: 97.5%\n",
    "- 30982(None): 100%\n",
    "\n",
    "## 백분위수에 해당하는 단어 확인하기\n",
    "- 예상\n",
    "    - 인덱스 번호가 커질수록 고유명사가 많이 등장할 것\n",
    "- 확인 결과\n",
    "    - 백분위수를 중심으로 10개 단어 확인\n",
    "    - 50%를 제외하면 별 차이는 없어보임\n",
    "    - 75% 이후로는 고유명사 빈도가 비슷한 것으로 보임"
   ]
  },
  {
   "cell_type": "code",
   "execution_count": 9,
   "id": "2f7663f7",
   "metadata": {},
   "outputs": [],
   "source": [
    "#voc_sizes = [119, 776, 3169, 5000, 6383, 10621, None]\n",
    "# 시간상 모두 돌려볼 수 없어서 3가지만 사용\n",
    "voc_sizes = [776, 5000, None]"
   ]
  },
  {
   "cell_type": "code",
   "execution_count": 10,
   "id": "ca2fd67b",
   "metadata": {},
   "outputs": [
    {
     "name": "stdout",
     "output_type": "stream",
     "text": [
      "114 could\n",
      "115 we\n",
      "116 offer\n",
      "117 over\n",
      "118 told\n",
      "119 20\n",
      "120 agreement\n",
      "121 week\n",
      "122 production\n",
      "123 note\n"
     ]
    }
   ],
   "source": [
    "# 백분위수 50%에 해당하는 단어들\n",
    "show_voca(114, 124)"
   ]
  },
  {
   "cell_type": "code",
   "execution_count": 11,
   "id": "9812ab9c",
   "metadata": {},
   "outputs": [
    {
     "name": "stdout",
     "output_type": "stream",
     "text": [
      "771 tokyo\n",
      "772 scheduled\n",
      "773 respectively\n",
      "774 impact\n",
      "775 turnover\n",
      "776 local\n",
      "777 included\n",
      "778 france\n",
      "779 leading\n",
      "780 mine\n"
     ]
    }
   ],
   "source": [
    "# 백분위수 75%에 해당하는 단어들\n",
    "show_voca(771, 781)"
   ]
  },
  {
   "cell_type": "code",
   "execution_count": 12,
   "id": "e20776be",
   "metadata": {},
   "outputs": [
    {
     "name": "stdout",
     "output_type": "stream",
     "text": [
      "3164 seemed\n",
      "3165 venezuelan\n",
      "3166 compensate\n",
      "3167 zambia\n",
      "3168 brand\n",
      "3169 cominco\n",
      "3170 multi\n",
      "3171 alan\n",
      "3172 pty\n",
      "3173 georgia\n"
     ]
    }
   ],
   "source": [
    "# 백분위수 90%에 해당하는 단어들\n",
    "show_voca(3164, 3174)"
   ]
  },
  {
   "cell_type": "code",
   "execution_count": 13,
   "id": "1eafcc9f",
   "metadata": {},
   "outputs": [
    {
     "name": "stdout",
     "output_type": "stream",
     "text": [
      "4995 seaway\n",
      "4996 restructured\n",
      "4997 night's\n",
      "4998 unknown\n",
      "4999 731\n",
      "5000 carries\n",
      "5001 promise\n",
      "5002 distillers\n",
      "5003 reversal\n",
      "5004 preserve\n"
     ]
    }
   ],
   "source": [
    "# 백분위수 93.4%에 해당하는 단어들\n",
    "show_voca(4995, 5005)"
   ]
  },
  {
   "cell_type": "code",
   "execution_count": 14,
   "id": "4e39abd9",
   "metadata": {},
   "outputs": [
    {
     "name": "stdout",
     "output_type": "stream",
     "text": [
      "6378 salaries\n",
      "6379 consisting\n",
      "6380 pooling\n",
      "6381 word\n",
      "6382 378\n",
      "6383 widen\n",
      "6384 539\n",
      "6385 considerations\n",
      "6386 worry\n",
      "6387 579\n"
     ]
    }
   ],
   "source": [
    "# 백분위수 95%에 해당하는 단어들\n",
    "show_voca(6378, 6388)"
   ]
  },
  {
   "cell_type": "code",
   "execution_count": 15,
   "id": "14a307f9",
   "metadata": {},
   "outputs": [
    {
     "name": "stdout",
     "output_type": "stream",
     "text": [
      "10616 alexander\n",
      "10617 complied\n",
      "10618 lacking\n",
      "10619 conditionally\n",
      "10620 providence\n",
      "10621 cochran\n",
      "10622 shortfalls\n",
      "10623 motors'\n",
      "10624 entwistle\n",
      "10625 lorries\n"
     ]
    }
   ],
   "source": [
    "# 백분위수 97.5%에 해당하는 단어들\n",
    "show_voca(10616, 10626)"
   ]
  },
  {
   "cell_type": "code",
   "execution_count": 16,
   "id": "a28fc11d",
   "metadata": {},
   "outputs": [
    {
     "name": "stdout",
     "output_type": "stream",
     "text": [
      "30973 clampdown\n",
      "30974 corporacion\n",
      "30975 staalfabrieken\n",
      "30976 odilon\n",
      "30977 guard's\n",
      "30978 recirculation\n",
      "30979 capco\n",
      "30980 figueras\n",
      "30981 jung\n",
      "30982 northerly\n"
     ]
    }
   ],
   "source": [
    "# 백분위수 100%에 해당하는 단어들\n",
    "show_voca(30973, 30983)"
   ]
  },
  {
   "cell_type": "markdown",
   "id": "1072d117",
   "metadata": {},
   "source": [
    "## 모델 훈련 및 평가 루프\n",
    "1. 문서 벡터화\n",
    "2. 모델 생성\n",
    "3. 훈련 데이터셋을 통해 훈련\n",
    "4. 테스트 데이터셋을 통해 평가"
   ]
  },
  {
   "cell_type": "code",
   "execution_count": 76,
   "id": "36097a9e",
   "metadata": {},
   "outputs": [],
   "source": [
    "# 정수 시퀀스를 텍스트로 디코딩\n",
    "def decode_sequence(seq):\n",
    "    return ' '.join([index_word[i] for i in seq])\n",
    "\n",
    "# tf-idf로 문서 벡터화\n",
    "def vectorize_ducuments(x_train, x_test):\n",
    "    x_train = map(decode_sequence, x_train)\n",
    "    x_test = map(decode_sequence, x_test)\n",
    "    \n",
    "    vectorizer = TfidfVectorizer()\n",
    "    x_train = vectorizer.fit_transform(x_train)\n",
    "    x_test = vectorizer.transform(x_test)\n",
    "    return x_train, x_test\n",
    "\n",
    "# 주어진 vocabulary size로 모델 학습 후 평가\n",
    "def train_and_evaluate(num_words):\n",
    "    # 정해진 크기만큼 어휘 사전 생성\n",
    "    (x_train, y_train), (x_test, y_test) = reuters.load_data(num_words=num_words, test_split=0.2)\n",
    "    x_train, x_test = vectorize_ducuments(x_train, x_test)\n",
    "    \n",
    "    models = [\n",
    "        MultinomialNB(), ComplementNB(),\n",
    "        DecisionTreeClassifier(max_depth=10), \n",
    "        RandomForestClassifier(n_estimators=5, max_depth=10, n_jobs=-1),\n",
    "        LogisticRegression(C=10000, penalty='l2', max_iter=3000, n_jobs=-1), \n",
    "        LinearSVC(C=1000, penalty='l1', max_iter=3000, dual=False),\n",
    "        GradientBoostingClassifier(),\n",
    "    ]\n",
    "    \n",
    "    # VotingClassifier 추가\n",
    "    estimators = [('lr', LogisticRegression(C=10000, penalty='l2', max_iter=3000)), \n",
    "                  ('rf', RandomForestClassifier(n_estimators=5, max_depth=10)), \n",
    "                  ('gnb', GradientBoostingClassifier()),\n",
    "                 ]\n",
    "    models.append(VotingClassifier(estimators=estimators, voting='soft', n_jobs=-1))\n",
    "    \n",
    "    # 정확도와 f1 score를 모델마다 저장\n",
    "    accuracies = {}\n",
    "    f1_scores = {}\n",
    "    for model in tqdm(models):\n",
    "        # 학습\n",
    "        model.fit(x_train, y_train)\n",
    "        # 평가\n",
    "        y_pred = model.predict(x_test)\n",
    "        accuracy = accuracy_score(y_test, y_pred)\n",
    "        f1 = np.zeros((46,))\n",
    "        for i in range(46):\n",
    "            f1[i] = f1_score(y_test, y_pred, labels=[i], average='micro')\n",
    "        accuracies.update({model.__class__.__name__: accuracy})\n",
    "        f1_scores.update({model.__class__.__name__: f1})\n",
    "        \n",
    "    return accuracies, f1_scores"
   ]
  },
  {
   "cell_type": "code",
   "execution_count": 77,
   "id": "1d7cf817",
   "metadata": {},
   "outputs": [
    {
     "name": "stderr",
     "output_type": "stream",
     "text": [
      " 50%|█████     | 4/8 [00:01<00:01,  2.45it/s]/opt/conda/lib/python3.9/site-packages/sklearn/linear_model/_logistic.py:814: ConvergenceWarning: lbfgs failed to converge (status=1):\n",
      "STOP: TOTAL NO. of ITERATIONS REACHED LIMIT.\n",
      "\n",
      "Increase the number of iterations (max_iter) or scale the data as shown in:\n",
      "    https://scikit-learn.org/stable/modules/preprocessing.html\n",
      "Please also refer to the documentation for alternative solver options:\n",
      "    https://scikit-learn.org/stable/modules/linear_model.html#logistic-regression\n",
      "  n_iter_i = _check_optimize_result(\n",
      " 62%|██████▎   | 5/8 [02:46<02:27, 49.22s/it]/opt/conda/lib/python3.9/site-packages/sklearn/svm/_base.py:1199: ConvergenceWarning: Liblinear failed to converge, increase the number of iterations.\n",
      "  warnings.warn(\n",
      " 88%|████████▊ | 7/8 [17:05<04:24, 264.96s/it]/opt/conda/lib/python3.9/site-packages/sklearn/linear_model/_logistic.py:814: ConvergenceWarning: lbfgs failed to converge (status=1):\n",
      "STOP: TOTAL NO. of ITERATIONS REACHED LIMIT.\n",
      "\n",
      "Increase the number of iterations (max_iter) or scale the data as shown in:\n",
      "    https://scikit-learn.org/stable/modules/preprocessing.html\n",
      "Please also refer to the documentation for alternative solver options:\n",
      "    https://scikit-learn.org/stable/modules/linear_model.html#logistic-regression\n",
      "  n_iter_i = _check_optimize_result(\n",
      "100%|██████████| 8/8 [28:45<00:00, 215.70s/it]\n",
      " 62%|██████▎   | 5/8 [03:38<03:55, 78.53s/it]/opt/conda/lib/python3.9/site-packages/sklearn/svm/_base.py:1199: ConvergenceWarning: Liblinear failed to converge, increase the number of iterations.\n",
      "  warnings.warn(\n",
      "100%|██████████| 8/8 [35:40<00:00, 267.60s/it]\n",
      " 62%|██████▎   | 5/8 [10:00<10:48, 216.25s/it]/opt/conda/lib/python3.9/site-packages/sklearn/svm/_base.py:1199: ConvergenceWarning: Liblinear failed to converge, increase the number of iterations.\n",
      "  warnings.warn(\n",
      "100%|██████████| 8/8 [44:23<00:00, 332.88s/it]\n"
     ]
    }
   ],
   "source": [
    "acc_by_voc_size = []\n",
    "f1_by_voc_size = []\n",
    "\n",
    "# 각 vocabulary size마다 반복\n",
    "for num_words in voc_sizes:\n",
    "    acc, f1 = train_and_evaluate(num_words)\n",
    "    acc_by_voc_size.append(acc)\n",
    "    f1_by_voc_size.append(f1)"
   ]
  },
  {
   "cell_type": "code",
   "execution_count": 80,
   "id": "95bb774e",
   "metadata": {},
   "outputs": [
    {
     "data": {
      "text/html": [
       "<div>\n",
       "<style scoped>\n",
       "    .dataframe tbody tr th:only-of-type {\n",
       "        vertical-align: middle;\n",
       "    }\n",
       "\n",
       "    .dataframe tbody tr th {\n",
       "        vertical-align: top;\n",
       "    }\n",
       "\n",
       "    .dataframe thead th {\n",
       "        text-align: right;\n",
       "    }\n",
       "</style>\n",
       "<table border=\"1\" class=\"dataframe\">\n",
       "  <thead>\n",
       "    <tr style=\"text-align: right;\">\n",
       "      <th></th>\n",
       "      <th>MultinomialNB</th>\n",
       "      <th>ComplementNB</th>\n",
       "      <th>DecisionTreeClassifier</th>\n",
       "      <th>RandomForestClassifier</th>\n",
       "      <th>LogisticRegression</th>\n",
       "      <th>LinearSVC</th>\n",
       "      <th>GradientBoostingClassifier</th>\n",
       "      <th>VotingClassifier</th>\n",
       "    </tr>\n",
       "  </thead>\n",
       "  <tbody>\n",
       "    <tr>\n",
       "      <th>776</th>\n",
       "      <td>0.673197</td>\n",
       "      <td>0.716385</td>\n",
       "      <td>0.611309</td>\n",
       "      <td>0.652271</td>\n",
       "      <td>0.721282</td>\n",
       "      <td>0.703028</td>\n",
       "      <td>0.742654</td>\n",
       "      <td>0.764470</td>\n",
       "    </tr>\n",
       "    <tr>\n",
       "      <th>5000</th>\n",
       "      <td>0.673197</td>\n",
       "      <td>0.770703</td>\n",
       "      <td>0.617097</td>\n",
       "      <td>0.634016</td>\n",
       "      <td>0.803206</td>\n",
       "      <td>0.777382</td>\n",
       "      <td>0.767587</td>\n",
       "      <td>0.809884</td>\n",
       "    </tr>\n",
       "    <tr>\n",
       "      <th>None</th>\n",
       "      <td>0.599733</td>\n",
       "      <td>0.764915</td>\n",
       "      <td>0.621104</td>\n",
       "      <td>0.538290</td>\n",
       "      <td>0.816118</td>\n",
       "      <td>0.792075</td>\n",
       "      <td>0.774711</td>\n",
       "      <td>0.814337</td>\n",
       "    </tr>\n",
       "  </tbody>\n",
       "</table>\n",
       "</div>"
      ],
      "text/plain": [
       "      MultinomialNB  ComplementNB  DecisionTreeClassifier  \\\n",
       "776        0.673197      0.716385                0.611309   \n",
       "5000       0.673197      0.770703                0.617097   \n",
       "None       0.599733      0.764915                0.621104   \n",
       "\n",
       "      RandomForestClassifier  LogisticRegression  LinearSVC  \\\n",
       "776                 0.652271            0.721282   0.703028   \n",
       "5000                0.634016            0.803206   0.777382   \n",
       "None                0.538290            0.816118   0.792075   \n",
       "\n",
       "      GradientBoostingClassifier  VotingClassifier  \n",
       "776                     0.742654          0.764470  \n",
       "5000                    0.767587          0.809884  \n",
       "None                    0.774711          0.814337  "
      ]
     },
     "execution_count": 80,
     "metadata": {},
     "output_type": "execute_result"
    }
   ],
   "source": [
    "acc_df = pd.DataFrame(acc_by_voc_size, index=map(str, voc_sizes))\n",
    "acc_df"
   ]
  },
  {
   "cell_type": "code",
   "execution_count": 81,
   "id": "8deb6a97",
   "metadata": {},
   "outputs": [
    {
     "data": {
      "image/png": "[encoded data removed]",
      "text/plain": [
       "<Figure size 864x432 with 1 Axes>"
      ]
     },
     "metadata": {
      "needs_background": "light"
     },
     "output_type": "display_data"
    }
   ],
   "source": [
    "# 정확도 비교\n",
    "_, ax = plt.subplots(figsize=(12, 6))\n",
    "acc_df.plot.bar(ax=ax)\n",
    "ax.set_ylim((0, 0.9))\n",
    "plt.legend(loc=8)\n",
    "plt.show()"
   ]
  },
  {
   "cell_type": "code",
   "execution_count": 89,
   "id": "02894849",
   "metadata": {},
   "outputs": [
    {
     "data": {
      "image/png": "[encoded data removed]",
      "text/plain": [
       "<Figure size 1152x576 with 1 Axes>"
      ]
     },
     "metadata": {
      "needs_background": "light"
     },
     "output_type": "display_data"
    }
   ],
   "source": [
    "# fi-score 비교\n",
    "_, ax = plt.subplots(figsize=(16, 8))\n",
    "mean_f1 = {str(voc_sizes[i]): pd.DataFrame(f1_by_voc_size[i]).mean() for i in range(len(voc_sizes))}\n",
    "mean_f1_df = pd.DataFrame(mean_f1)\n",
    "mean_f1_df.T.plot(ax=ax)\n",
    "plt.show()"
   ]
  },
  {
   "cell_type": "markdown",
   "id": "9cd2c03d",
   "metadata": {},
   "source": [
    "## 딥러닝 모델과 비교하기"
   ]
  },
  {
   "cell_type": "code",
   "execution_count": 27,
   "id": "2ebd5709",
   "metadata": {},
   "outputs": [],
   "source": [
    "inputs = keras.Input(shape=(None,))\n",
    "embedding = layers.Embedding(5000, 32)(inputs)\n",
    "x = layers.SimpleRNN(32)(embedding)\n",
    "outputs = layers.Dense(46, activation='softmax')(x)\n",
    "\n",
    "model = keras.Model(inputs, outputs)\n",
    "model.compile(loss='sparse_categorical_crossentropy',\n",
    "              optimizer='rmsprop',\n",
    "              metrics=['accuracy'])"
   ]
  },
  {
   "cell_type": "code",
   "execution_count": 28,
   "id": "47e2249d",
   "metadata": {},
   "outputs": [],
   "source": [
    "(x_train, y_train), (x_test, y_test) = reuters.load_data(num_words=5000, test_split=0.2)"
   ]
  },
  {
   "cell_type": "code",
   "execution_count": 29,
   "id": "00752f53",
   "metadata": {},
   "outputs": [
    {
     "name": "stdout",
     "output_type": "stream",
     "text": [
      "437.16811776094886\n"
     ]
    },
    {
     "data": {
      "image/png": "[encoded data removed]",
      "text/plain": [
       "<Figure size 576x1440 with 1 Axes>"
      ]
     },
     "metadata": {
      "needs_background": "light"
     },
     "output_type": "display_data"
    }
   ],
   "source": [
    "_, ax = plt.subplots(figsize=(8, 20))\n",
    "length_seq = list(map(len, x_train))\n",
    "print(np.mean(length_seq) + 2 * np.std(length_seq))\n",
    "sns.countplot(y=length_seq, ax=ax)\n",
    "plt.show()"
   ]
  },
  {
   "cell_type": "code",
   "execution_count": 30,
   "id": "db6bc19d",
   "metadata": {},
   "outputs": [],
   "source": [
    "x_train = keras.preprocessing.sequence.pad_sequences(x_train, maxlen=437)\n",
    "x_test = keras.preprocessing.sequence.pad_sequences(x_test, maxlen=437)"
   ]
  },
  {
   "cell_type": "code",
   "execution_count": 31,
   "id": "a52a5b9c",
   "metadata": {},
   "outputs": [
    {
     "name": "stdout",
     "output_type": "stream",
     "text": [
      "Epoch 1/50\n",
      "18/18 [==============================] - 7s 344ms/step - loss: 3.6637 - accuracy: 0.1631\n",
      "Epoch 2/50\n",
      "18/18 [==============================] - 6s 335ms/step - loss: 3.1588 - accuracy: 0.3515\n",
      "Epoch 3/50\n",
      "18/18 [==============================] - 6s 335ms/step - loss: 2.6853 - accuracy: 0.3635\n",
      "Epoch 4/50\n",
      "18/18 [==============================] - 6s 336ms/step - loss: 2.4233 - accuracy: 0.3534\n",
      "Epoch 5/50\n",
      "18/18 [==============================] - 6s 336ms/step - loss: 2.3043 - accuracy: 0.4008\n",
      "Epoch 6/50\n",
      "18/18 [==============================] - 6s 337ms/step - loss: 2.1902 - accuracy: 0.4627\n",
      "Epoch 7/50\n",
      "18/18 [==============================] - 6s 333ms/step - loss: 2.0751 - accuracy: 0.4953\n",
      "Epoch 8/50\n",
      "18/18 [==============================] - 6s 333ms/step - loss: 1.9930 - accuracy: 0.5081\n",
      "Epoch 9/50\n",
      "18/18 [==============================] - 6s 334ms/step - loss: 1.9023 - accuracy: 0.5218\n",
      "Epoch 10/50\n",
      "18/18 [==============================] - 6s 333ms/step - loss: 1.8268 - accuracy: 0.5298\n",
      "Epoch 11/50\n",
      "18/18 [==============================] - 6s 332ms/step - loss: 1.7284 - accuracy: 0.5440\n",
      "Epoch 12/50\n",
      "18/18 [==============================] - 6s 340ms/step - loss: 1.6558 - accuracy: 0.5596\n",
      "Epoch 13/50\n",
      "18/18 [==============================] - 6s 331ms/step - loss: 1.5735 - accuracy: 0.5804\n",
      "Epoch 14/50\n",
      "18/18 [==============================] - 6s 336ms/step - loss: 1.5127 - accuracy: 0.6062\n",
      "Epoch 15/50\n",
      "18/18 [==============================] - 6s 332ms/step - loss: 1.4455 - accuracy: 0.6301\n",
      "Epoch 16/50\n",
      "18/18 [==============================] - 6s 335ms/step - loss: 1.3691 - accuracy: 0.6548\n",
      "Epoch 17/50\n",
      "18/18 [==============================] - 6s 336ms/step - loss: 1.3091 - accuracy: 0.6752\n",
      "Epoch 18/50\n",
      "18/18 [==============================] - 6s 329ms/step - loss: 1.2470 - accuracy: 0.6968\n",
      "Epoch 19/50\n",
      "18/18 [==============================] - 6s 333ms/step - loss: 1.1971 - accuracy: 0.7098\n",
      "Epoch 20/50\n",
      "18/18 [==============================] - 6s 332ms/step - loss: 1.1422 - accuracy: 0.7275\n",
      "Epoch 21/50\n",
      "18/18 [==============================] - 6s 334ms/step - loss: 1.0825 - accuracy: 0.7459\n",
      "Epoch 22/50\n",
      "18/18 [==============================] - 6s 341ms/step - loss: 1.0262 - accuracy: 0.7611\n",
      "Epoch 23/50\n",
      "18/18 [==============================] - 6s 340ms/step - loss: 0.9934 - accuracy: 0.7697\n",
      "Epoch 24/50\n",
      "18/18 [==============================] - 6s 339ms/step - loss: 0.9451 - accuracy: 0.7812\n",
      "Epoch 25/50\n",
      "18/18 [==============================] - 6s 340ms/step - loss: 0.9119 - accuracy: 0.7886\n",
      "Epoch 26/50\n",
      "18/18 [==============================] - 6s 335ms/step - loss: 0.8626 - accuracy: 0.8041\n",
      "Epoch 27/50\n",
      "18/18 [==============================] - 6s 340ms/step - loss: 0.8284 - accuracy: 0.8100\n",
      "Epoch 28/50\n",
      "18/18 [==============================] - 6s 337ms/step - loss: 0.7906 - accuracy: 0.8204\n",
      "Epoch 29/50\n",
      "18/18 [==============================] - 6s 336ms/step - loss: 0.7787 - accuracy: 0.8214\n",
      "Epoch 30/50\n",
      "18/18 [==============================] - 6s 346ms/step - loss: 0.7404 - accuracy: 0.8311\n",
      "Epoch 31/50\n",
      "18/18 [==============================] - 6s 337ms/step - loss: 0.7252 - accuracy: 0.8333\n",
      "Epoch 32/50\n",
      "18/18 [==============================] - 6s 339ms/step - loss: 0.6719 - accuracy: 0.8477\n",
      "Epoch 33/50\n",
      "18/18 [==============================] - 6s 332ms/step - loss: 0.6743 - accuracy: 0.8461\n",
      "Epoch 34/50\n",
      "18/18 [==============================] - 6s 336ms/step - loss: 0.6355 - accuracy: 0.8566\n",
      "Epoch 35/50\n",
      "18/18 [==============================] - 6s 334ms/step - loss: 0.6164 - accuracy: 0.8619\n",
      "Epoch 36/50\n",
      "18/18 [==============================] - 6s 344ms/step - loss: 0.6147 - accuracy: 0.8587\n",
      "Epoch 37/50\n",
      "18/18 [==============================] - 6s 334ms/step - loss: 0.5611 - accuracy: 0.8740\n",
      "Epoch 38/50\n",
      "18/18 [==============================] - 6s 331ms/step - loss: 0.5573 - accuracy: 0.8754\n",
      "Epoch 39/50\n",
      "18/18 [==============================] - 6s 332ms/step - loss: 0.5397 - accuracy: 0.8803\n",
      "Epoch 40/50\n",
      "18/18 [==============================] - 6s 335ms/step - loss: 0.5486 - accuracy: 0.8742\n",
      "Epoch 41/50\n",
      "18/18 [==============================] - 6s 340ms/step - loss: 0.4813 - accuracy: 0.8927\n",
      "Epoch 42/50\n",
      "18/18 [==============================] - 6s 336ms/step - loss: 0.4852 - accuracy: 0.8910\n",
      "Epoch 43/50\n",
      "18/18 [==============================] - 6s 335ms/step - loss: 0.4753 - accuracy: 0.8943\n",
      "Epoch 44/50\n",
      "18/18 [==============================] - 6s 333ms/step - loss: 0.4669 - accuracy: 0.8961\n",
      "Epoch 45/50\n",
      "18/18 [==============================] - 6s 344ms/step - loss: 0.4490 - accuracy: 0.8971\n",
      "Epoch 46/50\n",
      "18/18 [==============================] - 6s 335ms/step - loss: 0.4242 - accuracy: 0.9056\n",
      "Epoch 47/50\n",
      "18/18 [==============================] - 6s 339ms/step - loss: 0.4492 - accuracy: 0.8971\n",
      "Epoch 48/50\n",
      "18/18 [==============================] - 6s 342ms/step - loss: 0.3951 - accuracy: 0.9116\n",
      "Epoch 49/50\n",
      "18/18 [==============================] - 6s 334ms/step - loss: 0.3868 - accuracy: 0.9129\n",
      "Epoch 50/50\n",
      "18/18 [==============================] - 6s 341ms/step - loss: 0.4193 - accuracy: 0.9024\n"
     ]
    },
    {
     "data": {
      "text/plain": [
       "<keras.callbacks.History at 0x7fa1775c5940>"
      ]
     },
     "execution_count": 31,
     "metadata": {},
     "output_type": "execute_result"
    }
   ],
   "source": [
    "model.fit(x_train, y_train,\n",
    "          epochs=50,\n",
    "          batch_size=512)"
   ]
  },
  {
   "cell_type": "code",
   "execution_count": 37,
   "id": "86bec57e",
   "metadata": {},
   "outputs": [
    {
     "name": "stdout",
     "output_type": "stream",
     "text": [
      "정확도: 0.4969\n"
     ]
    }
   ],
   "source": [
    "y_pred = model.predict(x_test)\n",
    "acc_test = accuracy_score(y_test, tf.argmax(y_pred, axis=-1))\n",
    "print(f'정확도: {acc_test:.4f}')"
   ]
  },
  {
   "cell_type": "code",
   "execution_count": 55,
   "id": "abba3bf4",
   "metadata": {},
   "outputs": [
    {
     "name": "stdout",
     "output_type": "stream",
     "text": [
      "f1 score\n",
      "class 0: 0.1176\n",
      "class 1: 0.2140\n",
      "class 2: 0.0000\n",
      "class 3: 0.7947\n",
      "class 4: 0.5998\n",
      "class 5: 0.0000\n",
      "class 6: 0.3200\n",
      "class 7: 0.0000\n",
      "class 8: 0.1667\n",
      "class 9: 0.0851\n",
      "class 10: 0.0870\n",
      "class 11: 0.1951\n",
      "class 12: 0.1000\n",
      "class 13: 0.0698\n",
      "class 14: 0.0000\n",
      "class 15: 0.0000\n",
      "class 16: 0.1297\n",
      "class 17: 0.0000\n",
      "class 18: 0.0000\n",
      "class 19: 0.3433\n",
      "class 20: 0.1983\n",
      "class 21: 0.1455\n",
      "class 22: 0.0000\n",
      "class 23: 0.0000\n",
      "class 24: 0.0488\n",
      "class 25: 0.2083\n",
      "class 26: 0.0000\n",
      "class 27: 0.0000\n",
      "class 28: 0.0000\n",
      "class 29: 0.0000\n",
      "class 30: 0.0952\n",
      "class 31: 0.0000\n",
      "class 32: 0.1176\n",
      "class 33: 0.0000\n",
      "class 34: 0.0000\n",
      "class 35: 0.0000\n",
      "class 36: 0.0000\n",
      "class 37: 0.0000\n",
      "class 38: 0.0000\n",
      "class 39: 0.0000\n",
      "class 40: 0.2667\n",
      "class 41: 0.0000\n",
      "class 42: 0.0000\n",
      "class 43: 0.1667\n",
      "class 44: 0.7500\n",
      "class 45: 0.0000\n"
     ]
    }
   ],
   "source": [
    "print('f1 score')\n",
    "for i in range(46):\n",
    "    f1_test = f1_score(y_test, tf.argmax(y_pred, axis=1), labels=[i], average='micro')\n",
    "    print(f'class {i}: {f1_test:.4f}')"
   ]
  },
  {
   "cell_type": "markdown",
   "id": "820457fa",
   "metadata": {},
   "source": [
    "# 결론\n",
    "- 모델 성능\n",
    "    - 나이브 베이즈 모델과 SVC\n",
    "        - 5000 이후로는 모델 성능이 향상되지 않음\n",
    "    - 랜덤 포레스트\n",
    "        - 776 이후로 모델 성능이 오히려 떨어짐\n",
    "- vocabulary size에 따른 모델 성능\n",
    "    - 일정 수준 이상 올라가면 성능이 향상되지 않음\n",
    "        - 심지어 성능이 하락하는 현상도 발생함"
   ]
  },
  {
   "cell_type": "code",
   "execution_count": null,
   "id": "7df93147",
   "metadata": {},
   "outputs": [],
   "source": []
  }
 ],
 "metadata": {
  "kernelspec": {
   "display_name": "Python 3 (ipykernel)",
   "language": "python",
   "name": "python3"
  },
  "language_info": {
   "codemirror_mode": {
    "name": "ipython",
    "version": 3
   },
   "file_extension": ".py",
   "mimetype": "text/x-python",
   "name": "python",
   "nbconvert_exporter": "python",
   "pygments_lexer": "ipython3",
   "version": "3.9.7"
  }
 },
 "nbformat": 4,
 "nbformat_minor": 5
}
