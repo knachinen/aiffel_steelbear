{
 "cells": [
  {
   "cell_type": "code",
   "execution_count": 1,
   "id": "018fc6dd",
   "metadata": {},
   "outputs": [],
   "source": [
    "import random\n",
    "import re\n",
    "\n",
    "from konlpy.tag import Mecab\n",
    "from nltk.translate.bleu_score import sentence_bleu\n",
    "from nltk.translate.bleu_score import SmoothingFunction\n",
    "import numpy as np\n",
    "import pandas as pd\n",
    "import sentencepiece as spm\n",
    "import tensorflow as tf\n",
    "from tqdm.notebook import tqdm\n",
    "import nltk\n",
    "from gensim.models import Word2Vec"
   ]
  },
  {
   "cell_type": "markdown",
   "id": "4c8d9409",
   "metadata": {},
   "source": [
    "# 데이터 불러오기 "
   ]
  },
  {
   "cell_type": "code",
   "execution_count": 2,
   "id": "61d005a5",
   "metadata": {},
   "outputs": [
    {
     "data": {
      "text/html": [
       "<div>\n",
       "<style scoped>\n",
       "    .dataframe tbody tr th:only-of-type {\n",
       "        vertical-align: middle;\n",
       "    }\n",
       "\n",
       "    .dataframe tbody tr th {\n",
       "        vertical-align: top;\n",
       "    }\n",
       "\n",
       "    .dataframe thead th {\n",
       "        text-align: right;\n",
       "    }\n",
       "</style>\n",
       "<table border=\"1\" class=\"dataframe\">\n",
       "  <thead>\n",
       "    <tr style=\"text-align: right;\">\n",
       "      <th></th>\n",
       "      <th>Q</th>\n",
       "      <th>A</th>\n",
       "      <th>label</th>\n",
       "    </tr>\n",
       "  </thead>\n",
       "  <tbody>\n",
       "    <tr>\n",
       "      <th>0</th>\n",
       "      <td>12시 땡!</td>\n",
       "      <td>하루가 또 가네요.</td>\n",
       "      <td>0</td>\n",
       "    </tr>\n",
       "    <tr>\n",
       "      <th>1</th>\n",
       "      <td>1지망 학교 떨어졌어</td>\n",
       "      <td>위로해 드립니다.</td>\n",
       "      <td>0</td>\n",
       "    </tr>\n",
       "    <tr>\n",
       "      <th>2</th>\n",
       "      <td>3박4일 놀러가고 싶다</td>\n",
       "      <td>여행은 언제나 좋죠.</td>\n",
       "      <td>0</td>\n",
       "    </tr>\n",
       "    <tr>\n",
       "      <th>3</th>\n",
       "      <td>3박4일 정도 놀러가고 싶다</td>\n",
       "      <td>여행은 언제나 좋죠.</td>\n",
       "      <td>0</td>\n",
       "    </tr>\n",
       "    <tr>\n",
       "      <th>4</th>\n",
       "      <td>PPL 심하네</td>\n",
       "      <td>눈살이 찌푸려지죠.</td>\n",
       "      <td>0</td>\n",
       "    </tr>\n",
       "  </tbody>\n",
       "</table>\n",
       "</div>"
      ],
      "text/plain": [
       "                 Q            A  label\n",
       "0           12시 땡!   하루가 또 가네요.      0\n",
       "1      1지망 학교 떨어졌어    위로해 드립니다.      0\n",
       "2     3박4일 놀러가고 싶다  여행은 언제나 좋죠.      0\n",
       "3  3박4일 정도 놀러가고 싶다  여행은 언제나 좋죠.      0\n",
       "4          PPL 심하네   눈살이 찌푸려지죠.      0"
      ]
     },
     "execution_count": 2,
     "metadata": {},
     "output_type": "execute_result"
    }
   ],
   "source": [
    "dataset_df = pd.read_csv(\"~/data/ChatbotData.csv\")\n",
    "dataset_df.head()"
   ]
  },
  {
   "cell_type": "markdown",
   "id": "1c7860b4",
   "metadata": {},
   "source": [
    "## 결측치 확인 "
   ]
  },
  {
   "cell_type": "code",
   "execution_count": 3,
   "id": "9f18dfbf",
   "metadata": {},
   "outputs": [
    {
     "data": {
      "text/plain": [
       "Q        0\n",
       "A        0\n",
       "label    0\n",
       "dtype: int64"
      ]
     },
     "execution_count": 3,
     "metadata": {},
     "output_type": "execute_result"
    }
   ],
   "source": [
    "dataset_df.isna().sum()"
   ]
  },
  {
   "cell_type": "markdown",
   "id": "8f283bdc",
   "metadata": {},
   "source": [
    "## 중복 데이터 확인"
   ]
  },
  {
   "cell_type": "code",
   "execution_count": 4,
   "id": "2a2191cf",
   "metadata": {},
   "outputs": [
    {
     "data": {
      "text/plain": [
       "0"
      ]
     },
     "execution_count": 4,
     "metadata": {},
     "output_type": "execute_result"
    }
   ],
   "source": [
    "dataset_df.duplicated().sum()"
   ]
  },
  {
   "cell_type": "markdown",
   "id": "696a2066",
   "metadata": {},
   "source": [
    "## 질문/답변 분리"
   ]
  },
  {
   "cell_type": "code",
   "execution_count": 5,
   "id": "a2f441ca",
   "metadata": {},
   "outputs": [],
   "source": [
    "questions = dataset_df['Q'].to_numpy()\n",
    "answers = dataset_df['A'].to_numpy()"
   ]
  },
  {
   "cell_type": "code",
   "execution_count": 6,
   "id": "e525613e",
   "metadata": {},
   "outputs": [
    {
     "name": "stdout",
     "output_type": "stream",
     "text": [
      "(11823,) (11823,)\n"
     ]
    }
   ],
   "source": [
    "print(questions.shape, answers.shape)"
   ]
  },
  {
   "cell_type": "markdown",
   "id": "00a3fe13",
   "metadata": {},
   "source": [
    "# 데이터 정제"
   ]
  },
  {
   "cell_type": "code",
   "execution_count": 7,
   "id": "94f642be",
   "metadata": {},
   "outputs": [],
   "source": [
    "def preprocess_sentence(sentence):\n",
    "    sentence = sentence.lower()\n",
    "    for p in ['!', '?', '.', ',']:\n",
    "        sentence = sentence.replace(p, ' ' + p + ' ')\n",
    "    sentence = re.sub(r'[^a-zA-Zㄱ-ㅎ가-힣0-9!?\\., ]', ' ', sentence)\n",
    "    sentence = re.sub(r' +', ' ', sentence)\n",
    "    sentence = sentence.strip()\n",
    "    \n",
    "    return sentence"
   ]
  },
  {
   "cell_type": "markdown",
   "id": "e6251637",
   "metadata": {},
   "source": [
    "# 토큰화"
   ]
  },
  {
   "cell_type": "code",
   "execution_count": 8,
   "id": "64adc376",
   "metadata": {},
   "outputs": [],
   "source": [
    "mecab = Mecab()\n",
    "\n",
    "def build_corpus(sentences, tokenizer):\n",
    "    corpus = []\n",
    "    for sentence in sentences:\n",
    "        sentence = preprocess_sentence(sentence)\n",
    "        tokens = tokenizer.morphs(sentence)\n",
    "        corpus.append(' '.join(tokens))\n",
    "    return corpus"
   ]
  },
  {
   "cell_type": "code",
   "execution_count": 9,
   "id": "9af0fd5c",
   "metadata": {},
   "outputs": [],
   "source": [
    "que_corpus = build_corpus(questions, mecab)\n",
    "ans_corpus = build_corpus(answers, mecab)"
   ]
  },
  {
   "cell_type": "code",
   "execution_count": 10,
   "id": "112ca236",
   "metadata": {},
   "outputs": [
    {
     "name": "stdout",
     "output_type": "stream",
     "text": [
      "11823 11823\n",
      "12시 땡!\n",
      "12 시 땡 !\n"
     ]
    }
   ],
   "source": [
    "print(len(que_corpus), len(ans_corpus))\n",
    "print(questions[0])\n",
    "print(que_corpus[0])"
   ]
  },
  {
   "cell_type": "markdown",
   "id": "4d628aa4",
   "metadata": {},
   "source": [
    "# 데이터 증대 "
   ]
  },
  {
   "cell_type": "markdown",
   "id": "01cacb64",
   "metadata": {},
   "source": [
    "## 학습된 Word2Vec 모델 불러오기"
   ]
  },
  {
   "cell_type": "code",
   "execution_count": 11,
   "id": "5ac89de4",
   "metadata": {
    "scrolled": true
   },
   "outputs": [],
   "source": [
    "wv = Word2Vec.load('data/word2vec_ko.model').wv"
   ]
  },
  {
   "cell_type": "code",
   "execution_count": 12,
   "id": "a2dc1870",
   "metadata": {},
   "outputs": [
    {
     "data": {
      "text/plain": [
       "[('파인애플', 0.8756669759750366),\n",
       " ('아몬드', 0.8629516363143921),\n",
       " ('딸기', 0.8533044457435608),\n",
       " ('땅콩', 0.8528051376342773),\n",
       " ('바닐라', 0.8519390225410461),\n",
       " ('당근', 0.8484757542610168),\n",
       " ('카사바', 0.8473575711250305),\n",
       " ('코코넛', 0.8457838892936707),\n",
       " ('블루베리', 0.8431717157363892),\n",
       " ('망고', 0.8348483443260193)]"
      ]
     },
     "execution_count": 12,
     "metadata": {},
     "output_type": "execute_result"
    }
   ],
   "source": [
    "wv.most_similar('바나나')"
   ]
  },
  {
   "cell_type": "markdown",
   "id": "3574205d",
   "metadata": {},
   "source": [
    "## (원본, 원본), (augmented, 원본), (원본, augmented) 쌍으로 데이터 3배 증대하기 "
   ]
  },
  {
   "cell_type": "code",
   "execution_count": 13,
   "id": "e2087e17",
   "metadata": {},
   "outputs": [],
   "source": [
    "# 어휘 대치 함수\n",
    "def lexical_sub(sample_sentence, wv):\n",
    "    sample_tokens = sample_sentence.split()\n",
    "\n",
    "    # 랜덤으로 Word2Vec 사전에 존재하는 단어 고르기\n",
    "    for _ in range(len(sample_tokens)):\n",
    "        selected_tok = random.choice(sample_tokens)\n",
    "        if selected_tok in wv.key_to_index:\n",
    "            break\n",
    "        else:\n",
    "            # 못찾는다면 어휘 대치 하지 않음\n",
    "            selected_tok = None\n",
    "\n",
    "    result = \"\"\n",
    "    for tok in sample_tokens:\n",
    "        if tok is selected_tok:\n",
    "            result += wv.most_similar(tok)[0][0] + \" \"\n",
    "        else:\n",
    "            result += tok + \" \"\n",
    "    return result"
   ]
  },
  {
   "cell_type": "code",
   "execution_count": 14,
   "id": "42201d57",
   "metadata": {},
   "outputs": [
    {
     "data": {
      "application/vnd.jupyter.widget-view+json": {
       "model_id": "290c99d25c444cbc9a9238e39e2cdd34",
       "version_major": 2,
       "version_minor": 0
      },
      "text/plain": [
       "  0%|          | 0/11823 [00:00<?, ?it/s]"
      ]
     },
     "metadata": {},
     "output_type": "display_data"
    },
    {
     "name": "stdout",
     "output_type": "stream",
     "text": [
      "35469 35469\n"
     ]
    }
   ],
   "source": [
    "que_corpus_augmented = []\n",
    "ans_corpus_augmented = []\n",
    "\n",
    "for question, answer in tqdm(zip(que_corpus, ans_corpus), total=len(que_corpus)):\n",
    "    # 어휘 대치\n",
    "    question_augmented = lexical_sub(question, wv)\n",
    "    answer_augmented = lexical_sub(answer, wv)\n",
    "    \n",
    "    # 원본, 원본 쌍\n",
    "    que_corpus_augmented.append(question)\n",
    "    ans_corpus_augmented.append(answer)\n",
    "    \n",
    "    # augmented, 원본 쌍\n",
    "    que_corpus_augmented.append(question_augmented)\n",
    "    ans_corpus_augmented.append(answer)\n",
    "    \n",
    "    # 원본, augmented 쌍\n",
    "    que_corpus_augmented.append(question)\n",
    "    ans_corpus_augmented.append(answer_augmented)\n",
    "    \n",
    "print(len(que_corpus_augmented), len(ans_corpus_augmented))"
   ]
  },
  {
   "cell_type": "markdown",
   "id": "8f1b723a",
   "metadata": {},
   "source": [
    "## 벡터화 "
   ]
  },
  {
   "cell_type": "code",
   "execution_count": 15,
   "id": "79930b96",
   "metadata": {},
   "outputs": [
    {
     "data": {
      "application/vnd.jupyter.widget-view+json": {
       "model_id": "9d1c9ea63d8441b9980a149dc37eba6a",
       "version_major": 2,
       "version_minor": 0
      },
      "text/plain": [
       "  0%|          | 0/35469 [00:00<?, ?it/s]"
      ]
     },
     "metadata": {},
     "output_type": "display_data"
    },
    {
     "data": {
      "application/vnd.jupyter.widget-view+json": {
       "model_id": "001b99cfc3e14b2c89ff42c65123f0b0",
       "version_major": 2,
       "version_minor": 0
      },
      "text/plain": [
       "  0%|          | 0/35469 [00:00<?, ?it/s]"
      ]
     },
     "metadata": {},
     "output_type": "display_data"
    }
   ],
   "source": [
    "# 시작 토큰, 종료 토큰 추가\n",
    "for i in tqdm(range(len(que_corpus_augmented))):\n",
    "    que_corpus_augmented[i] = '<start> ' + que_corpus_augmented[i] + ' <end>'\n",
    "    \n",
    "for i in tqdm(range(len(ans_corpus_augmented))):\n",
    "    ans_corpus_augmented[i] = '<start> ' + ans_corpus_augmented[i] + ' <end>'"
   ]
  },
  {
   "cell_type": "code",
   "execution_count": 16,
   "id": "4ac07102",
   "metadata": {},
   "outputs": [],
   "source": [
    "# SentencePiece를 통해 vectorizer 생성\n",
    "def generate_vectorizer(corpus,\n",
    "                       vocab_size,\n",
    "                       pad_id=0,\n",
    "                       bos_id=1,\n",
    "                       eos_id=2,\n",
    "                       unk_id=3):\n",
    "    file = \"./corpus.txt\"\n",
    "    model = \"kor_spm\"\n",
    "\n",
    "    with open(file, 'w') as f:\n",
    "        for row in corpus:\n",
    "            f.write(str(row) + '\\n')\n",
    "\n",
    "    spm.SentencePieceTrainer.Train(\n",
    "        '--input=./%s --model_prefix=%s --vocab_size=%d --model_type=bpe '\\\n",
    "        % (file, model, vocab_size) + \\\n",
    "        '--pad_id=%d --bos_id=%d --bos_piece=<start> --eos_id=%d --eos_piece=<end> --unk_id=%d --unk_piece=<unk>'\\\n",
    "        % (pad_id, bos_id, eos_id, unk_id)\n",
    "    )\n",
    "\n",
    "    vectorizer = spm.SentencePieceProcessor()\n",
    "    vectorizer.Load('%s.model' % model)\n",
    "\n",
    "    return vectorizer"
   ]
  },
  {
   "cell_type": "code",
   "execution_count": 17,
   "id": "de0ea7a9",
   "metadata": {},
   "outputs": [
    {
     "name": "stderr",
     "output_type": "stream",
     "text": [
      "sentencepiece_trainer.cc(177) LOG(INFO) Running command: --input=././corpus.txt --model_prefix=kor_spm --vocab_size=8000 --model_type=bpe --pad_id=0 --bos_id=1 --bos_piece=<start> --eos_id=2 --eos_piece=<end> --unk_id=3 --unk_piece=<unk>\n",
      "sentencepiece_trainer.cc(77) LOG(INFO) Starts training with : \n",
      "trainer_spec {\n",
      "  input: ././corpus.txt\n",
      "  input_format: \n",
      "  model_prefix: kor_spm\n",
      "  model_type: BPE\n",
      "  vocab_size: 8000\n",
      "  self_test_sample_size: 0\n",
      "  character_coverage: 0.9995\n",
      "  input_sentence_size: 0\n",
      "  shuffle_input_sentence: 1\n",
      "  seed_sentencepiece_size: 1000000\n",
      "  shrinking_factor: 0.75\n",
      "  max_sentence_length: 4192\n",
      "  num_threads: 16\n",
      "  num_sub_iterations: 2\n",
      "  max_sentencepiece_length: 16\n",
      "  split_by_unicode_script: 1\n",
      "  split_by_number: 1\n",
      "  split_by_whitespace: 1\n",
      "  split_digits: 0\n",
      "  treat_whitespace_as_suffix: 0\n",
      "  allow_whitespace_only_pieces: 0\n",
      "  required_chars: \n",
      "  byte_fallback: 0\n",
      "  vocabulary_output_piece_score: 1\n",
      "  train_extremely_large_corpus: 0\n",
      "  hard_vocab_limit: 1\n",
      "  use_all_vocab: 0\n",
      "  unk_id: 3\n",
      "  bos_id: 1\n",
      "  eos_id: 2\n",
      "  pad_id: 0\n",
      "  unk_piece: <unk>\n",
      "  bos_piece: <start>\n",
      "  eos_piece: <end>\n",
      "  pad_piece: <pad>\n",
      "  unk_surface:  ⁇ \n",
      "}\n",
      "normalizer_spec {\n",
      "  name: nmt_nfkc\n",
      "  add_dummy_prefix: 1\n",
      "  remove_extra_whitespaces: 1\n",
      "  escape_whitespaces: 1\n",
      "  normalization_rule_tsv: \n",
      "}\n",
      "denormalizer_spec {}\n",
      "trainer_interface.cc(329) LOG(INFO) SentenceIterator is not specified. Using MultiFileSentenceIterator.\n",
      "trainer_interface.cc(178) LOG(INFO) Loading corpus: ././corpus.txt\n",
      "trainer_interface.cc(385) LOG(INFO) Loaded all 70938 sentences\n",
      "trainer_interface.cc(400) LOG(INFO) Adding meta_piece: <pad>\n",
      "trainer_interface.cc(400) LOG(INFO) Adding meta_piece: <start>\n",
      "trainer_interface.cc(400) LOG(INFO) Adding meta_piece: <end>\n",
      "trainer_interface.cc(400) LOG(INFO) Adding meta_piece: <unk>\n",
      "trainer_interface.cc(405) LOG(INFO) Normalizing sentences...\n",
      "trainer_interface.cc(466) LOG(INFO) all chars count=1641957\n",
      "trainer_interface.cc(477) LOG(INFO) Done: 99.9503% characters are covered.\n",
      "trainer_interface.cc(487) LOG(INFO) Alphabet size=1101\n",
      "trainer_interface.cc(488) LOG(INFO) Final character coverage=0.999503\n",
      "trainer_interface.cc(520) LOG(INFO) Done! preprocessed 70938 sentences.\n",
      "trainer_interface.cc(526) LOG(INFO) Tokenizing input sentences with whitespace: 70938\n",
      "trainer_interface.cc(537) LOG(INFO) Done! 8302\n",
      "bpe_model_trainer.cc(167) LOG(INFO) Updating active symbols. max_freq=39849 min_freq=79\n",
      "bpe_model_trainer.cc(258) LOG(INFO) Added: freq=6896 size=20 all=10246 active=1598 piece=▁나\n",
      "bpe_model_trainer.cc(258) LOG(INFO) Added: freq=3242 size=40 all=10627 active=1979 piece=▁생\n",
      "bpe_model_trainer.cc(258) LOG(INFO) Added: freq=2559 size=60 all=10996 active=2348 piece=▁는데\n",
      "bpe_model_trainer.cc(258) LOG(INFO) Added: freq=1978 size=80 all=11204 active=2556 piece=▁너무\n",
      "bpe_model_trainer.cc(258) LOG(INFO) Added: freq=1271 size=100 all=11372 active=2724 piece=▁많이\n",
      "bpe_model_trainer.cc(167) LOG(INFO) Updating active symbols. max_freq=1269 min_freq=67\n",
      "bpe_model_trainer.cc(258) LOG(INFO) Added: freq=1133 size=120 all=11637 active=1266 piece=▁중\n",
      "bpe_model_trainer.cc(258) LOG(INFO) Added: freq=968 size=140 all=11796 active=1425 piece=▁괜찮\n",
      "bpe_model_trainer.cc(258) LOG(INFO) Added: freq=783 size=160 all=11951 active=1580 piece=▁과\n",
      "bpe_model_trainer.cc(258) LOG(INFO) Added: freq=654 size=180 all=12168 active=1797 piece=▁해서\n",
      "bpe_model_trainer.cc(258) LOG(INFO) Added: freq=593 size=200 all=12255 active=1884 piece=▁우\n",
      "bpe_model_trainer.cc(167) LOG(INFO) Updating active symbols. max_freq=592 min_freq=59\n",
      "bpe_model_trainer.cc(258) LOG(INFO) Added: freq=520 size=220 all=12372 active=1100 piece=▁쓰\n",
      "bpe_model_trainer.cc(258) LOG(INFO) Added: freq=477 size=240 all=12509 active=1237 piece=▁위\n",
      "bpe_model_trainer.cc(258) LOG(INFO) Added: freq=445 size=260 all=12645 active=1373 piece=▁추\n",
      "bpe_model_trainer.cc(258) LOG(INFO) Added: freq=417 size=280 all=12748 active=1476 piece=▁매\n",
      "bpe_model_trainer.cc(258) LOG(INFO) Added: freq=400 size=300 all=12852 active=1580 piece=▁합니다\n",
      "bpe_model_trainer.cc(167) LOG(INFO) Updating active symbols. max_freq=398 min_freq=53\n",
      "bpe_model_trainer.cc(258) LOG(INFO) Added: freq=383 size=320 all=12920 active=1068 piece=▁서로\n",
      "bpe_model_trainer.cc(258) LOG(INFO) Added: freq=360 size=340 all=12984 active=1132 piece=▁시작\n",
      "bpe_model_trainer.cc(258) LOG(INFO) Added: freq=321 size=360 all=13096 active=1244 piece=▁기분\n",
      "bpe_model_trainer.cc(258) LOG(INFO) Added: freq=298 size=380 all=13124 active=1272 piece=▁떠\n",
      "bpe_model_trainer.cc(258) LOG(INFO) Added: freq=276 size=400 all=13196 active=1344 piece=▁커\n",
      "bpe_model_trainer.cc(167) LOG(INFO) Updating active symbols. max_freq=275 min_freq=48\n",
      "bpe_model_trainer.cc(258) LOG(INFO) Added: freq=263 size=420 all=13233 active=1030 piece=▁째\n",
      "bpe_model_trainer.cc(258) LOG(INFO) Added: freq=249 size=440 all=13311 active=1108 piece=▁유\n",
      "bpe_model_trainer.cc(258) LOG(INFO) Added: freq=238 size=460 all=13390 active=1187 piece=▁기다리\n",
      "bpe_model_trainer.cc(258) LOG(INFO) Added: freq=221 size=480 all=13444 active=1241 piece=지막\n",
      "bpe_model_trainer.cc(258) LOG(INFO) Added: freq=210 size=500 all=13485 active=1282 piece=▁도록\n",
      "bpe_model_trainer.cc(167) LOG(INFO) Updating active s"
     ]
    }
   ],
   "source": [
    "VOCAB_SIZE = 8000\n",
    "\n",
    "vectorizer = generate_vectorizer(que_corpus_augmented + ans_corpus_augmented,\n",
    "                                vocab_size=VOCAB_SIZE)"
   ]
  },
  {
   "cell_type": "code",
   "execution_count": 18,
   "id": "164ea8ed",
   "metadata": {},
   "outputs": [
    {
     "name": "stderr",
     "output_type": "stream",
     "text": [
      "ymbols. max_freq=210 min_freq=43\n",
      "bpe_model_trainer.cc(258) LOG(INFO) Added: freq=196 size=520 all=13525 active=1041 piece=▁벌\n",
      "bpe_model_trainer.cc(258) LOG(INFO) Added: freq=188 size=540 all=13572 active=1088 piece=▁찾아\n",
      "bpe_model_trainer.cc(258) LOG(INFO) Added: freq=180 size=560 all=13641 active=1157 piece=▁조심\n",
      "bpe_model_trainer.cc(258) LOG(INFO) Added: freq=174 size=580 all=13697 active=1213 piece=▁크\n",
      "bpe_model_trainer.cc(258) LOG(INFO) Added: freq=165 size=600 all=13738 active=1254 piece=▁확실\n",
      "bpe_model_trainer.cc(167) LOG(INFO) Updating active symbols. max_freq=164 min_freq=39\n",
      "bpe_model_trainer.cc(258) LOG(INFO) Added: freq=158 size=620 all=13791 active=1053 piece=▁밥\n",
      "bpe_model_trainer.cc(258) LOG(INFO) Added: freq=150 size=640 all=13861 active=1123 piece=▁건강\n",
      "bpe_model_trainer.cc(258) LOG(INFO) Added: freq=142 size=660 all=13872 active=1134 piece=▁글\n",
      "bpe_model_trainer.cc(258) LOG(INFO) Added: freq=139 size=680 all=13915 active=1177 piece=▁마주\n",
      "bpe_model_trainer.cc(258) LOG(INFO) Added: freq=132 size=700 all=13970 active=1232 piece=▁잊혀\n",
      "bpe_model_trainer.cc(167) LOG(INFO) Updating active symbols. max_freq=131 min_freq=35\n",
      "bpe_model_trainer.cc(258) LOG(INFO) Added: freq=127 size=720 all=14016 active=1044 piece=다고\n",
      "bpe_model_trainer.cc(258) LOG(INFO) Added: freq=122 size=740 all=14059 active=1087 piece=▁없이\n",
      "bpe_model_trainer.cc(258) LOG(INFO) Added: freq=119 size=760 all=14075 active=1103 piece=▁스러운\n",
      "bpe_model_trainer.cc(258) LOG(INFO) Added: freq=115 size=780 all=14119 active=1147 piece=▁밤\n",
      "bpe_model_trainer.cc(258) LOG(INFO) Added: freq=110 size=800 all=14151 active=1179 piece=▁빨리\n",
      "bpe_model_trainer.cc(167) LOG(INFO) Updating active symbols. max_freq=109 min_freq=32\n",
      "bpe_model_trainer.cc(258) LOG(INFO) Added: freq=106 size=820 all=14171 active=1020 piece=러워\n",
      "bpe_model_trainer.cc(258) LOG(INFO) Added: freq=102 size=840 all=14206 active=1055 piece=▁따뜻\n",
      "bpe_model_trainer.cc(258) LOG(INFO) Added: freq=98 size=860 all=14226 active=1075 piece=▁져\n",
      "bpe_model_trainer.cc(258) LOG(INFO) Added: freq=96 size=880 all=14236 active=1085 piece=▁아닌데\n",
      "bpe_model_trainer.cc(258) LOG(INFO) Added: freq=91 size=900 all=14249 active=1098 piece=▁마련\n",
      "bpe_model_trainer.cc(167) LOG(INFO) Updating active symbols. max_freq=91 min_freq=29\n",
      "bpe_model_trainer.cc(258) LOG(INFO) Added: freq=89 size=920 all=14271 active=1023 piece=▁여러\n",
      "bpe_model_trainer.cc(258) LOG(INFO) Added: freq=84 size=940 all=14301 active=1053 piece=▁시원\n",
      "bpe_model_trainer.cc(258) LOG(INFO) Added: freq=81 size=960 all=14310 active=1062 piece=▁고자\n",
      "bpe_model_trainer.cc(258) LOG(INFO) Added: freq=78 size=980 all=14314 active=1066 piece=야지\n",
      "bpe_model_trainer.cc(258) LOG(INFO) Added: freq=77 size=1000 all=14331 active=1083 piece=▁얘기\n",
      "bpe_model_trainer.cc(167) LOG(INFO) Updating active symbols. max_freq=77 min_freq=27\n",
      "bpe_model_trainer.cc(258) LOG(INFO) Added: freq=75 size=1020 all=14331 active=1001 piece=▁쇼핑\n",
      "bpe_model_trainer.cc(258) LOG(INFO) Added: freq=72 size=1040 all=14328 active=998 piece=▁월급\n",
      "bpe_model_trainer.cc(258) LOG(INFO) Added: freq=70 size=1060 all=14351 active=1021 piece=▁어울\n",
      "bpe_model_trainer.cc(258) LOG(INFO) Added: freq=67 size=1080 all=14352 active=1022 piece=디어\n",
      "bpe_model_trainer.cc(258) LOG(INFO) Added: freq=65 size=1100 all=14365 active=1035 piece=▁래\n",
      "bpe_model_trainer.cc(167) LOG(INFO) Updating active symbols. max_freq=65 min_freq=25\n",
      "bpe_model_trainer.cc(258) LOG(INFO) Added: freq=64 size=1120 all=14360 active=994 piece=▁청소\n",
      "bpe_model_trainer.cc(258) LOG(INFO) Added: freq=62 size=1140 all=14369 active=1003 piece=▁까먹\n",
      "bpe_model_trainer.cc(258) LOG(INFO) Added: freq=61 size=1160 all=14371 active=1005 piece=▁대학\n",
      "bpe_model_trainer.cc(258) LOG(INFO) Added: freq=59 size=1180 all=14386 active=1020 piece=▁특\n",
      "bpe_model_trainer.cc(258) LOG(INFO) Added: freq=58 size=1200 all=14404 active=1038 piece=▁최선\n",
      "bpe_model_trainer.cc(167) LOG(INFO) Updating active symbols. max_freq=57 min_freq=23\n",
      "bpe_model_trainer.cc(258) LOG(INFO) Added: freq=56 size=1220 all=14412 active=1009 piece=▁삭제\n",
      "bpe_model_trainer.cc(258) LOG(INFO) Added: freq=55 size=1240 all=14418 active=1015 piece=▁매력\n",
      "bpe_model_trainer.cc(258) LOG(INFO) Added: freq=54 size=1260 all=14420 active=1017 piece=▁사라\n",
      "bpe_model_trainer.cc(258) LOG(INFO) Added: freq=53 size=1280 all=14438 active=1035 piece=▁프로\n",
      "bpe_model_trainer.cc(258) LOG(INFO) Added: freq=52 size=1300 all=14448 active=1045 piece=▁인상\n",
      "bpe_model_trainer.cc(167) LOG(INFO) Updating active symbols. max_freq=52 min_freq=22\n",
      "bpe_model_trainer.cc(258) LOG(INFO) Added: freq=51 size=1320 all=14461 active=1013 piece=▁아무리\n",
      "bpe_model_trainer.cc(258) LOG(INFO) Added: freq=50 size=1340 all=14472 active=1024 piece=▁헤아리\n",
      "bpe_model_trainer.cc(258) LOG(INFO) Added: freq=48 size=1360 all=14468 active=1020 piece=▁업\n",
      "bpe_model_trainer.cc(258) LOG(INFO) Added: freq=48 size=1380 all=14472 active=1024 piece=▁이름\n",
      "bpe_model_trainer.cc(258) LOG(INFO) Added: freq=47 size=1400 all=14488 active=1040 piece=▁심하\n",
      "bpe_model_trainer.cc(167) LOG(INFO) Updating active symbols. max_freq=47 min_freq=21\n",
      "bpe_model_trainer.cc(258) LOG(INFO) Added: freq=46 size=1420 all=14477 active=990 piece=▁바뀔\n",
      "bpe_model_trainer.cc(258) LOG(INFO) Added: freq=45 size=1440 all=14478 active=991 piece=▁배고\n",
      "bpe_model_trainer.cc(258) LOG(INFO) Added: freq=44 size=1460 all=14487 active=1000 piece=▁면접\n",
      "bpe_model_trainer.cc(258) LOG(INFO) Added: freq=43 size=1480 all=14485 active=998 piece=▁로서\n",
      "bpe_model_trainer.cc(258) LOG(INFO) Added: freq=42 size=1500 all=14487 active=1000 piece=▁어린\n",
      "bpe_model_trainer.cc(167) LOG(INFO) Updating active symbols. max_freq=42 min_freq=19\n",
      "bpe_model_trainer.cc(258) LOG(INFO) Added: freq=41 size=1520 all=14495 active=1005 piece=▁깔끔\n",
      "bpe_model_trainer.cc(258) LOG(INFO) Added: freq=40 size=1540 all=14504 active=1014 piece=▁거울\n",
      "bpe_model_trainer.cc(258) LOG(INFO) Added: freq=39 size=1560 all=14507 active=1017 piece=▁딸\n",
      "bpe_model_trainer.cc(258) LOG(INFO) Added: freq=39 size=1580 all=14512 active=1022 piece=▁조르\n",
      "bpe_model_trainer.cc(258) LOG(INFO) Added: freq=38 size=1600 all=14509 active=1019 piece=▁용돈\n",
      "bpe_model_trainer.cc(167) LOG(INFO) Updating active symbols. max_freq=38 min_freq=18\n",
      "bpe_model_trainer.cc(258) LOG(INFO) Added: freq=37 size=1620 all=14520 active=1012 piece=▁무렵\n",
      "bpe_model_trainer.cc(258) LOG(INFO) Added: freq=36 size=1640 all=14506 active=998 piece=▁넌\n",
      "bpe_model_trainer.cc(258) LOG(INFO) Added: freq=36 size=1660 all=14503 active=995 piece=▁마스크\n",
      "bpe_model_trainer.cc(258) LOG(INFO) Added: freq=35 size=1680 all=14490 active=982 piece=▁셔야\n",
      "bpe_model_trainer.cc(258) LOG(INFO) Added: freq=34 size=1700 all=14479 active=971 piece=▁딴\n",
      "bpe_model_trainer.cc(167) LOG(INFO) Updating active symbols. max_freq=34 min_freq=17\n",
      "bpe_model_trainer.cc(258) LOG(INFO) Added: freq=34 size=1720 all=14479 active=1001 piece=▁태도\n",
      "bpe_model_trainer.cc(258) LOG(INFO) Added: freq=33 size=1740 all=14474 active=996 piece=▁는가\n",
      "bpe_model_trainer.cc(258) LOG(INFO) Added: freq=33 size=1760 all=14470 active=992 piece=▁아무렇\n",
      "bpe_model_trainer.cc(258) LOG(INFO) Added: freq=32 size=1780 all=14464 active=986 piece=▁보낼\n",
      "bpe_model_trainer.cc(258) LOG(INFO) Added: freq=32 size=1800 all=14456 active=978 piece=▁아름다운\n",
      "bpe_model_trainer.cc(167) LOG(INFO) Updating active symbols. max_freq=31 min_freq=16\n",
      "bpe_model_trainer.cc(258) LOG(INFO) Added: freq=31 size=1820 all=14453 active=998 piece=▁흔적\n",
      "bpe_model_trainer.cc(258) LOG(INFO) Added: freq=30 size=1840 all=14452 active=997 piece=▁돼서\n",
      "bpe_model_trainer.cc(258) LOG(INFO) Added: freq=30 size=1860 all=14449 active=994 piece=▁아까워\n",
      "bpe_model_trainer.cc(258) LOG(INFO) Added: freq=29 size=1880 all=14466 active=1011 piece=이스\n",
      "bpe_model_trainer.cc(258) LOG(INFO) Added: freq=29 size=1900 all=14456 active=1001 piece=▁회식\n",
      "bpe_model_trainer.cc(167) LOG(INFO) Updating active symbols. max_freq=29 min_freq=15\n",
      "bpe_model_trainer.cc(258) LOG(INFO) Added: freq=28 size=1920 all=14460 active=1005 piece=▁때리\n",
      "bpe_model_trainer.cc(258) LOG(INFO) Added: freq=28 size=1940 all=14448 active=993 piece=▁배고파\n",
      "bpe_model_trainer.cc(258) LOG(INFO) Added: freq=27 size=1960 all=14451 active=996 piece=▁맛난\n",
      "bpe_model_trainer.cc(258) LOG(INFO) Added: freq=27 size=1980 all=14447 active=992 piece=▁파혼\n",
      "bpe_model_trainer.cc(258) LOG(INFO) Added: freq=26 size=2000 all=14430 active=975 piece=▁레\n",
      "bpe_model_trainer.cc(167) LOG(INFO) Updating active symbols. max_freq=26 min_freq=14\n",
      "bpe_model_trainer.cc(258) LOG(INFO) Added: freq=26 size=2020 all=14432 active=996 piece=▁센스\n",
      "bpe_model_trainer.cc(258) LOG(INFO) Added: freq=26 size=2040 all=14416 active=980 piece=▁곧바로\n",
      "bpe_model_trainer.cc(258) LOG(INFO) Added: freq=25 size=2060 all=14422 active=986 piece=▁경쟁\n",
      "bpe_model_trainer.cc(258) LOG(INFO) Added: freq=25 size=2080 all=14417 active=981 piece=▁여러분\n",
      "bpe_model_trainer.cc(258) LOG(INFO) Added: freq=24 size=2100 all=14417 active=981 piece=▁격려\n",
      "bpe_model_trainer.cc(167) LOG(INFO) Updating active symbols. max_freq=24 min_freq=13\n",
      "bpe_model_trainer.cc(258) LOG(INFO) Added: freq=24 size=2120 all=14410 active=994 piece=▁부드\n",
      "bpe_model_trainer.cc(258) LOG(INFO) Added: freq=24 size=2140 all=14401 active=985 piece=▁코스\n",
      "bpe_model_trainer.cc(258) LOG(INFO) Added: freq=24 size=2160 all=14386 active=970 piece=▁움직이\n",
      "bpe_model_trainer.cc(258) LOG(INFO) Added: freq=23 size=2180 all=14393 active=977 piece=▁공개\n",
      "bpe_model_trainer.cc(258) LOG(INFO) Added: freq=23 size=2200 all=14382 active=966 piece=▁어떠\n",
      "bpe_model_trainer.cc(167) LOG(INFO) Updating active symbols. max_freq=23 min_freq=12\n",
      "bpe_model_trainer.cc(258) LOG(INFO) Added: freq=23 size=2220 all=14368 active=985 piece=▁아닐까\n",
      "bpe_model_trainer.cc(258) LOG(INFO) Added: freq=22 size=2240 all=14375 active=992 piece=괴감\n",
      "bpe_model_trainer.cc(258) LOG(INFO) Added: freq=22 size=2260 all=14374 active=991 piece=▁신뢰\n",
      "bpe_model_trainer.cc(258) LOG(INFO) Added: freq=22 size=2280 all=14358 active=975 piece=▁우연히\n",
      "bpe_model_trainer.cc(258) LOG(INFO) Added: freq=21 size=2300 all=14381 active=998 piece=어넘\n",
      "bpe_model_trainer.cc(167) LOG(INFO) Updating active symbols. max_freq=21 min_freq=12\n",
      "bpe_model_trainer.cc(258) LOG(INFO) Added: freq=21 size=2320 all=14377 active=996 piece=▁려구\n",
      "bpe_model_trainer.cc(258) LOG(INFO) Added: freq=21 size=2340 all=14364 active=983 piece=▁제거\n",
      "bpe_model_trainer.cc(258) LOG(INFO) Added: freq=21 size=2360 all=14354 active=973 piece=▁로부터\n",
      "bpe_model_trainer.cc(258) LOG(INFO) Added: freq=20 size=2380 all=14341 active=960 piece=▁앉\n",
      "bpe_model_trainer.cc(258) LOG(INFO) Added: freq=20 size=2400 all=14335 active=954 piece=▁매주\n",
      "bpe_model_trainer.cc(167) LOG(INFO) Updating active symbols. max_freq=20 min_freq=12\n",
      "bpe_model_trainer.cc(258) LOG(INFO) Added: freq=20 size=2420 all=14323 active=989 piece=▁조건\n",
      "bpe_model_trainer.cc(258) LOG(INFO) Added: freq=20 size=2440 all=14305 active=971 piece=▁해지지\n",
      "bpe_model_trainer.cc(258) LOG(INFO) Added: freq=19 size=2460 all=14310 active=976 piece=▁무릎\n",
      "bpe_model_trainer.cc(258) LOG(INFO) Added: freq=19 size=2480 all=14301 active=967 piece=▁흥미\n",
      "bpe_model_trainer.cc(258) LOG(INFO) Added: freq=18 size=2500 all=14298 active=964 piece=▁옳\n",
      "bpe_model_trainer.cc(167) LOG(INFO) Updating active symbols. max_freq=18 min_freq=11\n",
      "bpe_model_trainer.cc(258) LOG(INFO) Added: freq=18 size=2520 all=14295 active=997 piece=▁계기\n",
      "bpe_model_trainer.cc(258) LOG(INFO) Added: freq=18 size=2540 all=14285 active=987 piece=▁매번\n",
      "bpe_model_trainer.cc(258) LOG(INFO) Added: freq=18 size=2560 all=14271 active=973 piece=▁에선\n",
      "bpe_model_trainer.cc(258) LOG(INFO) Added: freq=18 size=2580 all=14262 active=964 piece=▁치유\n",
      "bpe_model_trainer.cc(258) LOG(INFO) Added: freq=18 size=2600 all=14247 active=949 piece=▁무거워\n",
      "bpe_model_trainer.cc(167) LOG(INFO) Updating active symbols. max_freq=18 min_freq=11\n",
      "bpe_model_trainer.cc(258) LOG(INFO) Added: freq=18 size=2620 all=14232 active=985 piece=▁화이트\n",
      "bpe_model_trainer.cc(258) LOG(INFO) Added: freq=17 size=2640 all=14230 active=983 piece=▁액\n",
      "bpe_model_trainer.cc(258) LOG(INFO) Added: freq=17 size=2660 all=14226 active=979 piece=▁대우\n",
      "bpe_model_trainer.cc(258) LOG(INFO) Added: freq=17 size=2680 all=14219 active=972 piece=▁손해\n",
      "bpe_model_trainer.cc(258) LOG(INFO) Added: freq=17 size=2700 all=14205 active=958 piece=▁주인\n",
      "bpe_model_trainer.cc(167) LOG(INFO) Updating active symbols. max_freq=17 min_freq=10\n",
      "bpe_model_trainer.cc(258) LOG(INFO) Added: freq=17 size=2720 all=14188 active=983 piece=▁그만두\n",
      "bpe_model_trainer.cc(258) LOG(INFO) Added: freq=17 size=2740 all=14173 active=968 piece=▁흘러가\n",
      "bpe_model_trainer.cc(258) LOG(INFO) Added: freq=16 size=2760 all=14171 active=966 piece=▁김치\n",
      "bpe_model_trainer.cc(258) LOG(INFO) Added: freq=16 size=2780 all=14158 active=953 piece=▁일정\n",
      "bpe_model_trainer.cc(258) LOG(INFO) Added: freq=16 size=2800 all=14142 active=937 piece=▁돌아보\n",
      "bpe_model_trainer.cc(167) LOG(INFO) Updating active symbols. max_freq=16 min_freq=9\n",
      "bpe_model_trainer.cc(258) LOG(INFO) Added: freq=15 size=2820 all=14127 active=986 piece=▁엮\n",
      "bpe_model_trainer.cc(258) LOG(INFO) Added: freq=15 size=2840 all=14132 active=991 piece=통수\n",
      "bpe_model_trainer.cc(258) LOG(INFO) Added: freq=15 size=2860 all=14116 active=975 piece=▁당해\n",
      "bpe_model_trainer.cc(258) LOG(INFO) Added: freq=15 size=2880 all=14104 active=963 piece=▁손톱\n",
      "bpe_model_trainer.cc(258) LOG(INFO) Added: freq=15 size=2900 all=14086 active=945 piece=▁재개\n",
      "bpe_model_trainer.cc(167) LOG(INFO) Updating active symbols. max_freq=15 min_freq=9\n",
      "bpe_model_trainer.cc(258) LOG(INFO) Added: freq=15 size=2920 all=14073 active=988 piece=▁호칭\n",
      "bpe_model_trainer.cc(258) LOG(INFO) Added: freq=15 size=2940 all=14062 active=977 piece=▁미끄러\n",
      "bpe_model_trainer.cc(258) LOG(INFO) Added: freq=15 size=2960 all=14046 active=961 piece=▁흑역사\n",
      "bpe_model_trainer.cc(258) LOG(INFO) Added: freq=14 size=2980 all=14041 active=956 piece=다른\n",
      "bpe_model_trainer.cc(258) LOG(INFO) Added: freq=14 size=3000 all=14038 active=953 piece=▁기적\n",
      "bpe_model_trainer.cc(167) LOG(INFO) Updating active symbols. max_freq=14 min_freq=9\n",
      "bpe_model_trainer.cc(258) LOG(INFO) Added: freq=14 size=3020 all=14022 active=985 piece=▁불금\n",
      "bpe_model_trainer.cc(258) LOG(INFO) Added: freq=14 size=3040 all=14006 active=969 piece=▁일방\n",
      "bpe_model_trainer.cc(258) LOG(INFO) Added: freq=14 size=3060 all=13990 active=953 piece=▁생겨났\n",
      "bpe_model_trainer.cc(258) LOG(INFO) Added: freq=13 size=3080 all=13995 active=958 piece=영상\n",
      "bpe_model_trainer.cc(258) LOG(INFO) Added: freq=13 size=3100 all=13980 active=943 piece=▁등산\n",
      "bpe_model_trainer.cc(167) LOG(INFO) Updating active symbols. max_freq=13 min_freq=9\n",
      "bpe_model_trainer.cc(258) LOG(INFO) Added: freq=13 size=3120 all=13972 active=993 piece=▁지루\n",
      "bpe_model_trainer.cc(258) LOG(INFO) Added: freq=13 size=3140 all=13953 active=974 piece=▁전화기\n",
      "bpe_model_trainer.cc(258) LOG(INFO) Added: freq=12 size=3160 all=13949 active=970 piece=▁샌\n",
      "bpe_model_trainer.cc(258) LOG(INFO) Added: freq=12 size=3180 all=13953 active=974 piece=로워\n",
      "bpe_model_trainer.cc(258) LOG(INFO) Added: freq=12 size=3200 all=13972 active=993 piece=할까\n",
      "bpe_model_trainer.cc(167) LOG(INFO) Updating active symbols. max_freq=12 min_freq=8\n",
      "bpe_model_trainer.cc(258) LOG(INFO) Added: freq=12 size=3220 all=13956 active=983 piece=▁농구\n",
      "bpe_model_trainer.cc(258) LOG(INFO) Added: freq=12 size=3240 all=13942 active=969 piece=▁리드\n",
      "bpe_model_trainer.cc(258) LOG(INFO) Added: freq=12 size=3260 all=13927 active=954 piece=▁벅찰\n",
      "bpe_model_trainer.cc(258) LOG(INFO) Added: freq=12 size=3280 all=13910 active=937 piece=▁시려\n",
      "bpe_model_trainer.cc(258) LOG(INFO) Added: freq=12 size=3300 all=13893 active=920 piece=▁원한\n",
      "bpe_model_trainer.cc(167) LOG(INFO) Updating active symbols. max_freq=12 min_freq=8\n",
      "bpe_model_trainer.cc(258) LOG(INFO) Added: freq=12 size=3320 all=13878 active=985 piece=▁지각\n",
      "bpe_model_trainer.cc(258) LOG(INFO) Added: freq=12 size=3340 all=13860 active=967 piece=▁페메\n",
      "bpe_model_trainer.cc(258) LOG(INFO) Added: freq=12 size=3360 all=13847 active=954 piece=▁놔둬야\n",
      "bpe_model_trainer.cc(258) LOG(INFO) Added: freq=12 size=3380 all=13831 active=938 piece=▁무기력\n",
      "bpe_model_trainer.cc(258) LOG(INFO) Added: freq=12 size=3400 all=13813 active=920 piece=▁알아볼\n",
      "bpe_model_trainer.cc(167) LOG(INFO) Updating active symbols. max_freq=12 min_freq=7\n",
      "bpe_model_trainer.cc(258) LOG(INFO) Added: freq=12 size=3420 all=13794 active=982 piece=▁즐거울\n",
      "bpe_model_trainer.cc(258) LOG(INFO) Added: freq=12 size=3440 all=13774 active=962 piece=▁알아차려\n",
      "bpe_model_trainer.cc(258) LOG(INFO) Added: freq=11 size=3460 all=13766 active=954 piece=▁젊\n",
      "bpe_model_trainer.cc(258) LOG(INFO) Added: freq=11 size=3480 all=13774 active=962 piece=을까\n",
      "bpe_model_trainer.cc(258) LOG(INFO) Added: freq=11 size=3500 all=13767 active=955 piece=▁날려\n",
      "bpe_model_trainer.cc(167) LOG(INFO) Updating active symbols. max_freq=11 min_freq=7\n",
      "bpe_model_trainer.cc(258) LOG(INFO) Added: freq=11 size=3520 all=13753 active=987 piece=▁소소\n",
      "bpe_model_trainer.cc(258) LOG(INFO) Added: freq=11 size=3540 all=13738 active=972 piece=▁주의\n",
      "bpe_model_trainer.cc(258) LOG(INFO) Added: freq=11 size=3560 all=13725 active=959 piece=▁항해\n",
      "bpe_model_trainer.cc(258) LOG(INFO) Added: freq=11 size=3580 all=13710 active=944 piece=▁레시피\n",
      "bpe_model_trainer.cc(258) LOG(INFO) Added: freq=11 size=3600 all=13691 active=925 piece=▁정해져\n",
      "bpe_model_trainer.cc(167) LOG(INFO) Updating active symbols. max_freq=11 min_freq=6\n",
      "bpe_model_trainer.cc(258) LOG(INFO) Added: freq=10 size=3620 all=13679 active=989 piece=▁좌\n",
      "bpe_model_trainer.cc(258) LOG(INFO) Added: freq=10 size=3640 all=13698 active=1008 piece=춘기\n",
      "bpe_model_trainer.cc(258) LOG(INFO) Added: freq=10 size=3660 all=13686 active=996 piece=▁리야\n",
      "bpe_model_trainer.cc(258) LOG(INFO) Added: freq=10 size=3680 all=13682 active=992 piece=▁쓸모\n",
      "bpe_model_trainer.cc(258) LOG(INFO) Added: freq=10 size=3700 all=13666 active=976 piece=▁간만에\n",
      "bpe_model_trainer.cc(167) LOG(INFO) Updating active symbols. max_freq=10 min_freq=6\n",
      "bpe_model_trainer.cc(258) LOG(INFO) Added: freq=10 size=3720 all=13647 active=982 piece=▁악영향\n",
      "bpe_model_trainer.cc(258) LOG(INFO) Added: freq=9 size=3740 all=13636 active=971 piece=▁꿔\n",
      "bpe_model_trainer.cc(258) LOG(INFO) Added: freq=9 size=3760 all=13634 active=969 piece=▁쥐\n",
      "bpe_model_trainer.cc(258) LOG(INFO) Added: freq=9 size=3780 all=13638 active=973 piece=긋지\n",
      "bpe_model_trainer.cc(258) LOG(INFO) Added: freq=9 size=3800 all=13646 active=981 piece=시방\n",
      "bpe_model_trainer.cc(167) LOG(INFO) Updating active symbols. max_freq=9 min_freq=6\n",
      "bpe_model_trainer.cc(258) LOG(INFO) Added: freq=9 size=3820 all=13651 active=1005 piece=▁강해\n",
      "bpe_model_trainer.cc(258) LOG(INFO) Added: freq=9 size=3840 all=13639 active=993 piece=▁꼬박\n",
      "bpe_model_trainer.cc(258) LOG(INFO) Added: freq=9 size=3860 all=13624 active=978 piece=▁따른\n",
      "bpe_model_trainer.cc(258) LOG(INFO) Added: freq=9 size=3880 all=13607 active=961 piece=▁반했\n",
      "bpe_model_trainer.cc(258) LOG(INFO) Added: freq=9 size=3900 all=13587 active=941 piece=▁불쑥\n",
      "bpe_model_trainer.cc(167) LOG(INFO) Updating active symbols. max_freq=9 min_freq=6\n",
      "bpe_model_trainer.cc(258) LOG(INFO) Added: freq=9 size=3920 all=13572 active=985 piece=▁심난\n",
      "bpe_model_trainer.cc(258) LOG(INFO) Added: freq=9 size=3940 all=13556 active=969 piece=▁오후\n",
      "bpe_model_trainer.cc(258) LOG(INFO) Added: freq=9 size=3960 all=13536 active=949 piece=▁재설\n",
      "bpe_model_trainer.cc(258) LOG(INFO) Added: freq=9 size=3980 all=13517 active=930 piece=▁채우\n",
      "bpe_model_trainer.cc(258) LOG(INFO) Added: freq=9 size=4000 all=13498 active=911 piece=▁한결\n",
      "bpe_model_trainer.cc(167) LOG(INFO) Updating active symbols. max_freq=9 min_freq=6\n",
      "bpe_model_trainer.cc(258) LOG(INFO) Added: freq=9 size=4020 all=13489 active=992 piece=러워서\n",
      "bpe_model_trainer.cc(258) LOG(INFO) Added: freq=9 size=4040 all=13478 active=981 piece=▁도저히\n",
      "bpe_model_trainer.cc(258) LOG(INFO) Added: freq=9 size=4060 all=13458 active=961 piece=▁무한대\n",
      "bpe_model_trainer.cc(258) LOG(INFO) Added: freq=9 size=4080 all=13440 active=943 piece=▁신가요\n",
      "bpe_model_trainer.cc(258) LOG(INFO) Added: freq=9 size=4100 all=13421 active=924 piece=▁이어지\n",
      "bpe_model_trainer.cc(167) LOG(INFO) Updating active symbols. max_freq=9 min_freq=6\n",
      "bpe_model_trainer.cc(258) LOG(INFO) Added: freq=9 size=4120 all=13402 active=982 piece=▁간질간질\n",
      "bpe_model_trainer.cc(258) LOG(INFO) Added: freq=9 size=4140 all=13382 active=962 piece=▁이뤄지지\n",
      "bpe_model_trainer.cc(258) LOG(INFO) Added: freq=8 size=4160 all=13374 active=954 piece=▁징\n",
      "bpe_model_trainer.cc(258) LOG(INFO) Added: freq=8 size=4180 all=13386 active=966 piece=이집\n",
      "bpe_model_trainer.cc(258) LOG(INFO) Added: freq=8 size=4200 all=13376 active=956 piece=▁그쪽\n",
      "bpe_model_trainer.cc(167) LOG(INFO) Updating active symbols. max_freq=8 min_freq=6\n",
      "bpe_model_trainer.cc(258) LOG(INFO) Added: freq=8 size=4220 all=13357 active=982 piece=▁따르\n",
      "bpe_model_trainer.cc(258) LOG(INFO) Added: freq=8 size=4240 all=13341 active=966 piece=▁볼링\n",
      "bpe_model_trainer.cc(258) LOG(INFO) Added: freq=8 size=4260 all=13324 active=949 piece=▁쌓인\n",
      "bpe_model_trainer.cc(258) LOG(INFO) Added: freq=8 size=4280 all=13313 active=938 piece=▁저기\n",
      "bpe_model_trainer.cc(258) LOG(INFO) Added: freq=8 size=4300 all=13297 active=922 piece=▁평화\n",
      "bpe_model_trainer.cc(167) LOG(INFO) Updating active symbols. max_freq=8 min_freq=6\n",
      "bpe_model_trainer.cc(258) LOG(INFO) Added: freq=8 size=4320 all=13282 active=986 piece=▁난다고\n",
      "bpe_model_trainer.cc(258) LOG(INFO) Added: freq=8 size=4340 all=13262 active=966 piece=▁아이고\n",
      "bpe_model_trainer.cc(258) LOG(INFO) Added: freq=8 size=4360 all=13243 active=947 piece=▁들여다보\n",
      "bpe_model_trainer.cc(258) LOG(INFO) Added: freq=7 size=4380 all=13242 active=946 piece=▁뺏\n",
      "bpe_model_trainer.cc(258) LOG(INFO) Added: freq=7 size=4400 all=13244 active=948 piece=설프\n",
      "bpe_model_trainer.cc(167) LOG(INFO) Updating active symbols. max_freq=7 min_freq=6\n",
      "bpe_model_trainer.cc(258) LOG(INFO) Added: freq=7 size=4420 all=13246 active=1002 piece=▁내키\n",
      "bpe_model_trainer.cc(258) LOG(INFO) Added: freq=7 size=4440 all=13235 active=991 piece=▁부끄\n",
      "bpe_model_trainer.cc(258) LOG(INFO) Added: freq=7 size=4460 all=13224 active=980 piece=▁약점\n",
      "bpe_model_trainer.cc(258) LOG(INFO) Added: freq=7 size=4480 all=13210 active=966 piece=▁한눈\n",
      "bpe_model_trainer.cc(258) LOG(INFO) Added: freq=7 size=4500 all=13192 active=948 piece=▁어설프\n",
      "bpe_model_trainer.cc(167) LOG(INFO) Updating active symbols. max_freq=7 min_freq=6\n",
      "bpe_model_trainer.cc(258) LOG(INFO) Added: freq=7 size=4520 all=13172 active=981 piece=▁좋아해서\n",
      "bpe_model_trainer.cc(258) LOG(INFO) Added: freq=6 size=4540 all=13167 active=976 piece=▁딩\n",
      "bpe_model_trainer.cc(258) LOG(INFO) Added: freq=6 size=4560 all=13158 active=967 piece=▁쥬\n",
      "bpe_model_trainer.cc(258) LOG(INFO) Added: freq=6 size=4580 all=13156 active=965 piece=기찬\n",
      "bpe_model_trainer.cc(258) LOG(INFO) Added: freq=6 size=4600 all=13160 active=969 piece=력소\n",
      "bpe_model_trainer.cc(167) LOG(INFO) Updating active symbols. max_freq=6 min_freq=5\n",
      "bpe_model_trainer.cc(258) LOG(INFO) Added: freq=6 size=4620 all=13160 active=1000 piece=방져\n",
      "bpe_model_trainer.cc(258) LOG(INFO) Added: freq=6 size=4640 all=13166 active=1006 piece=에도\n",
      "bpe_model_trainer.cc(258) LOG(INFO) Added: freq=6 size=4660 all=13168 active=1008 piece=줄까\n",
      "bpe_model_trainer.cc(258) LOG(INFO) Added: freq=6 size=4680 all=13169 active=1009 piece=획사\n",
      "bpe_model_trainer.cc(258) LOG(INFO) Added: freq=6 size=4700 all=13156 active=996 piece=▁걸어\n",
      "bpe_model_trainer.cc(167) LOG(INFO) Updating active symbols. max_freq=6 min_freq=5\n",
      "bpe_model_trainer.cc(258) LOG(INFO) Added: freq=6 size=4720 all=13138 active=982 piece=▁괴물\n",
      "bpe_model_trainer.cc(258) LOG(INFO) Added: freq=6 size=4740 all=13122 active=966 piece=▁기사\n",
      "bpe_model_trainer.cc(258) LOG(INFO) Added: freq=6 size=4760 all=13107 active=951 piece=▁나야\n",
      "bpe_model_trainer.cc(258) LOG(INFO) Added: freq=6 size=4780 all=13092 active=936 piece=▁다던\n",
      "bpe_model_trainer.cc(258) LOG(INFO) Added: freq=6 size=4800 all=13078 active=922 piece=▁동시\n",
      "bpe_model_trainer.cc(167) LOG(INFO) Updating active symbols. max_freq=6 min_freq=5\n",
      "bpe_model_trainer.cc(258) LOG(INFO) Added: freq=6 size=4820 all=13059 active=982 piece=▁마저\n",
      "bpe_model_trainer.cc(258) LOG(INFO) Added: freq=6 size=4840 all=13042 active=965 piece=▁모태\n",
      "bpe_model_trainer.cc(258) LOG(INFO) Added: freq=6 size=4860 all=13025 active=948 piece=▁밥통\n",
      "bpe_model_trainer.cc(258) LOG(INFO) Added: freq=6 size=4880 all=13007 active=930 piece=▁볼께\n",
      "bpe_model_trainer.cc(258) LOG(INFO) Added: freq=6 size=4900 all=12988 active=911 piece=▁빵꾸\n",
      "bpe_model_trainer.cc(167) LOG(INFO) Updating active symbols. max_freq=6 min_freq=5\n",
      "bpe_model_trainer.cc(258) LOG(INFO) Added: freq=6 size=4920 all=12972 active=985 piece=▁성분\n",
      "bpe_model_trainer.cc(258) LOG(INFO) Added: freq=6 size=4940 all=12953 active=966 piece=▁수많\n",
      "bpe_model_trainer.cc(258) LOG(INFO) Added: freq=6 size=4960 all=12934 active=947 piece=▁심란\n",
      "bpe_model_trainer.cc(258) LOG(INFO) Added: freq=6 size=4980 all=12918 active=931 piece=▁약초\n",
      "bpe_model_trainer.cc(258) LOG(INFO) Added: freq=6 size=5000 all=12901 active=914 piece=▁옥죄\n",
      "bpe_model_trainer.cc(167) LOG(INFO) Updating active symbols. max_freq=6 min_freq=5\n",
      "bpe_model_trainer.cc(258) LOG(INFO) Added: freq=6 size=5020 all=12882 active=982 piece=▁위치\n"
     ]
    },
    {
     "name": "stderr",
     "output_type": "stream",
     "text": [
      "bpe_model_trainer.cc(258) LOG(INFO) Added: freq=6 size=5040 all=12864 active=964 piece=▁임신\n",
      "bpe_model_trainer.cc(258) LOG(INFO) Added: freq=6 size=5060 all=12849 active=949 piece=▁전형\n",
      "bpe_model_trainer.cc(258) LOG(INFO) Added: freq=6 size=5080 all=12831 active=931 piece=▁쥬스\n",
      "bpe_model_trainer.cc(258) LOG(INFO) Added: freq=6 size=5100 all=12814 active=914 piece=▁차임\n",
      "bpe_model_trainer.cc(167) LOG(INFO) Updating active symbols. max_freq=6 min_freq=4\n",
      "bpe_model_trainer.cc(258) LOG(INFO) Added: freq=6 size=5120 all=12797 active=984 piece=▁최우\n",
      "bpe_model_trainer.cc(258) LOG(INFO) Added: freq=6 size=5140 all=12781 active=968 piece=▁쿠폰\n",
      "bpe_model_trainer.cc(258) LOG(INFO) Added: freq=6 size=5160 all=12761 active=948 piece=▁푸석\n",
      "bpe_model_trainer.cc(258) LOG(INFO) Added: freq=6 size=5180 all=12746 active=933 piece=▁헬멧\n",
      "bpe_model_trainer.cc(258) LOG(INFO) Added: freq=6 size=5200 all=12730 active=917 piece=라이너\n",
      "bpe_model_trainer.cc(167) LOG(INFO) Updating active symbols. max_freq=6 min_freq=4\n",
      "bpe_model_trainer.cc(258) LOG(INFO) Added: freq=6 size=5220 all=12721 active=991 piece=▁건들이\n",
      "bpe_model_trainer.cc(258) LOG(INFO) Added: freq=6 size=5240 all=12701 active=971 piece=▁길러도\n",
      "bpe_model_trainer.cc(258) LOG(INFO) Added: freq=6 size=5260 all=12681 active=951 piece=▁냐는데\n",
      "bpe_model_trainer.cc(258) LOG(INFO) Added: freq=6 size=5280 all=12661 active=931 piece=▁덕수궁\n",
      "bpe_model_trainer.cc(258) LOG(INFO) Added: freq=6 size=5300 all=12641 active=911 piece=▁떨려요\n",
      "bpe_model_trainer.cc(167) LOG(INFO) Updating active symbols. max_freq=6 min_freq=3\n",
      "bpe_model_trainer.cc(258) LOG(INFO) Added: freq=6 size=5320 all=12621 active=981 piece=▁목감기\n",
      "bpe_model_trainer.cc(258) LOG(INFO) Added: freq=6 size=5340 all=12601 active=961 piece=▁부딪혀\n",
      "bpe_model_trainer.cc(258) LOG(INFO) Added: freq=6 size=5360 all=12581 active=941 piece=▁속상하\n",
      "bpe_model_trainer.cc(258) LOG(INFO) Added: freq=6 size=5380 all=12561 active=921 piece=▁어울릴\n",
      "bpe_model_trainer.cc(258) LOG(INFO) Added: freq=6 size=5400 all=12542 active=902 piece=▁음료수\n",
      "bpe_model_trainer.cc(167) LOG(INFO) Updating active symbols. max_freq=6 min_freq=3\n",
      "bpe_model_trainer.cc(258) LOG(INFO) Added: freq=6 size=5420 all=12522 active=981 piece=▁졸린가\n",
      "bpe_model_trainer.cc(258) LOG(INFO) Added: freq=6 size=5440 all=12502 active=961 piece=▁챙겨야\n",
      "bpe_model_trainer.cc(258) LOG(INFO) Added: freq=6 size=5460 all=12482 active=941 piece=▁편할지\n",
      "bpe_model_trainer.cc(258) LOG(INFO) Added: freq=6 size=5480 all=12464 active=923 piece=▁허리띠\n",
      "bpe_model_trainer.cc(258) LOG(INFO) Added: freq=6 size=5500 all=12444 active=903 piece=▁그나저나\n",
      "bpe_model_trainer.cc(167) LOG(INFO) Updating active symbols. max_freq=6 min_freq=3\n",
      "bpe_model_trainer.cc(258) LOG(INFO) Added: freq=6 size=5520 all=12426 active=983 piece=▁들어와서\n",
      "bpe_model_trainer.cc(258) LOG(INFO) Added: freq=6 size=5540 all=12406 active=963 piece=▁상관없이\n",
      "bpe_model_trainer.cc(258) LOG(INFO) A"
     ]
    }
   ],
   "source": [
    "# 코퍼스 벡터화 & 패딩 추가\n",
    "def vectorize_corpus(corpus, max_len, vectorizer):\n",
    "    sequences = []\n",
    "    \n",
    "    for sentence in corpus:\n",
    "        sequence = vectorizer.encode_as_ids(sentence)\n",
    "        sequences.append(sequence)\n",
    "        \n",
    "    sequences = tf.keras.preprocessing.sequence.pad_sequences(sequences, maxlen=max_len, padding='post')\n",
    "    \n",
    "    return sequences"
   ]
  },
  {
   "cell_type": "code",
   "execution_count": 19,
   "id": "c6e53bfb",
   "metadata": {},
   "outputs": [
    {
     "name": "stderr",
     "output_type": "stream",
     "text": [
      "dded: freq=6 size=5560 all=12387 active=944 piece=▁째깍째깍\n",
      "bpe_model_trainer.cc(258) LOG(INFO) Added: freq=6 size=5580 all=12367 active=924 piece=▁흘러갑니다\n",
      "bpe_model_trainer.cc(258) LOG(INFO) Added: freq=5 size=5600 all=12366 active=923 piece=곡차\n",
      "bpe_model_trainer.cc(167) LOG(INFO) Updating active symbols. max_freq=5 min_freq=3\n",
      "bpe_model_trainer.cc(258) LOG(INFO) Added: freq=5 size=5620 all=12370 active=1003 piece=모이\n",
      "bpe_model_trainer.cc(258) LOG(INFO) Added: freq=5 size=5640 all=12372 active=1005 piece=처지\n",
      "bpe_model_trainer.cc(258) LOG(INFO) Added: freq=5 size=5660 all=12363 active=996 piece=▁고작\n",
      "bpe_model_trainer.cc(258) LOG(INFO) Added: freq=5 size=5680 all=12349 active=982 piece=▁녀석\n",
      "bpe_model_trainer.cc(258) LOG(INFO) Added: freq=5 size=5700 all=12331 active=964 piece=▁동전\n",
      "bpe_model_trainer.cc(167) LOG(INFO) Updating active symbols. max_freq=5 min_freq=3\n",
      "bpe_model_trainer.cc(258) LOG(INFO) Added: freq=5 size=5720 all=12312 active=982 piece=▁멋졌\n",
      "bpe_model_trainer.cc(258) LOG(INFO) Added: freq=5 size=5740 all=12295 active=965 piece=▁빌어\n",
      "bpe_model_trainer.cc(258) LOG(INFO) Added: freq=5 size=5760 all=12279 active=949 piece=▁슬피\n",
      "bpe_model_trainer.cc(258) LOG(INFO) Added: freq=5 size=5780 all=12260 active=930 piece=▁온천\n",
      "bpe_model_trainer.cc(258) LOG(INFO) Added: freq=5 size=5800 all=12242 active=912 piece=▁잠길\n",
      "bpe_model_trainer.cc(167) LOG(INFO) Updating active symbols. max_freq=5 min_freq=3\n",
      "bpe_model_trainer.cc(258) LOG(INFO) Added: freq=5 size=5820 all=12224 active=983 piece=▁진출\n",
      "bpe_model_trainer.cc(258) LOG(INFO) Added: freq=5 size=5840 all=12204 active=963 piece=▁탄생\n",
      "bpe_model_trainer.cc(258) LOG(INFO) Added: freq=5 size=5860 all=12190 active=949 piece=▁헌팅\n",
      "bpe_model_trainer.cc(258) LOG(INFO) Added: freq=5 size=5880 all=12175 active=934 piece=▁괴로운\n",
      "bpe_model_trainer.cc(258) LOG(INFO) Added: freq=5 size=5900 all=12158 active=917 piece=▁마주친\n",
      "bpe_model_trainer.cc(167) LOG(INFO) Updating active symbols. max_freq=5 min_freq=3\n",
      "bpe_model_trainer.cc(258) LOG(INFO) Added: freq=5 size=5920 all=12138 active=981 piece=▁사다리\n",
      "bpe_model_trainer.cc(258) LOG(INFO) Added: freq=5 size=5940 all=12119 active=962 piece=▁아이구\n",
      "bpe_model_trainer.cc(258) LOG(INFO) Added: freq=5 size=5960 all=12099 active=942 piece=▁저금통\n",
      "bpe_model_trainer.cc(258) LOG(INFO) Added: freq=5 size=5980 all=12080 active=923 piece=▁동성동본\n",
      "bpe_model_trainer.cc(258) LOG(INFO) Added: freq=5 size=6000 all=12060 active=903 piece=▁위해서이며\n",
      "bpe_model_trainer.cc(167) LOG(INFO) Updating active symbols. max_freq=5 min_freq=3\n",
      "bpe_model_trainer.cc(258) LOG(INFO) Added: freq=4 size=6020 all=12074 active=1015 piece=느님\n",
      "bpe_model_trainer.cc(258) LOG(INFO) Added: freq=4 size=6040 all=12080 active=1021 piece=숭아\n",
      "bpe_model_trainer.cc(258) LOG(INFO) Added: freq=4 size=6060 all=12077 active=1018 piece=▁끄집\n",
      "bpe_model_trainer.cc(258) LOG(INFO) Added: freq=4 size=6080 all=12060 active=1001 piece=▁롤러\n",
      "bpe_model_trainer.cc(258) LOG(INFO) Added: freq=4 size=6100 all=12044 active=985 piece=▁손목\n",
      "bpe_model_trainer.cc(167) LOG(INFO) Updating active symbols. max_freq=4 min_freq=3\n",
      "bpe_model_trainer.cc(258) LOG(INFO) Added: freq=4 size=6120 all=12031 active=988 piece=▁장손\n",
      "bpe_model_trainer.cc(258) LOG(INFO) Added: freq=4 size=6140 all=12022 active=979 piece=▁통지\n",
      "bpe_model_trainer.cc(258) LOG(INFO) Added: freq=4 size=6160 all=12006 active=963 piece=▁꼬르륵\n",
      "bpe_model_trainer.cc(258) LOG(INFO) Added: freq=4 size=6180 all=11987 active=944 piece=▁벗겨지\n",
      "bpe_model_trainer.cc(258) LOG(INFO) Added: freq=4 size=6200 all=11967 active=924 piece=▁코골이\n",
      "bpe_model_trainer.cc(167) LOG(INFO) Updating active symbols. max_freq=4 min_freq=3\n",
      "bpe_model_trainer.cc(258) LOG(INFO) Added: freq=3 size=6220 all=11950 active=984 piece=르른\n",
      "bpe_model_trainer.cc(258) LOG(INFO) Added: freq=3 size=6240 all=11942 active=976 piece=▁감염\n",
      "bpe_model_trainer.cc(258) LOG(INFO) Added: freq=3 size=6260 all=11927 active=961 piece=▁계셨\n",
      "bpe_model_trainer.cc(258) LOG(INFO) Added: freq=3 size=6280 all=11911 active=945 piece=▁군다\n",
      "bpe_model_trainer.cc(258) LOG(INFO) Added: freq=3 size=6300 all=11895 active=929 piece=▁깨어\n",
      "bpe_model_trainer.cc(167) LOG(INFO) Updating active symbols. max_freq=3 min_freq=3\n",
      "bpe_model_trainer.cc(258) LOG(INFO) Added: freq=3 size=6320 all=11896 active=1001 piece=▁가질\n",
      "bpe_model_trainer.cc(258) LOG(INFO) Added: freq=3 size=6340 all=11876 active=981 piece=▁나왓\n",
      "bpe_model_trainer.cc(258) LOG(INFO) Added: freq=3 size=6360 all=11859 active=964 piece=▁농도\n",
      "bpe_model_trainer.cc(258) LOG(INFO) Added: freq=3 size=6380 all=11839 active=944 piece=▁다채\n",
      "bpe_model_trainer.cc(258) LOG(INFO) Added: freq=3 size=6400 all=11823 active=928 piece=▁도네\n",
      "bpe_model_trainer.cc(167) LOG(INFO) Updating active symbols. max_freq=3 min_freq=3\n",
      "bpe_model_trainer.cc(258) LOG(INFO) Added: freq=3 size=6420 all=11816 active=994 piece=▁근사\n",
      "bpe_model_trainer.cc(258) LOG(INFO) Added: freq=3 size=6440 all=11799 active=977 piece=▁두기\n",
      "bpe_model_trainer.cc(258) LOG(INFO) Added: freq=3 size=6460 all=11784 active=962 piece=▁띵한\n",
      "bpe_model_trainer.cc(258) LOG(INFO) Added: freq=3 size=6480 all=11768 active=946 piece=▁마인\n",
      "bpe_model_trainer.cc(258) LOG(INFO) Added: freq=3 size=6500 all=11751 active=929 piece=▁모텔\n",
      "bpe_model_trainer.cc(167) LOG(INFO) Updating active symbols. max_freq=3 min_freq=3\n",
      "bpe_model_trainer.cc(258) LOG(INFO) Added: freq=3 size=6520 all=11751 active=1001 piece=▁Ru\n",
      "bpe_model_trainer.cc(258) LOG(INFO) Added: freq=3 size=6540 all=11737 active=987 piece=▁몽환\n",
      "bpe_model_trainer.cc(258) LOG(INFO) Added: freq=3 size=6560 all=11721 active=971 piece=▁박력\n",
      "bpe_model_trainer.cc(258) LOG(INFO) Added: freq=3 size=6580 all=11704 active=954 piece=▁벌려\n",
      "bpe_model_trainer.cc(258) LOG(INFO) Added: freq=3 size=6600 all=11689 active=939 piece=▁부업\n",
      "bpe_model_trainer.cc(167) LOG(INFO) Updating active symbols. max_freq=3 min_freq=3\n",
      "bpe_model_trainer.cc(258) LOG(INFO) Added: freq=3 size=6620 all=11689 active=1001 piece=▁관대\n",
      "bpe_model_trainer.cc(258) LOG(INFO) Added: freq=3 size=6640 all=11673 active=985 piece=▁분통\n",
      "bpe_model_trainer.cc(258) LOG(INFO) Added: freq=3 size=6660 all=11656 active=968 piece=▁사나\n",
      "bpe_model_trainer.cc(258) LOG(INFO) Added: freq=3 size=6680 all=11639 active=951 piece=▁선언\n",
      "bpe_model_trainer.cc(258) LOG(INFO) Added: freq=3 size=6700 all=11620 active=932 piece=▁수월\n",
      "bpe_model_trainer.cc(167) LOG(INFO) Updating active symbols. max_freq=3 min_freq=3\n",
      "bpe_model_trainer.cc(258) LOG(INFO) Added: freq=3 size=6720 all=11622 active=1003 piece=주절\n",
      "bpe_model_trainer.cc(258) LOG(INFO) Added: freq=3 size=6740 all=11609 active=990 piece=▁부서\n",
      "bpe_model_trainer.cc(258) LOG(INFO) Added: freq=3 size=6760 all=11591 active=972 piece=▁신상\n",
      "bpe_model_trainer.cc(258) LOG(INFO) Added: freq=3 size=6780 all=11576 active=957 piece=▁알릴\n",
      "bpe_model_trainer.cc(258) LOG(INFO) Added: freq=3 size=6800 all=11558 active=939 piece=▁여운\n",
      "bpe_model_trainer.cc(167) LOG(INFO) Updating active symbols. max_freq=3 min_freq=3\n",
      "bpe_model_trainer.cc(258) LOG(INFO) Added: freq=3 size=6820 all=11553 active=996 piece=지르\n",
      "bpe_model_trainer.cc(258) LOG(INFO) Added: freq=3 size=6840 all=11536 active=979 piece=▁보인\n",
      "bpe_model_trainer.cc(258) LOG(INFO) Added: freq=3 size=6860 all=11519 active=962 piece=▁엿보\n",
      "bpe_model_trainer.cc(258) LOG(INFO) Added: freq=3 size=6880 all=11499 active=942 piece=▁요소\n",
      "trainer_interface.cc(615) LOG(INFO) Saving model: kor_spm.model\n",
      "trainer_interface.cc(626) LOG(INFO) Saving vocabs: kor_spm.vocab\n"
     ]
    },
    {
     "name": "stdout",
     "output_type": "stream",
     "text": [
      "[6899    3 7317 7728 7532 7856 7728 7444 3490   41 2235  133 6899    3\n",
      " 7676 7440 7877 7444    0    0]\n"
     ]
    }
   ],
   "source": [
    "MAX_LEN = 20\n",
    "\n",
    "enc_train = vectorize_corpus(que_corpus_augmented, MAX_LEN, vectorizer)\n",
    "dec_train = vectorize_corpus(ans_corpus_augmented, MAX_LEN, vectorizer)\n",
    "\n",
    "print(enc_train[0])"
   ]
  },
  {
   "cell_type": "markdown",
   "id": "44a641a6",
   "metadata": {},
   "source": [
    "# 모델 생성"
   ]
  },
  {
   "cell_type": "markdown",
   "id": "ca3a3084",
   "metadata": {},
   "source": [
    "## Positional Encoding "
   ]
  },
  {
   "cell_type": "code",
   "execution_count": 20,
   "id": "351a4d3a",
   "metadata": {},
   "outputs": [],
   "source": [
    "def positional_encoding(pos, d_model):\n",
    "    def cal_angle(position, i):\n",
    "        return position / np.power(10000, (2*(i//2)) / np.float32(d_model))\n",
    "\n",
    "    def get_posi_angle_vec(position):\n",
    "        return [cal_angle(position, i) for i in range(d_model)]\n",
    "\n",
    "    sinusoid_table = np.array([get_posi_angle_vec(pos_i) for pos_i in range(pos)])\n",
    "\n",
    "    sinusoid_table[:, 0::2] = np.sin(sinusoid_table[:, 0::2])\n",
    "    sinusoid_table[:, 1::2] = np.cos(sinusoid_table[:, 1::2])\n",
    "\n",
    "    return sinusoid_table"
   ]
  },
  {
   "cell_type": "markdown",
   "id": "6eabba12",
   "metadata": {},
   "source": [
    "## Masking "
   ]
  },
  {
   "cell_type": "code",
   "execution_count": 21,
   "id": "813a988c",
   "metadata": {},
   "outputs": [],
   "source": [
    "def generate_padding_mask(seq):\n",
    "    seq = tf.cast(tf.math.equal(seq, 0), tf.float32)\n",
    "    return seq[:, tf.newaxis, tf.newaxis, :]\n",
    "\n",
    "def generate_lookahead_mask(size):\n",
    "    mask = 1 - tf.linalg.band_part(tf.ones((size, size)), -1, 0)\n",
    "    return mask\n",
    "\n",
    "def generate_masks(src, tgt):\n",
    "    enc_mask = generate_padding_mask(src)\n",
    "    dec_enc_mask = generate_padding_mask(src)\n",
    "\n",
    "    dec_lookahead_mask = generate_lookahead_mask(tgt.shape[1])\n",
    "    dec_tgt_padding_mask = generate_padding_mask(tgt)\n",
    "    dec_mask = tf.maximum(dec_tgt_padding_mask, dec_lookahead_mask)\n",
    "\n",
    "    return enc_mask, dec_enc_mask, dec_mask"
   ]
  },
  {
   "cell_type": "markdown",
   "id": "5922a1fb",
   "metadata": {},
   "source": [
    "## Multi-Head Attention "
   ]
  },
  {
   "cell_type": "code",
   "execution_count": 22,
   "id": "fcfa383d",
   "metadata": {},
   "outputs": [],
   "source": [
    "class MultiHeadAttention(tf.keras.layers.Layer):\n",
    "    def __init__(self, d_model, num_heads):\n",
    "        super(MultiHeadAttention, self).__init__()\n",
    "        self.num_heads = num_heads\n",
    "        self.d_model = d_model\n",
    "\n",
    "        self.depth = d_model // self.num_heads\n",
    "\n",
    "        self.W_q = tf.keras.layers.Dense(d_model)\n",
    "        self.W_k = tf.keras.layers.Dense(d_model)\n",
    "        self.W_v = tf.keras.layers.Dense(d_model)\n",
    "\n",
    "        self.linear = tf.keras.layers.Dense(d_model)\n",
    "\n",
    "    def scaled_dot_product_attention(self, Q, K, V, mask):\n",
    "        d_k = tf.cast(K.shape[-1], tf.float32)\n",
    "        QK = tf.matmul(Q, K, transpose_b=True)\n",
    "\n",
    "        scaled_qk = QK / tf.math.sqrt(d_k)\n",
    "\n",
    "        if mask is not None: scaled_qk += (mask * -1e9)  \n",
    "\n",
    "        attentions = tf.nn.softmax(scaled_qk, axis=-1)\n",
    "        out = tf.matmul(attentions, V)\n",
    "        return out, attentions\n",
    "\n",
    "    def split_heads(self, x):\n",
    "        bsz = x.shape[0]\n",
    "        split_x = tf.reshape(x, (bsz, -1, self.num_heads, self.depth))\n",
    "        split_x = tf.transpose(split_x, perm=[0, 2, 1, 3])\n",
    "\n",
    "        return split_x\n",
    "\n",
    "    def combine_heads(self, x):\n",
    "        bsz = x.shape[0]\n",
    "        combined_x = tf.transpose(x, perm=[0, 2, 1, 3])\n",
    "        combined_x = tf.reshape(combined_x, (bsz, -1, self.d_model))\n",
    "\n",
    "        return combined_x\n",
    "\n",
    "    def call(self, Q, K, V, mask):\n",
    "        WQ = self.W_q(Q)\n",
    "        WK = self.W_k(K)\n",
    "        WV = self.W_v(V)\n",
    "\n",
    "        WQ_splits = self.split_heads(WQ)\n",
    "        WK_splits = self.split_heads(WK)\n",
    "        WV_splits = self.split_heads(WV)\n",
    "\n",
    "        out, attention_weights = self.scaled_dot_product_attention(\n",
    "            WQ_splits, WK_splits, WV_splits, mask)\n",
    "\n",
    "        out = self.combine_heads(out)\n",
    "        out = self.linear(out)\n",
    "\n",
    "        return out, attention_weights"
   ]
  },
  {
   "cell_type": "markdown",
   "id": "57c7d223",
   "metadata": {},
   "source": [
    "## Position-Wise Feed Forward Network "
   ]
  },
  {
   "cell_type": "code",
   "execution_count": 23,
   "id": "3dd11433",
   "metadata": {},
   "outputs": [],
   "source": [
    "class PoswiseFeedForwardNet(tf.keras.layers.Layer):\n",
    "    def __init__(self, d_model, d_ff):\n",
    "        super(PoswiseFeedForwardNet, self).__init__()\n",
    "        self.d_model = d_model\n",
    "        self.d_ff = d_ff\n",
    "\n",
    "        self.fc1 = tf.keras.layers.Dense(d_ff, activation='relu')\n",
    "        self.fc2 = tf.keras.layers.Dense(d_model)\n",
    "\n",
    "    def call(self, x):\n",
    "        out = self.fc1(x)\n",
    "        out = self.fc2(out)\n",
    "\n",
    "        return out"
   ]
  },
  {
   "cell_type": "markdown",
   "id": "89ecb791",
   "metadata": {},
   "source": [
    "## Encoder Layer "
   ]
  },
  {
   "cell_type": "code",
   "execution_count": 24,
   "id": "f69578b6",
   "metadata": {},
   "outputs": [],
   "source": [
    "class EncoderLayer(tf.keras.layers.Layer):\n",
    "    def __init__(self, d_model, n_heads, d_ff, dropout):\n",
    "        super(EncoderLayer, self).__init__()\n",
    "\n",
    "        self.enc_self_attn = MultiHeadAttention(d_model, n_heads)\n",
    "        self.ffn = PoswiseFeedForwardNet(d_model, d_ff)\n",
    "\n",
    "        self.norm_1 = tf.keras.layers.LayerNormalization(epsilon=1e-6)\n",
    "        self.norm_2 = tf.keras.layers.LayerNormalization(epsilon=1e-6)\n",
    "\n",
    "        self.do = tf.keras.layers.Dropout(dropout)\n",
    "\n",
    "    def call(self, x, mask):\n",
    "        '''\n",
    "        Multi-Head Attention\n",
    "        '''\n",
    "        residual = x\n",
    "        out = self.norm_1(x)\n",
    "        out, enc_attn = self.enc_self_attn(out, out, out, mask)\n",
    "        out = self.do(out)\n",
    "        out += residual\n",
    "\n",
    "        '''\n",
    "        Position-Wise Feed Forward Network\n",
    "        '''\n",
    "        residual = out\n",
    "        out = self.norm_2(out)\n",
    "        out = self.ffn(out)\n",
    "        out = self.do(out)\n",
    "        out += residual\n",
    "\n",
    "        return out, enc_attn"
   ]
  },
  {
   "cell_type": "markdown",
   "id": "8a66cb5e",
   "metadata": {},
   "source": [
    "## Decoder Layer "
   ]
  },
  {
   "cell_type": "code",
   "execution_count": 25,
   "id": "8615df39",
   "metadata": {},
   "outputs": [],
   "source": [
    "class DecoderLayer(tf.keras.layers.Layer):\n",
    "    def __init__(self, d_model, num_heads, d_ff, dropout):\n",
    "        super(DecoderLayer, self).__init__()\n",
    "\n",
    "        self.dec_self_attn = MultiHeadAttention(d_model, num_heads)\n",
    "        self.enc_dec_attn = MultiHeadAttention(d_model, num_heads)\n",
    "\n",
    "        self.ffn = PoswiseFeedForwardNet(d_model, d_ff)\n",
    "\n",
    "        self.norm_1 = tf.keras.layers.LayerNormalization(epsilon=1e-6)\n",
    "        self.norm_2 = tf.keras.layers.LayerNormalization(epsilon=1e-6)\n",
    "        self.norm_3 = tf.keras.layers.LayerNormalization(epsilon=1e-6)\n",
    "\n",
    "        self.do = tf.keras.layers.Dropout(dropout)\n",
    "\n",
    "    def call(self, x, enc_out, dec_enc_mask, padding_mask):\n",
    "        '''\n",
    "        Masked Multi-Head Attention\n",
    "        '''\n",
    "        residual = x\n",
    "        out = self.norm_1(x)\n",
    "        out, dec_attn = self.dec_self_attn(out, out, out, padding_mask)\n",
    "        out = self.do(out)\n",
    "        out += residual\n",
    "\n",
    "        '''\n",
    "        Multi-Head Attention\n",
    "        '''\n",
    "        residual = out\n",
    "        out = self.norm_2(out)\n",
    "        # Q, K, V 순서에 주의하세요!\n",
    "        out, dec_enc_attn = self.enc_dec_attn(Q=out, K=enc_out, V=enc_out, mask=dec_enc_mask)\n",
    "        out = self.do(out)\n",
    "        out += residual\n",
    "\n",
    "        '''\n",
    "        Position-Wise Feed Forward Network\n",
    "        '''\n",
    "        residual = out\n",
    "        out = self.norm_3(out)\n",
    "        out = self.ffn(out)\n",
    "        out = self.do(out)\n",
    "        out += residual\n",
    "\n",
    "        return out, dec_attn, dec_enc_attn"
   ]
  },
  {
   "cell_type": "markdown",
   "id": "5e8e04d6",
   "metadata": {},
   "source": [
    "## Encoder "
   ]
  },
  {
   "cell_type": "code",
   "execution_count": 26,
   "id": "2cfc8937",
   "metadata": {},
   "outputs": [],
   "source": [
    "class Encoder(tf.keras.Model):\n",
    "    def __init__(self,\n",
    "                    n_layers,\n",
    "                    d_model,\n",
    "                    n_heads,\n",
    "                    d_ff,\n",
    "                    dropout):\n",
    "        super(Encoder, self).__init__()\n",
    "        self.n_layers = n_layers\n",
    "        self.enc_layers = [EncoderLayer(d_model, n_heads, d_ff, dropout) \n",
    "                        for _ in range(n_layers)]\n",
    "\n",
    "        self.do = tf.keras.layers.Dropout(dropout)\n",
    "\n",
    "    def call(self, x, mask):\n",
    "        out = x\n",
    "\n",
    "        enc_attns = list()\n",
    "        for i in range(self.n_layers):\n",
    "            out, enc_attn = self.enc_layers[i](out, mask)\n",
    "            enc_attns.append(enc_attn)\n",
    "\n",
    "        return out, enc_attns"
   ]
  },
  {
   "cell_type": "markdown",
   "id": "ef28cb05",
   "metadata": {},
   "source": [
    "## Decoder "
   ]
  },
  {
   "cell_type": "code",
   "execution_count": 27,
   "id": "87c24e79",
   "metadata": {},
   "outputs": [],
   "source": [
    "class Decoder(tf.keras.Model):\n",
    "    def __init__(self,\n",
    "                    n_layers,\n",
    "                    d_model,\n",
    "                    n_heads,\n",
    "                    d_ff,\n",
    "                    dropout):\n",
    "        super(Decoder, self).__init__()\n",
    "        self.n_layers = n_layers\n",
    "        self.dec_layers = [DecoderLayer(d_model, n_heads, d_ff, dropout) \n",
    "                            for _ in range(n_layers)]\n",
    "\n",
    "    def call(self, x, enc_out, dec_enc_mask, padding_mask):\n",
    "        out = x\n",
    "\n",
    "        dec_attns = list()\n",
    "        dec_enc_attns = list()\n",
    "        for i in range(self.n_layers):\n",
    "            out, dec_attn, dec_enc_attn = \\\n",
    "            self.dec_layers[i](out, enc_out, dec_enc_mask, padding_mask)\n",
    "\n",
    "            dec_attns.append(dec_attn)\n",
    "            dec_enc_attns.append(dec_enc_attn)\n",
    "\n",
    "        return out, dec_attns, dec_enc_attns"
   ]
  },
  {
   "cell_type": "markdown",
   "id": "553a2cad",
   "metadata": {},
   "source": [
    "## Transformer "
   ]
  },
  {
   "cell_type": "code",
   "execution_count": 28,
   "id": "b6c619d8",
   "metadata": {},
   "outputs": [],
   "source": [
    "class Transformer(tf.keras.Model):\n",
    "    def __init__(self,\n",
    "                    n_layers,\n",
    "                    d_model,\n",
    "                    n_heads,\n",
    "                    d_ff,\n",
    "                    src_vocab_size,\n",
    "                    tgt_vocab_size,\n",
    "                    pos_len,\n",
    "                    dropout=0.2,\n",
    "                    shared_fc=True,\n",
    "                    shared_emb=False):\n",
    "        super(Transformer, self).__init__()\n",
    "\n",
    "        self.d_model = tf.cast(d_model, tf.float32)\n",
    "\n",
    "        if shared_emb:\n",
    "            self.enc_emb = self.dec_emb = \\\n",
    "            tf.keras.layers.Embedding(src_vocab_size, d_model)\n",
    "        else:\n",
    "            self.enc_emb = tf.keras.layers.Embedding(src_vocab_size, d_model)\n",
    "            self.dec_emb = tf.keras.layers.Embedding(tgt_vocab_size, d_model)\n",
    "\n",
    "        self.pos_encoding = positional_encoding(pos_len, d_model)\n",
    "        self.do = tf.keras.layers.Dropout(dropout)\n",
    "\n",
    "        self.encoder = Encoder(n_layers, d_model, n_heads, d_ff, dropout)\n",
    "        self.decoder = Decoder(n_layers, d_model, n_heads, d_ff, dropout)\n",
    "\n",
    "        self.fc = tf.keras.layers.Dense(tgt_vocab_size)\n",
    "\n",
    "        self.shared_fc = shared_fc\n",
    "\n",
    "        if shared_fc:\n",
    "            self.fc.set_weights(tf.transpose(self.dec_emb.weights))\n",
    "\n",
    "    def embedding(self, emb, x):\n",
    "        seq_len = x.shape[1]\n",
    "\n",
    "        out = emb(x)\n",
    "\n",
    "        if self.shared_fc: out *= tf.math.sqrt(self.d_model)\n",
    "\n",
    "        out += self.pos_encoding[np.newaxis, ...][:, :seq_len, :]\n",
    "        out = self.do(out)\n",
    "\n",
    "        return out\n",
    "\n",
    "    def call(self, enc_in, dec_in, enc_mask, dec_enc_mask, dec_mask):\n",
    "        enc_in = self.embedding(self.enc_emb, enc_in)\n",
    "        dec_in = self.embedding(self.dec_emb, dec_in)\n",
    "\n",
    "        enc_out, enc_attns = self.encoder(enc_in, enc_mask)\n",
    "\n",
    "        dec_out, dec_attns, dec_enc_attns = \\\n",
    "        self.decoder(dec_in, enc_out, dec_enc_mask, dec_mask)\n",
    "\n",
    "        logits = self.fc(dec_out)\n",
    "        \n",
    "        return logits, enc_attns, dec_attns, dec_enc_attns"
   ]
  },
  {
   "cell_type": "markdown",
   "id": "653ba842",
   "metadata": {},
   "source": [
    "## Learning Rate Scheduler"
   ]
  },
  {
   "cell_type": "code",
   "execution_count": 29,
   "id": "eb395158",
   "metadata": {},
   "outputs": [],
   "source": [
    "class LearningRateScheduler(tf.keras.optimizers.schedules.LearningRateSchedule):\n",
    "    def __init__(self, d_model, warmup_steps=4000):\n",
    "        super(LearningRateScheduler, self).__init__()\n",
    "\n",
    "        self.d_model = d_model\n",
    "        self.warmup_steps = warmup_steps\n",
    "\n",
    "    def __call__(self, step):\n",
    "        arg1 = step ** -0.5\n",
    "        arg2 = step * (self.warmup_steps ** -1.5)\n",
    "\n",
    "        return (self.d_model ** -0.5) * tf.math.minimum(arg1, arg2)"
   ]
  },
  {
   "cell_type": "markdown",
   "id": "e8476833",
   "metadata": {},
   "source": [
    "## Loss Function "
   ]
  },
  {
   "cell_type": "code",
   "execution_count": 30,
   "id": "58783514",
   "metadata": {},
   "outputs": [],
   "source": [
    "loss_object = tf.keras.losses.SparseCategoricalCrossentropy(\n",
    "    from_logits=True, reduction='none')\n",
    "\n",
    "def loss_function(real, pred):\n",
    "    mask = tf.math.logical_not(tf.math.equal(real, 0))\n",
    "    loss_ = loss_object(real, pred)\n",
    "\n",
    "    mask = tf.cast(mask, dtype=loss_.dtype)\n",
    "    loss_ *= mask\n",
    "\n",
    "    return tf.reduce_sum(loss_)/tf.reduce_sum(mask)"
   ]
  },
  {
   "cell_type": "markdown",
   "id": "996bdb24",
   "metadata": {},
   "source": [
    "## Optimizer "
   ]
  },
  {
   "cell_type": "code",
   "execution_count": 31,
   "id": "9989f267",
   "metadata": {},
   "outputs": [],
   "source": [
    "D_MODEL = 512\n",
    "WARMUP_STEPS = 4000\n",
    "\n",
    "lr_scheduler = LearningRateScheduler(D_MODEL, WARMUP_STEPS)\n",
    "optimizer = tf.keras.optimizers.Adam(learning_rate=lr_scheduler)"
   ]
  },
  {
   "cell_type": "markdown",
   "id": "65a400ca",
   "metadata": {},
   "source": [
    "# 모델 훈련하기 "
   ]
  },
  {
   "cell_type": "code",
   "execution_count": 60,
   "id": "407f2a83",
   "metadata": {},
   "outputs": [],
   "source": [
    "@tf.function()\n",
    "def train_step(src, tgt, model, optimizer):\n",
    "    tgt_in = tgt[:, :-1]\n",
    "    gold = tgt[:, 1:]\n",
    "\n",
    "    enc_mask, dec_enc_mask, dec_mask = generate_masks(src, tgt_in)\n",
    "\n",
    "    with tf.GradientTape() as tape:\n",
    "        predictions, enc_attns, dec_attns, dec_enc_attns = \\\n",
    "        model(src, tgt_in, enc_mask, dec_enc_mask, dec_mask)\n",
    "        loss = loss_function(gold, predictions)\n",
    "\n",
    "    gradients = tape.gradient(loss, model.trainable_variables)    \n",
    "    optimizer.apply_gradients(zip(gradients, model.trainable_variables))\n",
    "\n",
    "    return loss, enc_attns, dec_attns, dec_enc_attns"
   ]
  },
  {
   "cell_type": "code",
   "execution_count": 61,
   "id": "26a5e2ef",
   "metadata": {},
   "outputs": [],
   "source": [
    "hyper_params = {\n",
    "    'n_layers': 2,\n",
    "    'd_model': D_MODEL,\n",
    "    'n_heads': 4,\n",
    "    'd_ff': 2048,\n",
    "    'src_vocab_size': VOCAB_SIZE,\n",
    "    'tgt_vocab_size': VOCAB_SIZE,\n",
    "    'pos_len': MAX_LEN, # prev: 200\n",
    "    'dropout': 0.5,\n",
    "    'shared_fc': True,\n",
    "    'shared_emb': True\n",
    "}\n",
    "\n",
    "transformer = Transformer(**hyper_params)\n",
    "\n",
    "transformer.compile(optimizer=optimizer)"
   ]
  },
  {
   "cell_type": "code",
   "execution_count": 62,
   "id": "070cc9c7",
   "metadata": {},
   "outputs": [
    {
     "data": {
      "application/vnd.jupyter.widget-view+json": {
       "model_id": "af2bb252e4264076989b3651f0c3aa2b",
       "version_major": 2,
       "version_minor": 0
      },
      "text/plain": [
       "  0%|          | 0/709 [00:00<?, ?it/s]"
      ]
     },
     "metadata": {},
     "output_type": "display_data"
    },
    {
     "name": "stdout",
     "output_type": "stream",
     "text": [
      "epoch 0 loss: 1171.553955078125\n"
     ]
    },
    {
     "data": {
      "application/vnd.jupyter.widget-view+json": {
       "model_id": "5e0ea6d4a64a49f2809f665daa31c440",
       "version_major": 2,
       "version_minor": 0
      },
      "text/plain": [
       "  0%|          | 0/709 [00:00<?, ?it/s]"
      ]
     },
     "metadata": {},
     "output_type": "display_data"
    },
    {
     "name": "stdout",
     "output_type": "stream",
     "text": [
      "epoch 1 loss: 429.31561279296875\n"
     ]
    },
    {
     "data": {
      "application/vnd.jupyter.widget-view+json": {
       "model_id": "c4434563c26f49f9baa1e9e0adb85741",
       "version_major": 2,
       "version_minor": 0
      },
      "text/plain": [
       "  0%|          | 0/709 [00:00<?, ?it/s]"
      ]
     },
     "metadata": {},
     "output_type": "display_data"
    },
    {
     "name": "stdout",
     "output_type": "stream",
     "text": [
      "epoch 2 loss: 203.98739624023438\n"
     ]
    },
    {
     "data": {
      "application/vnd.jupyter.widget-view+json": {
       "model_id": "5622191ea01340698d32cf64dad9a36a",
       "version_major": 2,
       "version_minor": 0
      },
      "text/plain": [
       "  0%|          | 0/709 [00:00<?, ?it/s]"
      ]
     },
     "metadata": {},
     "output_type": "display_data"
    },
    {
     "name": "stdout",
     "output_type": "stream",
     "text": [
      "epoch 3 loss: 128.5432586669922\n"
     ]
    },
    {
     "data": {
      "application/vnd.jupyter.widget-view+json": {
       "model_id": "70886cd440964fe3bc680d4dba81dadd",
       "version_major": 2,
       "version_minor": 0
      },
      "text/plain": [
       "  0%|          | 0/709 [00:00<?, ?it/s]"
      ]
     },
     "metadata": {},
     "output_type": "display_data"
    },
    {
     "name": "stdout",
     "output_type": "stream",
     "text": [
      "epoch 4 loss: 103.64532470703125\n"
     ]
    },
    {
     "data": {
      "application/vnd.jupyter.widget-view+json": {
       "model_id": "3b8580805391445d9062b67bf58ea43b",
       "version_major": 2,
       "version_minor": 0
      },
      "text/plain": [
       "  0%|          | 0/709 [00:00<?, ?it/s]"
      ]
     },
     "metadata": {},
     "output_type": "display_data"
    },
    {
     "name": "stdout",
     "output_type": "stream",
     "text": [
      "epoch 5 loss: 93.74603271484375\n"
     ]
    },
    {
     "data": {
      "application/vnd.jupyter.widget-view+json": {
       "model_id": "03a4d3c48adf40ffbb65621ebe99cb30",
       "version_major": 2,
       "version_minor": 0
      },
      "text/plain": [
       "  0%|          | 0/709 [00:00<?, ?it/s]"
      ]
     },
     "metadata": {},
     "output_type": "display_data"
    },
    {
     "name": "stdout",
     "output_type": "stream",
     "text": [
      "epoch 6 loss: 88.4327163696289\n"
     ]
    },
    {
     "data": {
      "application/vnd.jupyter.widget-view+json": {
       "model_id": "cf02ab20ea364b4e8788fa916b9dcc76",
       "version_major": 2,
       "version_minor": 0
      },
      "text/plain": [
       "  0%|          | 0/709 [00:00<?, ?it/s]"
      ]
     },
     "metadata": {},
     "output_type": "display_data"
    },
    {
     "name": "stdout",
     "output_type": "stream",
     "text": [
      "epoch 7 loss: 83.51567840576172\n"
     ]
    },
    {
     "data": {
      "application/vnd.jupyter.widget-view+json": {
       "model_id": "bfe3f8b75a4441209b483f1946e7cf5d",
       "version_major": 2,
       "version_minor": 0
      },
      "text/plain": [
       "  0%|          | 0/709 [00:00<?, ?it/s]"
      ]
     },
     "metadata": {},
     "output_type": "display_data"
    },
    {
     "name": "stdout",
     "output_type": "stream",
     "text": [
      "epoch 8 loss: 80.37123107910156\n"
     ]
    },
    {
     "data": {
      "application/vnd.jupyter.widget-view+json": {
       "model_id": "e21672e2b19041d6b104df8b0fe542b5",
       "version_major": 2,
       "version_minor": 0
      },
      "text/plain": [
       "  0%|          | 0/709 [00:00<?, ?it/s]"
      ]
     },
     "metadata": {},
     "output_type": "display_data"
    },
    {
     "name": "stdout",
     "output_type": "stream",
     "text": [
      "epoch 9 loss: 76.33719635009766\n"
     ]
    },
    {
     "data": {
      "application/vnd.jupyter.widget-view+json": {
       "model_id": "709f144e3f4d47628bf14150934805ea",
       "version_major": 2,
       "version_minor": 0
      },
      "text/plain": [
       "  0%|          | 0/709 [00:00<?, ?it/s]"
      ]
     },
     "metadata": {},
     "output_type": "display_data"
    },
    {
     "name": "stdout",
     "output_type": "stream",
     "text": [
      "epoch 10 loss: 73.25294494628906\n"
     ]
    },
    {
     "data": {
      "application/vnd.jupyter.widget-view+json": {
       "model_id": "43faea50a27449889348282ae9de3ccd",
       "version_major": 2,
       "version_minor": 0
      },
      "text/plain": [
       "  0%|          | 0/709 [00:00<?, ?it/s]"
      ]
     },
     "metadata": {},
     "output_type": "display_data"
    },
    {
     "name": "stdout",
     "output_type": "stream",
     "text": [
      "epoch 11 loss: 70.69779968261719\n"
     ]
    },
    {
     "data": {
      "application/vnd.jupyter.widget-view+json": {
       "model_id": "c1e0588003eb4c4dbc7bcdb5d912a378",
       "version_major": 2,
       "version_minor": 0
      },
      "text/plain": [
       "  0%|          | 0/709 [00:00<?, ?it/s]"
      ]
     },
     "metadata": {},
     "output_type": "display_data"
    },
    {
     "name": "stdout",
     "output_type": "stream",
     "text": [
      "epoch 12 loss: 68.81723022460938\n"
     ]
    },
    {
     "data": {
      "application/vnd.jupyter.widget-view+json": {
       "model_id": "390de7d6a19e407087c2c7ed9137dbae",
       "version_major": 2,
       "version_minor": 0
      },
      "text/plain": [
       "  0%|          | 0/709 [00:00<?, ?it/s]"
      ]
     },
     "metadata": {},
     "output_type": "display_data"
    },
    {
     "name": "stdout",
     "output_type": "stream",
     "text": [
      "epoch 13 loss: 66.36868286132812\n"
     ]
    },
    {
     "data": {
      "application/vnd.jupyter.widget-view+json": {
       "model_id": "4b2d162928354266b828b09a0c719efb",
       "version_major": 2,
       "version_minor": 0
      },
      "text/plain": [
       "  0%|          | 0/709 [00:00<?, ?it/s]"
      ]
     },
     "metadata": {},
     "output_type": "display_data"
    },
    {
     "name": "stdout",
     "output_type": "stream",
     "text": [
      "epoch 14 loss: 63.88459777832031\n"
     ]
    },
    {
     "data": {
      "application/vnd.jupyter.widget-view+json": {
       "model_id": "13f3ed2122434aa0bb39d2448aaa198b",
       "version_major": 2,
       "version_minor": 0
      },
      "text/plain": [
       "  0%|          | 0/709 [00:00<?, ?it/s]"
      ]
     },
     "metadata": {},
     "output_type": "display_data"
    },
    {
     "name": "stdout",
     "output_type": "stream",
     "text": [
      "epoch 15 loss: 61.830055236816406\n"
     ]
    },
    {
     "data": {
      "application/vnd.jupyter.widget-view+json": {
       "model_id": "10e827d0ad724b57bf4a297214fc7ff8",
       "version_major": 2,
       "version_minor": 0
      },
      "text/plain": [
       "  0%|          | 0/709 [00:00<?, ?it/s]"
      ]
     },
     "metadata": {},
     "output_type": "display_data"
    },
    {
     "name": "stdout",
     "output_type": "stream",
     "text": [
      "epoch 16 loss: 60.637386322021484\n"
     ]
    },
    {
     "data": {
      "application/vnd.jupyter.widget-view+json": {
       "model_id": "f4864da25d1e4b1bbbbe584a924e5fb1",
       "version_major": 2,
       "version_minor": 0
      },
      "text/plain": [
       "  0%|          | 0/709 [00:00<?, ?it/s]"
      ]
     },
     "metadata": {},
     "output_type": "display_data"
    },
    {
     "name": "stdout",
     "output_type": "stream",
     "text": [
      "epoch 17 loss: 59.0507926940918\n"
     ]
    },
    {
     "data": {
      "application/vnd.jupyter.widget-view+json": {
       "model_id": "3d9826f3b62042859f1aad51364c39d1",
       "version_major": 2,
       "version_minor": 0
      },
      "text/plain": [
       "  0%|          | 0/709 [00:00<?, ?it/s]"
      ]
     },
     "metadata": {},
     "output_type": "display_data"
    },
    {
     "name": "stdout",
     "output_type": "stream",
     "text": [
      "epoch 18 loss: 57.76933288574219\n"
     ]
    },
    {
     "data": {
      "application/vnd.jupyter.widget-view+json": {
       "model_id": "6823a9b3b2044a5aa194cdef1d504d80",
       "version_major": 2,
       "version_minor": 0
      },
      "text/plain": [
       "  0%|          | 0/709 [00:00<?, ?it/s]"
      ]
     },
     "metadata": {},
     "output_type": "display_data"
    },
    {
     "name": "stdout",
     "output_type": "stream",
     "text": [
      "epoch 19 loss: 55.52130889892578\n"
     ]
    },
    {
     "data": {
      "application/vnd.jupyter.widget-view+json": {
       "model_id": "ba062ea7f1b2457192b5417792efeee4",
       "version_major": 2,
       "version_minor": 0
      },
      "text/plain": [
       "  0%|          | 0/709 [00:00<?, ?it/s]"
      ]
     },
     "metadata": {},
     "output_type": "display_data"
    },
    {
     "name": "stdout",
     "output_type": "stream",
     "text": [
      "epoch 20 loss: 54.383426666259766\n"
     ]
    },
    {
     "data": {
      "application/vnd.jupyter.widget-view+json": {
       "model_id": "5ea02a798dcd474e903d81d90d2f6f3f",
       "version_major": 2,
       "version_minor": 0
      },
      "text/plain": [
       "  0%|          | 0/709 [00:00<?, ?it/s]"
      ]
     },
     "metadata": {},
     "output_type": "display_data"
    },
    {
     "name": "stdout",
     "output_type": "stream",
     "text": [
      "epoch 21 loss: 53.6436653137207\n"
     ]
    },
    {
     "data": {
      "application/vnd.jupyter.widget-view+json": {
       "model_id": "46edeccde3924704895393d3dae46526",
       "version_major": 2,
       "version_minor": 0
      },
      "text/plain": [
       "  0%|          | 0/709 [00:00<?, ?it/s]"
      ]
     },
     "metadata": {},
     "output_type": "display_data"
    },
    {
     "name": "stdout",
     "output_type": "stream",
     "text": [
      "epoch 22 loss: 52.97811508178711\n"
     ]
    },
    {
     "data": {
      "application/vnd.jupyter.widget-view+json": {
       "model_id": "5a9b2200f13d4a73bd6e0c881661c6bd",
       "version_major": 2,
       "version_minor": 0
      },
      "text/plain": [
       "  0%|          | 0/709 [00:00<?, ?it/s]"
      ]
     },
     "metadata": {},
     "output_type": "display_data"
    },
    {
     "name": "stdout",
     "output_type": "stream",
     "text": [
      "epoch 23 loss: 51.121089935302734\n"
     ]
    },
    {
     "data": {
      "application/vnd.jupyter.widget-view+json": {
       "model_id": "1eb7c76d5f0d427f8333951afc4c2684",
       "version_major": 2,
       "version_minor": 0
      },
      "text/plain": [
       "  0%|          | 0/709 [00:00<?, ?it/s]"
      ]
     },
     "metadata": {},
     "output_type": "display_data"
    },
    {
     "name": "stdout",
     "output_type": "stream",
     "text": [
      "epoch 24 loss: 50.473323822021484\n"
     ]
    },
    {
     "data": {
      "application/vnd.jupyter.widget-view+json": {
       "model_id": "e0321522a72b4e3cac0db3302c312913",
       "version_major": 2,
       "version_minor": 0
      },
      "text/plain": [
       "  0%|          | 0/709 [00:00<?, ?it/s]"
      ]
     },
     "metadata": {},
     "output_type": "display_data"
    },
    {
     "name": "stdout",
     "output_type": "stream",
     "text": [
      "epoch 25 loss: 49.049835205078125\n"
     ]
    },
    {
     "data": {
      "application/vnd.jupyter.widget-view+json": {
       "model_id": "33fd6f00957649d3ab4446a1b283b58c",
       "version_major": 2,
       "version_minor": 0
      },
      "text/plain": [
       "  0%|          | 0/709 [00:00<?, ?it/s]"
      ]
     },
     "metadata": {},
     "output_type": "display_data"
    },
    {
     "name": "stdout",
     "output_type": "stream",
     "text": [
      "epoch 26 loss: 47.99140167236328\n"
     ]
    },
    {
     "data": {
      "application/vnd.jupyter.widget-view+json": {
       "model_id": "9c2413dbf8f24d21835c506f5253d93b",
       "version_major": 2,
       "version_minor": 0
      },
      "text/plain": [
       "  0%|          | 0/709 [00:00<?, ?it/s]"
      ]
     },
     "metadata": {},
     "output_type": "display_data"
    },
    {
     "name": "stdout",
     "output_type": "stream",
     "text": [
      "epoch 27 loss: 47.50832748413086\n"
     ]
    },
    {
     "data": {
      "application/vnd.jupyter.widget-view+json": {
       "model_id": "ebef3195d2b8454599ac6abda7224f62",
       "version_major": 2,
       "version_minor": 0
      },
      "text/plain": [
       "  0%|          | 0/709 [00:00<?, ?it/s]"
      ]
     },
     "metadata": {},
     "output_type": "display_data"
    },
    {
     "name": "stdout",
     "output_type": "stream",
     "text": [
      "epoch 28 loss: 47.33024597167969\n"
     ]
    },
    {
     "data": {
      "application/vnd.jupyter.widget-view+json": {
       "model_id": "5965311e583143e59653a54ad8a19331",
       "version_major": 2,
       "version_minor": 0
      },
      "text/plain": [
       "  0%|          | 0/709 [00:00<?, ?it/s]"
      ]
     },
     "metadata": {},
     "output_type": "display_data"
    },
    {
     "name": "stdout",
     "output_type": "stream",
     "text": [
      "epoch 29 loss: 46.55543899536133\n"
     ]
    },
    {
     "data": {
      "application/vnd.jupyter.widget-view+json": {
       "model_id": "2eb259b658834c0eb3d7063668eff465",
       "version_major": 2,
       "version_minor": 0
      },
      "text/plain": [
       "  0%|          | 0/709 [00:00<?, ?it/s]"
      ]
     },
     "metadata": {},
     "output_type": "display_data"
    },
    {
     "name": "stdout",
     "output_type": "stream",
     "text": [
      "epoch 30 loss: 45.27193832397461\n"
     ]
    },
    {
     "data": {
      "application/vnd.jupyter.widget-view+json": {
       "model_id": "28f12972f6d9488ba4c916441b305e0a",
       "version_major": 2,
       "version_minor": 0
      },
      "text/plain": [
       "  0%|          | 0/709 [00:00<?, ?it/s]"
      ]
     },
     "metadata": {},
     "output_type": "display_data"
    },
    {
     "name": "stdout",
     "output_type": "stream",
     "text": [
      "epoch 31 loss: 44.38750076293945\n"
     ]
    },
    {
     "data": {
      "application/vnd.jupyter.widget-view+json": {
       "model_id": "3bb779e78dc340a4b5e6baa7819912db",
       "version_major": 2,
       "version_minor": 0
      },
      "text/plain": [
       "  0%|          | 0/709 [00:00<?, ?it/s]"
      ]
     },
     "metadata": {},
     "output_type": "display_data"
    },
    {
     "name": "stdout",
     "output_type": "stream",
     "text": [
      "epoch 32 loss: 43.82415008544922\n"
     ]
    },
    {
     "data": {
      "application/vnd.jupyter.widget-view+json": {
       "model_id": "83e4696ad79042bba69c06964078ca83",
       "version_major": 2,
       "version_minor": 0
      },
      "text/plain": [
       "  0%|          | 0/709 [00:00<?, ?it/s]"
      ]
     },
     "metadata": {},
     "output_type": "display_data"
    },
    {
     "name": "stdout",
     "output_type": "stream",
     "text": [
      "epoch 33 loss: 43.490413665771484\n"
     ]
    },
    {
     "data": {
      "application/vnd.jupyter.widget-view+json": {
       "model_id": "48d08f32a56e40c89de721367eada5eb",
       "version_major": 2,
       "version_minor": 0
      },
      "text/plain": [
       "  0%|          | 0/709 [00:00<?, ?it/s]"
      ]
     },
     "metadata": {},
     "output_type": "display_data"
    },
    {
     "name": "stdout",
     "output_type": "stream",
     "text": [
      "epoch 34 loss: 42.35816192626953\n"
     ]
    },
    {
     "data": {
      "application/vnd.jupyter.widget-view+json": {
       "model_id": "ef7677add9e640b5b076213943ab2244",
       "version_major": 2,
       "version_minor": 0
      },
      "text/plain": [
       "  0%|          | 0/709 [00:00<?, ?it/s]"
      ]
     },
     "metadata": {},
     "output_type": "display_data"
    },
    {
     "name": "stdout",
     "output_type": "stream",
     "text": [
      "epoch 35 loss: 42.16437530517578\n"
     ]
    },
    {
     "data": {
      "application/vnd.jupyter.widget-view+json": {
       "model_id": "f4a07d06846841c9b130ea00e18875f0",
       "version_major": 2,
       "version_minor": 0
      },
      "text/plain": [
       "  0%|          | 0/709 [00:00<?, ?it/s]"
      ]
     },
     "metadata": {},
     "output_type": "display_data"
    },
    {
     "name": "stdout",
     "output_type": "stream",
     "text": [
      "epoch 36 loss: 42.33056640625\n"
     ]
    },
    {
     "data": {
      "application/vnd.jupyter.widget-view+json": {
       "model_id": "b98dc4ce111f47b7bde72672c4e1c9d0",
       "version_major": 2,
       "version_minor": 0
      },
      "text/plain": [
       "  0%|          | 0/709 [00:00<?, ?it/s]"
      ]
     },
     "metadata": {},
     "output_type": "display_data"
    },
    {
     "name": "stdout",
     "output_type": "stream",
     "text": [
      "epoch 37 loss: 41.41029739379883\n"
     ]
    },
    {
     "data": {
      "application/vnd.jupyter.widget-view+json": {
       "model_id": "e3089344c319475ca7b1b494c3b21300",
       "version_major": 2,
       "version_minor": 0
      },
      "text/plain": [
       "  0%|          | 0/709 [00:00<?, ?it/s]"
      ]
     },
     "metadata": {},
     "output_type": "display_data"
    },
    {
     "name": "stdout",
     "output_type": "stream",
     "text": [
      "epoch 38 loss: 40.45881271362305\n"
     ]
    },
    {
     "data": {
      "application/vnd.jupyter.widget-view+json": {
       "model_id": "5e8ac817c5fc433e916eefd03ff2f83c",
       "version_major": 2,
       "version_minor": 0
      },
      "text/plain": [
       "  0%|          | 0/709 [00:00<?, ?it/s]"
      ]
     },
     "metadata": {},
     "output_type": "display_data"
    },
    {
     "name": "stdout",
     "output_type": "stream",
     "text": [
      "epoch 39 loss: 40.31974411010742\n"
     ]
    }
   ],
   "source": [
    "EPOCHS = 40\n",
    "BATCH_SIZE = 50\n",
    "\n",
    "for epoch in range(EPOCHS):\n",
    "    num_batches = len(enc_train) // BATCH_SIZE\n",
    "    \n",
    "    shuffled_index = np.arange(len(enc_train))\n",
    "    np.random.shuffle(shuffled_index)\n",
    "    \n",
    "    total_loss = 0.\n",
    "    for i in tqdm(range(num_batches)):\n",
    "        start_idx = i * BATCH_SIZE\n",
    "        end_idx = (i + 1) * BATCH_SIZE\n",
    "        batch_index = shuffled_index[start_idx:end_idx]\n",
    "        \n",
    "        enc_batch = enc_train[batch_index]\n",
    "        dec_batch = dec_train[batch_index]\n",
    "        \n",
    "        loss, _, _, _ = train_step(enc_batch, dec_batch, transformer, optimizer)\n",
    "        total_loss += loss\n",
    "    print(f'epoch {epoch} loss: {total_loss}')"
   ]
  },
  {
   "cell_type": "markdown",
   "id": "16a214fa",
   "metadata": {},
   "source": [
    "# 훈련 결과 확인하기"
   ]
  },
  {
   "cell_type": "code",
   "execution_count": 63,
   "id": "4cdbcebd",
   "metadata": {},
   "outputs": [],
   "source": [
    "def translate(tokens, model, tgt_vectorizer):\n",
    "    ids = []\n",
    "    output = tf.expand_dims([tgt_vectorizer.bos_id()], 0)   \n",
    "    for i in range(MAX_LEN):\n",
    "        enc_padding_mask, combined_mask, dec_padding_mask = generate_masks(tokens, output)\n",
    "\n",
    "        predictions, _, _, _ = model(tokens, \n",
    "                                      output,\n",
    "                                      enc_padding_mask,\n",
    "                                      combined_mask,\n",
    "                                      dec_padding_mask)\n",
    "\n",
    "        predicted_id = \\\n",
    "        tf.argmax(tf.math.softmax(predictions, axis=-1)[0, -1]).numpy().item()\n",
    "\n",
    "        if tgt_vectorizer.eos_id() == predicted_id:\n",
    "            result = tgt_vectorizer.decode_ids(ids)  \n",
    "            return result\n",
    "\n",
    "        ids.append(predicted_id)\n",
    "        output = tf.concat([output, tf.expand_dims([predicted_id], 0)], axis=-1)\n",
    "\n",
    "    result = tgt_vectorizer.decode_ids(ids)  \n",
    "    return result"
   ]
  },
  {
   "cell_type": "code",
   "execution_count": 64,
   "id": "61d39624",
   "metadata": {},
   "outputs": [
    {
     "name": "stdout",
     "output_type": "stream",
     "text": [
      "[[3123    7   24  325  262  392   12   15   60    8    4    0    0    0\n",
      "     0    0    0    0    0    0]\n",
      " [ 154  907 2084  847  795    7   24    4    0    0    0    0    0    0\n",
      "     0    0    0    0    0    0]\n",
      " [3703   97   71  184  405    7   38  118   85    8    4    0    0    0\n",
      "     0    0    0    0    0    0]\n",
      " [ 178   20   25 1429  911  108    4    0    0    0    0    0    0    0\n",
      "     0    0    0    0    0    0]]\n"
     ]
    }
   ],
   "source": [
    "test_text = [\n",
    "    \"지루하다, 놀러가고 싶어.\",\n",
    "    \"오늘 일찍 일어났더니 피곤하다.\",\n",
    "    \"간만에 여자친구랑 데이트 하기로 했어.\",\n",
    "    \"집에 있는다는 소리야.\",\n",
    "]\n",
    "\n",
    "test_corpus = build_corpus(test_text, mecab)\n",
    "enc_test = vectorize_corpus(test_corpus, MAX_LEN, vectorizer)\n",
    "\n",
    "print(enc_test)"
   ]
  },
  {
   "cell_type": "code",
   "execution_count": 65,
   "id": "4f5cffc7",
   "metadata": {},
   "outputs": [
    {
     "name": "stdout",
     "output_type": "stream",
     "text": [
      "['에 한 번 웃 어 봐요 . 기분 이 좋 겠 어요 .  ⁇ end>>', '는 것 처럼 반응 이 일어나 서 완전히 바뀌 게 되 죠 .  ⁇ end>>', '을 받 아 가 서 같이 먹 는 게 좋 겠 어요 .  ⁇ end>>', '한다는 말 아끼 지 않 는 선 이 좋 겠 어요 .  ⁇ end>>>']\n"
     ]
    }
   ],
   "source": [
    "dec_preds = []\n",
    "\n",
    "for i in range(enc_test.shape[0]):\n",
    "    pred = translate(enc_test[i:i+1], transformer, vectorizer)\n",
    "    dec_preds.append(pred)\n",
    "    \n",
    "print(dec_preds)"
   ]
  },
  {
   "cell_type": "code",
   "execution_count": 66,
   "id": "0bfd5e91",
   "metadata": {},
   "outputs": [
    {
     "name": "stdout",
     "output_type": "stream",
     "text": [
      "# 예문\n",
      "0. 지루하다, 놀러가고 싶어.\n",
      "1. 오늘 일찍 일어났더니 피곤하다.\n",
      "2. 간만에 여자친구랑 데이트 하기로 했어.\n",
      "3. 집에 있는다는 소리야.\n",
      "\n",
      "---\n",
      "\n",
      "# 제출\n",
      "\n",
      "> 0. 에 한 번 웃 어 봐요 . 기분 이 좋 겠 어요 .  ⁇ end>>\n",
      "> 1. 는 것 처럼 반응 이 일어나 서 완전히 바뀌 게 되 죠 .  ⁇ end>>\n",
      "> 2. 을 받 아 가 서 같이 먹 는 게 좋 겠 어요 .  ⁇ end>>\n",
      "> 3. 한다는 말 아끼 지 않 는 선 이 좋 겠 어요 .  ⁇ end>>>\n",
      "\n",
      "Hyperparameters\n",
      "> n_layers: 2\n",
      "> d_model: 512\n",
      "> n_heads: 4\n",
      "> d_ff: 2048\n",
      "> src_vocab_size: 8000\n",
      "> tgt_vocab_size: 8000\n",
      "> pos_len: 20\n",
      "> dropout: 0.5\n",
      "> shared_fc: True\n",
      "> shared_emb: True\n",
      "\n",
      "Training Parameters\n",
      "> Warmup Steps: 4000\n",
      "> Batch Size:  50\n",
      "> Epoch At: 40\n"
     ]
    }
   ],
   "source": [
    "print('# 예문')\n",
    "for i, question in enumerate(test_text):\n",
    "    print(f\"{i}. {question}\")\n",
    "\n",
    "print(\"\\n---\\n\")\n",
    "\n",
    "print(\"# 제출\\n\")\n",
    "for i, answer in enumerate(dec_preds):\n",
    "    print(f\"> {i}. {answer}\")\n",
    "    \n",
    "print(\"\\nHyperparameters\")\n",
    "for key, value in hyper_params.items():\n",
    "    print(f\"> {key}: {value}\")\n",
    "    \n",
    "print(\"\\nTraining Parameters\")\n",
    "print(\"> Warmup Steps:\", WARMUP_STEPS)\n",
    "print(\"> Batch Size: \", BATCH_SIZE)\n",
    "print(\"> Epoch At:\", EPOCHS)"
   ]
  },
  {
   "cell_type": "markdown",
   "id": "26c92ec0",
   "metadata": {},
   "source": [
    "# 성능 측정하기"
   ]
  },
  {
   "cell_type": "code",
   "execution_count": 67,
   "id": "a7327c79",
   "metadata": {},
   "outputs": [],
   "source": [
    "def calculate_bleu(reference, candidate, weights=[0.25, 0.25, 0.25, 0.25]):\n",
    "    return sentence_bleu([reference],\n",
    "                         candidate,\n",
    "                         weights=weights,\n",
    "                         smoothing_function=SmoothingFunction().method1)"
   ]
  },
  {
   "cell_type": "code",
   "execution_count": 68,
   "id": "459f7f96",
   "metadata": {},
   "outputs": [
    {
     "name": "stdout",
     "output_type": "stream",
     "text": [
      "질문:  ⁇ start> 12 시 땡 !  ⁇ end>\n",
      "챗봇 대답: 에 한 번 웃 어 봐요 . 기분 이 좋 겠 어요 .  ⁇ end>>\n",
      "원본 대답:  하루 가 또 가 네요 .  ⁇ end>\n",
      "BLEU score: 0.2919781303036754\n",
      "질문:  ⁇ start> 1 지망 학교 떨어졌 어  ⁇ end>\n",
      "챗봇 대답: 는 것 처럼 반응 이 일어나 서 완전히 바뀌 게 되 죠 .  ⁇ end>>\n",
      "원본 대답:  위로 해 드립니다 .  ⁇ end>\n",
      "BLEU score: 0.22786124148191833\n",
      "질문: art> 3 박 4 일 놀 러 가 고 싶 다  ⁇ end>\n",
      "챗봇 대답: 을 받 아 가 서 같이 먹 는 게 좋 겠 어요 .  ⁇ end>>\n",
      "원본 대답:  여행 은 언제나 좋 죠 .  ⁇ end>\n",
      "BLEU score: 0.29759282342490984\n",
      "질문: rt> 3 박 4 일 정도 놀 러 가 고 싶 다  ⁇ end>\n",
      "챗봇 대답: 한다는 말 아끼 지 않 는 선 이 좋 겠 어요 .  ⁇ end>>>\n",
      "원본 대답:  여행 은 언제나 좋 죠 .  ⁇ end>\n",
      "BLEU score: 0.2892014777444793\n"
     ]
    }
   ],
   "source": [
    "enc_samples = enc_train[0:15:3, :]\n",
    "dec_samples = dec_train[0:15:3, :]\n",
    "\n",
    "for i in range(len(test_text)):\n",
    "    question = vectorizer.decode_ids(enc_samples[i].tolist())\n",
    "    answer = vectorizer.decode_ids(dec_samples[i].tolist())[9:]\n",
    "    print(\"질문:\", question)\n",
    "    print(\"챗봇 대답:\", dec_preds[i])\n",
    "    print(\"원본 대답:\", answer)\n",
    "    print(\"BLEU score:\", calculate_bleu(answer, dec_preds[i]))"
   ]
  },
  {
   "cell_type": "markdown",
   "id": "c78f359e",
   "metadata": {},
   "source": [
    "# 회고"
   ]
  },
  {
   "cell_type": "markdown",
   "id": "0309fc1e",
   "metadata": {},
   "source": [
    "- SentencePiece에서 bpe 방식으로 토큰화할 때 vocab_size가 최대 개수를 넘어가면 무한 루프에 빠짐\n",
    "    - 지금까지 bpe로 돌렸을때 4시간동안 안되는 이유\n",
    "    - unigram의 경우에는 Warning 문구로 가능한 최대 단어 개수를 초과했다고 알려줌\n",
    "- SentencePiece 라이브러리를 좀 더 살펴봐야함\n",
    "    - `<start>`와 `<end>`를 토큰으로 등록해도 인코딩 문제가 존재함"
   ]
  },
  {
   "cell_type": "code",
   "execution_count": null,
   "id": "72c46ae3",
   "metadata": {},
   "outputs": [],
   "source": []
  }
 ],
 "metadata": {
  "kernelspec": {
   "display_name": "Python 3 (ipykernel)",
   "language": "python",
   "name": "python3"
  },
  "language_info": {
   "codemirror_mode": {
    "name": "ipython",
    "version": 3
   },
   "file_extension": ".py",
   "mimetype": "text/x-python",
   "name": "python",
   "nbconvert_exporter": "python",
   "pygments_lexer": "ipython3",
   "version": "3.9.7"
  }
 },
 "nbformat": 4,
 "nbformat_minor": 5
}
