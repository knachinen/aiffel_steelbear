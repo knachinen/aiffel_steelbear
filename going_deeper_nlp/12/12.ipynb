{
 "cells": [
  {
   "cell_type": "markdown",
   "id": "9deef0e4",
   "metadata": {},
   "source": [
    "# 한영 번역기 만들기"
   ]
  },
  {
   "cell_type": "code",
   "execution_count": 1,
   "id": "4e025c8e",
   "metadata": {},
   "outputs": [],
   "source": [
    "import tensorflow as tf\n",
    "from tensorflow import keras\n",
    "from tensorflow.keras import layers\n",
    "import numpy as np\n",
    "\n",
    "import matplotlib.ticker as ticker\n",
    "import matplotlib.pyplot as plt\n",
    "\n",
    "from konlpy.tag import Mecab\n",
    "\n",
    "from tqdm import tqdm\n",
    "import random\n",
    "import time\n",
    "import html\n",
    "import re\n",
    "import os\n",
    "import io"
   ]
  },
  {
   "cell_type": "code",
   "execution_count": 2,
   "id": "f1fa8b0a",
   "metadata": {},
   "outputs": [
    {
     "data": {
      "text/plain": [
       "'/usr/share/fonts/truetype/nanum/NanumBarunGothic.ttf'"
      ]
     },
     "execution_count": 2,
     "metadata": {},
     "output_type": "execute_result"
    }
   ],
   "source": [
    "import matplotlib as mpl\n",
    "import matplotlib.pyplot as plt\n",
    " \n",
    "%config InlineBackend.figure_format = 'retina'\n",
    " \n",
    "import matplotlib.font_manager as fm\n",
    "fontpath = '/usr/share/fonts/truetype/nanum/NanumBarunGothic.ttf'\n",
    "font = fm.FontProperties(fname=fontpath, size=9)\n",
    "plt.rc('font', family='NanumBarunGothic') \n",
    "mpl.font_manager.findfont(font)"
   ]
  },
  {
   "cell_type": "markdown",
   "id": "605e114f",
   "metadata": {},
   "source": [
    "# Step 1. 데이터 다운로드"
   ]
  },
  {
   "cell_type": "code",
   "execution_count": 3,
   "id": "2ab24e18",
   "metadata": {},
   "outputs": [
    {
     "name": "stdout",
     "output_type": "stream",
     "text": [
      "--2023-08-24 12:02:42--  https://github.com/jungyeul/korean-parallel-corpora/raw/master/korean-english-news-v1/korean-english-park.train.tar.gz\n",
      "Resolving github.com (github.com)... 192.30.255.113\n",
      "Connecting to github.com (github.com)|192.30.255.113|:443... connected.\n",
      "HTTP request sent, awaiting response... 302 Found\n",
      "Location: https://raw.githubusercontent.com/jungyeul/korean-parallel-corpora/master/korean-english-news-v1/korean-english-park.train.tar.gz [following]\n",
      "--2023-08-24 12:02:42--  https://raw.githubusercontent.com/jungyeul/korean-parallel-corpora/master/korean-english-news-v1/korean-english-park.train.tar.gz\n",
      "Resolving raw.githubusercontent.com (raw.githubusercontent.com)... 185.199.108.133, 185.199.109.133, 185.199.110.133, ...\n",
      "Connecting to raw.githubusercontent.com (raw.githubusercontent.com)|185.199.108.133|:443... connected.\n",
      "HTTP request sent, awaiting response... 200 OK\n",
      "Length: 8718893 (8.3M) [application/octet-stream]\n",
      "Saving to: ‘korean-english-park.train.tar.gz’\n",
      "\n",
      "korean-english-park 100%[===================>]   8.31M  --.-KB/s    in 0.06s   \n",
      "\n",
      "2023-08-24 12:02:43 (141 MB/s) - ‘korean-english-park.train.tar.gz’ saved [8718893/8718893]\n",
      "\n",
      "--2023-08-24 12:02:44--  https://github.com/jungyeul/korean-parallel-corpora/raw/master/korean-english-news-v1/korean-english-park.test.tar.gz\n",
      "Resolving github.com (github.com)... 192.30.255.113\n",
      "Connecting to github.com (github.com)|192.30.255.113|:443... connected.\n",
      "HTTP request sent, awaiting response... 302 Found\n",
      "Location: https://raw.githubusercontent.com/jungyeul/korean-parallel-corpora/master/korean-english-news-v1/korean-english-park.test.tar.gz [following]\n",
      "--2023-08-24 12:02:44--  https://raw.githubusercontent.com/jungyeul/korean-parallel-corpora/master/korean-english-news-v1/korean-english-park.test.tar.gz\n",
      "Resolving raw.githubusercontent.com (raw.githubusercontent.com)... 185.199.108.133, 185.199.109.133, 185.199.110.133, ...\n",
      "Connecting to raw.githubusercontent.com (raw.githubusercontent.com)|185.199.108.133|:443... connected.\n",
      "HTTP request sent, awaiting response... 200 OK\n",
      "Length: 229831 (224K) [application/octet-stream]\n",
      "Saving to: ‘korean-english-park.test.tar.gz’\n",
      "\n",
      "korean-english-park 100%[===================>] 224.44K  --.-KB/s    in 0.02s   \n",
      "\n",
      "2023-08-24 12:02:44 (9.79 MB/s) - ‘korean-english-park.test.tar.gz’ saved [229831/229831]\n",
      "\n",
      "korean-english-park.train.en\n",
      "korean-english-park.train.ko\n",
      "korean-english-park.test.en\n",
      "korean-english-park.test.ko\n"
     ]
    }
   ],
   "source": [
    "!wget https://github.com/jungyeul/korean-parallel-corpora/raw/master/korean-english-news-v1/korean-english-park.train.tar.gz\n",
    "!wget https://github.com/jungyeul/korean-parallel-corpora/raw/master/korean-english-news-v1/korean-english-park.test.tar.gz\n",
    "\n",
    "!tar -xvf korean-english-park.train.tar.gz\n",
    "!tar -xvf korean-english-park.test.tar.gz"
   ]
  },
  {
   "cell_type": "code",
   "execution_count": 4,
   "id": "55a0e189",
   "metadata": {},
   "outputs": [
    {
     "name": "stdout",
     "output_type": "stream",
     "text": [
      "12.ipynb\t\t\t korean-english-park.train.en\r\n",
      "korean-english-park.test.en\t korean-english-park.train.ko\r\n",
      "korean-english-park.test.ko\t korean-english-park.train.tar.gz\r\n",
      "korean-english-park.test.tar.gz  README.md\r\n"
     ]
    }
   ],
   "source": [
    "!ls"
   ]
  },
  {
   "cell_type": "code",
   "execution_count": 5,
   "id": "1c116c42",
   "metadata": {},
   "outputs": [
    {
     "name": "stdout",
     "output_type": "stream",
     "text": [
      "총94123줄의 한국어 문장 로드 완료\n"
     ]
    }
   ],
   "source": [
    "kor_corpus = []\n",
    "with open('korean-english-park.train.ko', 'r') as f:\n",
    "    while True:\n",
    "        line = f.readline()\n",
    "        if not line:\n",
    "            break\n",
    "        kor_corpus.append(line)\n",
    "\n",
    "print('총' + str(len(kor_corpus)) + '줄의 한국어 문장 로드 완료')"
   ]
  },
  {
   "cell_type": "code",
   "execution_count": 6,
   "id": "85c01c7c",
   "metadata": {},
   "outputs": [
    {
     "name": "stdout",
     "output_type": "stream",
     "text": [
      "총94123줄의 영어 문장 로드 완료\n"
     ]
    }
   ],
   "source": [
    "eng_corpus = []\n",
    "with open('korean-english-park.train.en', 'r') as f:\n",
    "    while True:\n",
    "        line = f.readline()\n",
    "        if not line:\n",
    "            break\n",
    "        eng_corpus.append(line)\n",
    "\n",
    "print('총' + str(len(eng_corpus)) + '줄의 영어 문장 로드 완료')"
   ]
  },
  {
   "cell_type": "code",
   "execution_count": 7,
   "id": "693283ec",
   "metadata": {},
   "outputs": [
    {
     "name": "stdout",
     "output_type": "stream",
     "text": [
      "한국어: 개인용 컴퓨터 사용의 상당 부분은 \"이것보다 뛰어날 수 있느냐?\"\n",
      "\n",
      "영어 : Much of personal computing is about \"can you top this?\"\n",
      "\n",
      "한국어: 모든 광마우스와 마찬가지 로 이 광마우스도 책상 위에 놓는 마우스 패드를 필요로 하지 않는다.\n",
      "\n",
      "영어 : so a mention a few weeks ago about a rechargeable wireless optical mouse brought in another rechargeable, wireless mouse.\n",
      "\n",
      "한국어: 그러나 이것은 또한 책상도 필요로 하지 않는다.\n",
      "\n",
      "영어 : Like all optical mice, But it also doesn't need a desk.\n",
      "\n",
      "한국어: 79.95달러하는 이 최첨단 무선 광마우스는 허공에서 팔목, 팔, 그외에 어떤 부분이든 그 움직임에따라 커서의 움직임을 조절하는 회전 운동 센서를 사용하고 있다.\n",
      "\n",
      "영어 : uses gyroscopic sensors to control the cursor movement as you move your wrist, arm, whatever through the air.\n",
      "\n",
      "한국어: 정보 관리들은 동남 아시아에서의 선박들에 대한 많은 (테러) 계획들이 실패로 돌아갔음을 밝혔으며, 세계 해상 교역량의 거의 3분의 1을 운송하는 좁은 해로인 말라카 해협이 테러 공격을 당하기 쉽다고 경고하고 있다.\n",
      "\n",
      "영어 : Intelligence officials have revealed a spate of foiled plots on ships in Southeast Asia and are warning that a narrow stretch of water carrying almost one third of the world's maritime trade is vulnerable to a terror attack.\n",
      "\n",
      "한국어: 이 지역에 있는 미국 선박과 상업용 선박들에 대한 알카에다의 (테러) 시도 중 여러 건이 실패했다는 것을 알게 된 후에, 전문가들은 테러 조직이 여전히 세계 경제에 타격을 입히려 한다고 경고하고 있으며, 동남 아시아에 있는 세계 경제의 주요 통로가 위험에 처해 있다고 그들은 생각하고 있다.\n",
      "\n",
      "영어 : After learning of several foiled al Qaeda attempts on U.S. and commercial ships in the area, experts are warning that the terror network still wants to cripple the global economy, the world's economic jugular vein in Southeast Asia is at risk.\n",
      "\n",
      "한국어: 국립 과학 학회가 발표한 새 보고서에따르면, 복잡한 임무를 수행해야 하는 군인들이나 보다 오랜 시간 동안 경계를 늦추지 않고 있기 위해 도움이 필요한 군인들에게 카페인이 반응 시간을 증가시키고 임무 수행 능력을 향상시키는데 도움이 된다고 한다.\n",
      "\n",
      "영어 : Caffeine can help increase reaction time and improve performance for military servicemen who must perform complex tasks or who need help staying alert for longer periods of time, according to a new report by the National Academy of Sciences.\n",
      "\n",
      "한국어: 이 보고서에따르면, \"특히, 군사 작전에서 생사가 걸린 상황이 될 수도 있는 반응 속도와 시각 및 청각의 경계 상태를 유지시키기 위해 카페인이 사용될 수도 있다.\" 고 한다.\n",
      "\n",
      "영어 : \"Specifically, it can be used in maintaining speed of reactions and visual and auditory vigilance, which in military operations could be a life or death situation,\" according to the report.\n",
      "\n",
      "한국어: \"결정적인 순간에 그들의 능력을 증가시켜 줄 그 무엇이 매우 중요합니다.\"\n",
      "\n",
      "영어 : \"Something that will boost their capabilities at crucial moments is very important.\"\n",
      "\n",
      "한국어: 연구가들이 이미 커피 대체품으로서 음식 대용 과자나 껌에 카페인을 첨가하는 방법을 연구하고 있다고 Archibald는 말했다.\n",
      "\n",
      "영어 : Researchers are already exploring ways to put caffeine in nutrition bars or chewing gum as alternatives to coffee, Archibald said.\n",
      "\n"
     ]
    }
   ],
   "source": [
    "for i, (kor, eng) in enumerate(zip(kor_corpus, eng_corpus)):\n",
    "    if i == 10:\n",
    "        break\n",
    "    print('한국어:', kor)\n",
    "    print('영어 :', eng)"
   ]
  },
  {
   "cell_type": "code",
   "execution_count": 8,
   "id": "8c36f5fe",
   "metadata": {},
   "outputs": [
    {
     "name": "stdout",
     "output_type": "stream",
     "text": [
      "유시프의 어머니인 자이네브는 이에 대해 “당연하다”고 답변했다.\n",
      "\n",
      "The reply: \"Of course,\" said Youssif's mother, Zainab.\n",
      "\n",
      "이 재단에서 유시프 가족의 여행비용과 유시프의 치료비 전액을 부담하게 된다.\n",
      "\n",
      "For the first time in a long time, the family laughed out of pure joy. See Youssif play with his new toys &raquo;\n",
      "\n",
      "CNN은 TV와 온라인을 통해 지난달 22일 유시프의 안타까운 사연을 보도했다.\n",
      "\n",
      "Standing on the apartment's balcony, Youssif's father turned to Barbara Friedman, executive director of the Children's Burn Foundation.\n",
      "\n",
      "유시프의 가족은 아이의 치료를 위해 외국으로 떠날지 아니면 이라크에 남을지 결정을 내려야 했다.\n",
      "\n",
      "Specifically, the family had to make a decision on whether to leave their homeland or stay inside Iraq for treatment.\n",
      "\n",
      "그러나 가족은 유시프의 장래를 위해 미국행을 고려할 수 밖에 없었다.\n",
      "\n",
      "But the family has decided Youssif should seek treatment in the United States.\n",
      "\n",
      "유시프의 아버지는 아들의 미국행이 결정됐다는 소식에 “행복한 마음으로 비행기에 오를 수 있을 것 같다”며 희망 섞인 발언을 했다.\n",
      "\n",
      "Youssif's father was also cheered by the news.\n",
      "\n"
     ]
    }
   ],
   "source": [
    "for kor, eng in zip(kor_corpus, eng_corpus):\n",
    "    if '유시프의' in kor:\n",
    "        print(kor)\n",
    "        print(eng)"
   ]
  },
  {
   "cell_type": "markdown",
   "id": "71961929",
   "metadata": {},
   "source": [
    "원본 파일의 한국어와 영어 문장 쌍이 잘 맞지 않는 것으로 보아 모델의 학습 결과가 낮을 것으로 예상"
   ]
  },
  {
   "cell_type": "markdown",
   "id": "c3784dd8",
   "metadata": {},
   "source": [
    "# Step 2. 데이터 정제"
   ]
  },
  {
   "cell_type": "markdown",
   "id": "fd86c882",
   "metadata": {},
   "source": [
    "## 중복 데이터 제거"
   ]
  },
  {
   "cell_type": "code",
   "execution_count": 9,
   "id": "1635a95a",
   "metadata": {},
   "outputs": [
    {
     "name": "stdout",
     "output_type": "stream",
     "text": [
      "중복 데이터를 전부 제거한 후 샘플 수: 78968\n"
     ]
    }
   ],
   "source": [
    "cleaned_corpus = list(set(zip(kor_corpus, eng_corpus)))\n",
    "print(\"중복 데이터를 전부 제거한 후 샘플 수:\", len(cleaned_corpus))"
   ]
  },
  {
   "cell_type": "code",
   "execution_count": 10,
   "id": "ea9fe872",
   "metadata": {},
   "outputs": [
    {
     "name": "stdout",
     "output_type": "stream",
     "text": [
      "한국어 문장: 75577\n",
      "영어 문장: 75577\n"
     ]
    }
   ],
   "source": [
    "kor_corpus = []\n",
    "eng_corpus = []\n",
    "\n",
    "# 한국어와 영어 문장을 다시 분리\n",
    "for kor, eng in cleaned_corpus:\n",
    "    # 학습 속도를 위해 40 단어를 초과하는 문장 제거\n",
    "    if len(kor.split()) > 40 or len(eng.split()) > 40:\n",
    "        continue\n",
    "        \n",
    "    kor_corpus.append(kor)\n",
    "    eng_corpus.append(eng)\n",
    "    \n",
    "print('한국어 문장:', len(kor_corpus))\n",
    "print('영어 문장:', len(eng_corpus))"
   ]
  },
  {
   "cell_type": "markdown",
   "id": "af674cb4",
   "metadata": {},
   "source": [
    "## 텍스트 전처리 \n",
    "- 영어 소문자화\n",
    "- html 엔티티 제거\n",
    "    - html 엔티티를 특수문자로 인코딩\n",
    "- 문장부호 단일 토큰화\n",
    "- 긴 공백 줄이기\n",
    "- 한글, 영문자, 숫자, 문장부호를 제외한 모든 글자 제거"
   ]
  },
  {
   "cell_type": "code",
   "execution_count": 11,
   "id": "727c1d57",
   "metadata": {},
   "outputs": [],
   "source": [
    "def preprocess_sentence(sentence, s_token=False, e_token=False):\n",
    "    sentence = sentence.lower().strip() # 영어 소문자화\n",
    "    sentence = html.unescape(sentence)  # html 엔티티 인코딩\n",
    "\n",
    "    sentence = re.sub(r\"([?.!,])\", r\" \\1 \", sentence) # 문장부호 분리\n",
    "    sentence = re.sub(r'[\" \"]+', \" \", sentence)       # 긴 공백 줄이기\n",
    "    sentence = re.sub(r\"[^ㄱ-ㅎ가-힣a-zA-Z0-9?.!,]+\", \" \", sentence) # 불필요한 글자 제거\n",
    "\n",
    "    sentence = sentence.strip() # 문장의 양쪽 공백 제거\n",
    "\n",
    "    if s_token:\n",
    "        sentence = '<start> ' + sentence\n",
    "\n",
    "    if e_token:\n",
    "        sentence += ' <end>'\n",
    "\n",
    "    return sentence"
   ]
  },
  {
   "cell_type": "code",
   "execution_count": 12,
   "id": "eaf7a888",
   "metadata": {},
   "outputs": [
    {
     "name": "stdout",
     "output_type": "stream",
     "text": [
      "전처리 전 한국어: 팝 스타 빌리조엘이 얼마전 반전 메시지가 담긴 싱글 앨범 ‘크리스마스 인 팔루자(Chrismas in Fallujah)’를 발표했다.\n",
      "\n",
      "전처리 후 한국어: 팝 스타 빌리조엘이 얼마전 반전 메시지가 담긴 싱글 앨범 크리스마스 인 팔루자 chrismas in fallujah 를 발표했다 .\n",
      "전처리 전 영어 : NEW YORK (CNN) Billy Joel has released a new pop single, the anti-war \"Christmas in Fallujah.\n",
      "\n",
      "전처리 후 영어 : <start> new york cnn billy joel has released a new pop single , the anti war christmas in fallujah . <end>\n",
      "--------------------------------------------------------------------------------\n",
      "전처리 전 한국어: advocate 지지자, 옹호자, 대변인\n",
      "\n",
      "전처리 후 한국어: advocate 지지자 , 옹호자 , 대변인\n",
      "전처리 전 영어 : “ Jon, the President summoned 120 experts - from doctors and patients' advocates to executives of drug and insurance companies, even some who helped kill the Clinton health plan.\n",
      "\n",
      "전처리 후 영어 : <start> jon , the president summoned 120 experts from doctors and patients advocates to executives of drug and insurance companies , even some who helped kill the clinton health plan . <end>\n",
      "--------------------------------------------------------------------------------\n",
      "전처리 전 한국어: 최신형 모델 볼드는 업무와 게임 기능을 모두 실행할 수 있는 툴을 개발하려는 RIM의 야심작이다.\n",
      "\n",
      "전처리 후 한국어: 최신형 모델 볼드는 업무와 게임 기능을 모두 실행할 수 있는 툴을 개발하려는 rim의 야심작이다 .\n",
      "전처리 전 영어 : the Bold, a high-end model that further demonstrates the company's desire to make tools for both work and play.\n",
      "\n",
      "전처리 후 영어 : <start> the bold , a high end model that further demonstrates the company s desire to make tools for both work and play . <end>\n",
      "--------------------------------------------------------------------------------\n",
      "전처리 전 한국어: 이번 주 버락 오바마는 (대출금 상환불능에 따른) 주택 압류에 대해 90일의 지불 유예 기간을 줄 것과, 새로운 일자리를 창출하는 기업에 대해서 2년간 세금 우대를 해주는 방법을 제안했습니다.\n",
      "\n",
      "전처리 후 한국어: 이번 주 버락 오바마는 대출금 상환불능에 따른 주택 압류에 대해 90일의 지불 유예 기간을 줄 것과 , 새로운 일자리를 창출하는 기업에 대해서 2년간 세금 우대를 해주는 방법을 제안했습니다 .\n",
      "전처리 전 영어 : This week, Barack Obama had proposed a 90-day moratorium on home foreclosures and a two-year tax break for businesses that create new jobs. Dramatic moves by the Bush administration.\n",
      "\n",
      "전처리 후 영어 : <start> this week , barack obama had proposed a 90 day moratorium on home foreclosures and a two year tax break for businesses that create new jobs . dramatic moves by the bush administration . <end>\n",
      "--------------------------------------------------------------------------------\n",
      "전처리 전 한국어: 경찰은 이 사고로 부상자는 발생하지 않았다고 밝혔다.\n",
      "\n",
      "전처리 후 한국어: 경찰은 이 사고로 부상자는 발생하지 않았다고 밝혔다 .\n",
      "전처리 전 영어 : No one was injured in the incident, police said.\n",
      "\n",
      "전처리 후 영어 : <start> no one was injured in the incident , police said . <end>\n",
      "--------------------------------------------------------------------------------\n",
      "전처리 전 한국어: 버락 오바마 대통령은 국가의 수도에서 일이 처리되는 방식을 바꿀 때가 되었다고 말합니다.\n",
      "\n",
      "전처리 후 한국어: 버락 오바마 대통령은 국가의 수도에서 일이 처리되는 방식을 바꿀 때가 되었다고 말합니다 .\n",
      "전처리 전 영어 : President Barack Obama says it's time to change the way things are done in the nation's capital:\n",
      "\n",
      "전처리 후 영어 : <start> president barack obama says it s time to change the way things are done in the nation s capital <end>\n",
      "--------------------------------------------------------------------------------\n",
      "전처리 전 한국어: 비자금 총 규모는 600억원 이상일 것으로 추정된다.\n",
      "\n",
      "전처리 후 한국어: 비자금 총 규모는 600억원 이상일 것으로 추정된다 .\n",
      "전처리 전 영어 : The overall slush funds are estimated at more than 60 billion won ($63 million).\n",
      "\n",
      "전처리 후 영어 : <start> the overall slush funds are estimated at more than 60 billion won 63 million . <end>\n",
      "--------------------------------------------------------------------------------\n",
      "전처리 전 한국어: 바그다드를 방문한 레젭 타입 에르도간 터키 총리의 외교정책 수석자문인 아메트 다부토구루 특사는 터키의 월경작전이 단지 ‘쿠르드 노동자당(PKK)’반군 세력만을 목표로 한 것이라고 주장했다.\n",
      "\n",
      "전처리 후 한국어: 바그다드를 방문한 레젭 타입 에르도간 터키 총리의 외교정책 수석자문인 아메트 다부토구루 특사는 터키의 월경작전이 단지 쿠르드 노동자당 pkk 반군 세력만을 목표로 한 것이라고 주장했다 .\n",
      "전처리 전 영어 : In Baghdad, Ahmet Davutogulu, chief foreign policy adviser to Turkish Prime Minister Recep Tayyip Erdogan, said the campaign was targeted solely against Kurdistan Workers' Party (PKK) militants responsible for cross-border attacks against Turkish targets.\n",
      "\n",
      "전처리 후 영어 : <start> in baghdad , ahmet davutogulu , chief foreign policy adviser to turkish prime minister recep tayyip erdogan , said the campaign was targeted solely against kurdistan workers party pkk militants responsible for cross border attacks against turkish targets . <end>\n",
      "--------------------------------------------------------------------------------\n",
      "전처리 전 한국어: 여성이 바다에서 악운을 가져온다고 여겨졌지만, 선원들은 자신들의 선박을 언급할 때 항상 \"그녀\"라는 대명사를 사용한다.\n",
      "\n",
      "전처리 후 한국어: 여성이 바다에서 악운을 가져온다고 여겨졌지만 , 선원들은 자신들의 선박을 언급할 때 항상 그녀 라는 대명사를 사용한다 .\n",
      "전처리 전 영어 : Although women were considered to bring bad luck at sea, mariners always use the pronoun \"she\" when referring to their ships.\n",
      "\n",
      "전처리 후 영어 : <start> although women were considered to bring bad luck at sea , mariners always use the pronoun she when referring to their ships . <end>\n",
      "--------------------------------------------------------------------------------\n",
      "전처리 전 한국어: 깁슨은 “트로니칼이 지난 3월부터 온라인과 독일 소매업자들을 통해 프로세서 ‘파워튠 시스템(Powertune System)’을 제공하고 있다”고 전했다.\n",
      "\n",
      "전처리 후 한국어: 깁슨은 트로니칼이 지난 3월부터 온라인과 독일 소매업자들을 통해 프로세서 파워튠 시스템 powertune system 을 제공하고 있다 고 전했다 .\n",
      "전처리 전 영어 : Tronical has offered its \"Powertune System\" online and through retailers in Germany since March, according to the company's Web site.\n",
      "\n",
      "전처리 후 영어 : <start> tronical has offered its powertune system online and through retailers in germany since march , according to the company s web site . <end>\n",
      "--------------------------------------------------------------------------------\n"
     ]
    }
   ],
   "source": [
    "kor_sentences = list(map(preprocess_sentence, kor_corpus))\n",
    "eng_sentences = list(map(lambda s: preprocess_sentence(s, s_token=True, e_token=True), \n",
    "                                  eng_corpus))\n",
    "\n",
    "for i, (kor, kor_pre, eng, eng_pre) in enumerate(zip(kor_corpus, \n",
    "                                                     kor_sentences, \n",
    "                                                     eng_corpus,\n",
    "                                                     eng_sentences)):\n",
    "    if i == 10:\n",
    "        break\n",
    "    print('전처리 전 한국어:', kor)\n",
    "    print('전처리 후 한국어:', kor_pre)\n",
    "    \n",
    "    print('전처리 전 영어 :', eng)\n",
    "    print('전처리 후 영어 :', eng_pre)\n",
    "    print('-'*80)"
   ]
  },
  {
   "cell_type": "markdown",
   "id": "4d81be97",
   "metadata": {},
   "source": [
    "# Step 3. 데이터 토큰화\n",
    "## 한국어 문장"
   ]
  },
  {
   "cell_type": "code",
   "execution_count": 13,
   "id": "fe42485a",
   "metadata": {},
   "outputs": [],
   "source": [
    "kor_spliter = Mecab()\n",
    "kor_splited = []\n",
    "for sentence in kor_sentences:\n",
    "    kor_splited.append(kor_spliter.morphs(sentence))"
   ]
  },
  {
   "cell_type": "code",
   "execution_count": 14,
   "id": "98325d4f",
   "metadata": {},
   "outputs": [],
   "source": [
    "vocab_size = 30000\n",
    "\n",
    "kor_tokenizer = keras.preprocessing.text.Tokenizer(\n",
    "    num_words=vocab_size,\n",
    ")\n",
    "\n",
    "kor_tokenizer.fit_on_texts(kor_splited)\n",
    "kor_tensor = kor_tokenizer.texts_to_sequences(kor_splited)\n",
    "kor_sequences = keras.preprocessing.sequence.pad_sequences(kor_tensor, maxlen=85, padding='post')"
   ]
  },
  {
   "cell_type": "code",
   "execution_count": 15,
   "id": "fa8203ac",
   "metadata": {},
   "outputs": [
    {
     "data": {
      "text/plain": [
       "array([ 3743,   796,     3,  1614,    49,  4370,  1013,    15,  2471,\n",
       "        6340,  2089,  1700,    23,   678,  8896,   529, 20140,     9,\n",
       "         113,    11,     2,     1,     0,     0,     0,     0,     0,\n",
       "           0,     0,     0,     0,     0,     0,     0,     0,     0,\n",
       "           0,     0,     0,     0,     0,     0,     0,     0,     0,\n",
       "           0,     0,     0,     0,     0,     0,     0,     0,     0,\n",
       "           0,     0,     0,     0,     0,     0,     0,     0,     0,\n",
       "           0,     0,     0,     0,     0,     0,     0,     0,     0,\n",
       "           0,     0,     0,     0,     0,     0,     0,     0,     0,\n",
       "           0,     0,     0,     0], dtype=int32)"
      ]
     },
     "execution_count": 15,
     "metadata": {},
     "output_type": "execute_result"
    }
   ],
   "source": [
    "kor_sequences[0]"
   ]
  },
  {
   "cell_type": "code",
   "execution_count": 16,
   "id": "594f2b90",
   "metadata": {},
   "outputs": [
    {
     "name": "stdout",
     "output_type": "stream",
     "text": [
      "['팝 스타 이 얼마 전 반전 메시지 가 담긴 싱글 앨범 크리스마스 인 팔 루자 in fallujah 를 발표 했 다 .']\n"
     ]
    }
   ],
   "source": [
    "print(kor_tokenizer.sequences_to_texts(kor_sequences[0:1]))"
   ]
  },
  {
   "cell_type": "markdown",
   "id": "a13f736d",
   "metadata": {},
   "source": [
    "## 영어 문장"
   ]
  },
  {
   "cell_type": "code",
   "execution_count": 17,
   "id": "5882cb2e",
   "metadata": {},
   "outputs": [],
   "source": [
    "eng_splited = [eng.split() for eng in eng_sentences]"
   ]
  },
  {
   "cell_type": "code",
   "execution_count": 18,
   "id": "17d1b2f3",
   "metadata": {},
   "outputs": [],
   "source": [
    "eng_tokenizer = keras.preprocessing.text.Tokenizer(\n",
    "    num_words=vocab_size,\n",
    ")\n",
    "\n",
    "eng_tokenizer.fit_on_texts(eng_splited)\n",
    "eng_tensor = eng_tokenizer.texts_to_sequences(eng_splited)\n",
    "eng_sequences = keras.preprocessing.sequence.pad_sequences(eng_tensor, maxlen=59, padding='post')"
   ]
  },
  {
   "cell_type": "code",
   "execution_count": 19,
   "id": "68c2beb1",
   "metadata": {
    "scrolled": true
   },
   "outputs": [
    {
     "data": {
      "text/plain": [
       "array([    4,    49,   230,    65,  7254,  7836,    25,   313,     8,\n",
       "          49,  2740,  1247,     3,     1,   575,   173,  1635,     9,\n",
       "       13224,     2,     5,     0,     0,     0,     0,     0,     0,\n",
       "           0,     0,     0,     0,     0,     0,     0,     0,     0,\n",
       "           0,     0,     0,     0,     0,     0,     0,     0,     0,\n",
       "           0,     0,     0,     0,     0,     0,     0,     0,     0,\n",
       "           0,     0,     0,     0,     0], dtype=int32)"
      ]
     },
     "execution_count": 19,
     "metadata": {},
     "output_type": "execute_result"
    }
   ],
   "source": [
    "eng_sequences[0]"
   ]
  },
  {
   "cell_type": "code",
   "execution_count": 20,
   "id": "b6ae04e2",
   "metadata": {},
   "outputs": [
    {
     "name": "stdout",
     "output_type": "stream",
     "text": [
      "['<start> new york cnn billy joel has released a new pop single , the anti war christmas in fallujah . <end>']\n"
     ]
    }
   ],
   "source": [
    "print(eng_tokenizer.sequences_to_texts(eng_sequences[0:1]))"
   ]
  },
  {
   "cell_type": "markdown",
   "id": "30214162",
   "metadata": {},
   "source": [
    "# Step 4. 모델 설계"
   ]
  },
  {
   "cell_type": "code",
   "execution_count": 21,
   "id": "66abd406",
   "metadata": {},
   "outputs": [],
   "source": [
    "class BahdanauAttention(layers.Layer):\n",
    "    def __init__(self, units):\n",
    "        super(BahdanauAttention, self).__init__()\n",
    "        self.w_encoder = layers.Dense(units)\n",
    "        self.w_decoder = layers.Dense(units)\n",
    "        self.w_combine = layers.Dense(1)\n",
    "\n",
    "    def call(self, H_encoder, H_decoder):\n",
    "        H_encoder = self.w_encoder(H_encoder)\n",
    "\n",
    "        H_decoder = tf.expand_dims(H_decoder, axis=1)\n",
    "        H_decoder = self.w_decoder(H_decoder)\n",
    "        \n",
    "        score = self.w_combine(tf.nn.tanh(H_encoder + H_decoder))\n",
    "        attention_weights = tf.nn.softmax(score, axis=1)\n",
    "\n",
    "        context_vector = attention_weights * H_encoder\n",
    "        context_vector = tf.reduce_sum(context_vector, axis=1)\n",
    "\n",
    "        return context_vector, attention_weights"
   ]
  },
  {
   "cell_type": "code",
   "execution_count": 22,
   "id": "4b164b0e",
   "metadata": {},
   "outputs": [],
   "source": [
    "class Encoder(keras.Model):\n",
    "    def __init__(self, vocab_size, embed_dim, enc_dim):\n",
    "        super(Encoder, self).__init__()\n",
    "        self.embedding = layers.Embedding(vocab_size, embed_dim)\n",
    "        self.gru = layers.GRU(enc_dim,\n",
    "                              return_sequences=True) # 어텐선 점수 계산을 위해 각 스탭별 hidden state를 반환\n",
    "    \n",
    "    def call(self, x):\n",
    "        x = self.embedding(x)\n",
    "        output = self.gru(x)\n",
    "        return output"
   ]
  },
  {
   "cell_type": "code",
   "execution_count": 23,
   "id": "289cafe1",
   "metadata": {},
   "outputs": [],
   "source": [
    "class Decoder(keras.Model):\n",
    "    def __init__(self, vocab_size, embed_dim, dec_dim):\n",
    "        super(Decoder, self).__init__()\n",
    "        self.embedding = layers.Embedding(vocab_size, embed_dim)\n",
    "        self.attention = BahdanauAttention(dec_dim)\n",
    "        self.gru = layers.GRU(dec_dim, \n",
    "                              return_sequences=True,\n",
    "                              return_state=True)\n",
    "        self.fc = layers.Dense(vocab_size)\n",
    "    \n",
    "    def call(self, x, h_decoder, h_encoder):\n",
    "        x = self.embedding(x)\n",
    "        context_v, attn = self.attention(h_encoder, h_decoder)\n",
    "        x = tf.concat([tf.expand_dims(context_v, axis=1), x],\n",
    "                      axis=-1)\n",
    "        x, h_decoder = self.gru(x)\n",
    "        x = self.fc(x)\n",
    "        x = tf.reshape(x, (-1, x.shape[2]))\n",
    "        return x, h_decoder, attn"
   ]
  },
  {
   "cell_type": "code",
   "execution_count": 34,
   "id": "1de59a12",
   "metadata": {},
   "outputs": [],
   "source": [
    "embed_dim = 128\n",
    "units = 128\n",
    "\n",
    "encoder = Encoder(vocab_size, embed_dim, units)\n",
    "decoder = Decoder(vocab_size, embed_dim, units)"
   ]
  },
  {
   "cell_type": "markdown",
   "id": "9e798d1d",
   "metadata": {},
   "source": [
    "# Step 5: 훈련하기"
   ]
  },
  {
   "cell_type": "code",
   "execution_count": 35,
   "id": "3ee6440f",
   "metadata": {},
   "outputs": [],
   "source": [
    "# 옵티마이저\n",
    "optimizer = keras.optimizers.Adam()\n",
    "\n",
    "# 손실함수\n",
    "loss_object = keras.losses.SparseCategoricalCrossentropy(\n",
    "    from_logits=True, reduction='none')\n",
    "\n",
    "def loss_function(real, pred):\n",
    "    mask = tf.math.logical_not(tf.math.equal(real, 0))\n",
    "    loss = loss_object(real, pred)\n",
    "\n",
    "    mask = tf.cast(mask, dtype=loss.dtype)\n",
    "    loss *= mask\n",
    "\n",
    "    return tf.reduce_mean(loss)"
   ]
  },
  {
   "cell_type": "code",
   "execution_count": 36,
   "id": "8470d6b4",
   "metadata": {},
   "outputs": [],
   "source": [
    "@tf.function\n",
    "def train_step(src, tgt, encoder, decoder, optimizer, dec_tok):\n",
    "    bsz = src.shape[0] # 배치사이즈\n",
    "    loss = 0\n",
    "\n",
    "    with tf.GradientTape() as tape:\n",
    "        # 인코더\n",
    "        # src = tf.reverse(src, [-1])\n",
    "        enc_out = encoder(src)\n",
    "        h_dec = enc_out[:, -1] # 마지막 hidden state를 디코더의 첫 hidden_state로 사용\n",
    "\n",
    "        # 디코더\n",
    "        # 디코더가 생성한 시퀀스를 저장할 배열\n",
    "        dec_src = tf.expand_dims([dec_tok.word_index['<start>']] * bsz, 1)\n",
    "\n",
    "        for t in range(1, tgt.shape[1]):\n",
    "            # 다음 단어 예측\n",
    "            pred, h_dec, _ = decoder(dec_src, h_dec, enc_out)\n",
    "\n",
    "            # 손실값 계산\n",
    "            loss += loss_function(tgt[:, t], pred)\n",
    "            # 강제 교수를 위해 디코더의 입력 시퀀스를 정답 시퀀스에서 가져옴\n",
    "            dec_src = tf.expand_dims(tgt[:, t], 1)\n",
    "\n",
    "    # 평균 손실 값 계산\n",
    "    batch_loss = (loss / int(tgt.shape[1]))\n",
    "\n",
    "    # 옵티마이저로 가중치 업데이트\n",
    "    variables = encoder.trainable_variables + decoder.trainable_variables\n",
    "    gradients = tape.gradient(loss, variables)\n",
    "    optimizer.apply_gradients(zip(gradients, variables))\n",
    "\n",
    "    return batch_loss"
   ]
  },
  {
   "cell_type": "code",
   "execution_count": 37,
   "id": "dd10aa31",
   "metadata": {},
   "outputs": [],
   "source": [
    "def predict(src, encoder, decoder):\n",
    "    # 입력 데이터 전처리\n",
    "    src = preprocess_sentence(src)\n",
    "    src = kor_spliter.morphs(src)\n",
    "    src = kor_tokenizer.texts_to_sequences([src])\n",
    "    src = keras.preprocessing.sequence.pad_sequences(src, maxlen=85, padding='post')\n",
    "    \n",
    "    # 인코더\n",
    "    # src = tf.reverse(src, [-1])\n",
    "    enc_out = encoder(src)\n",
    "    dec_hidden = enc_out[:,-1]\n",
    "    dec_input = tf.expand_dims([eng_tokenizer.word_index['<start>']], 0)\n",
    "    \n",
    "    output = np.zeros((59,))\n",
    "    \n",
    "    for t in range(59):\n",
    "        predictions, dec_hidden, _ = decoder(dec_input, dec_hidden, enc_out)\n",
    "\n",
    "        # 디코더가 예측한 단어 글자화\n",
    "        predicted_id = tf.argmax(tf.math.softmax(predictions, axis=-1)[0]).numpy()\n",
    "\n",
    "        # 종료 토큰 발견시 즉시 종료\n",
    "        if predicted_id == 0 or eng_tokenizer.index_word[predicted_id] == '<end>':\n",
    "            break\n",
    "        \n",
    "        dec_input = tf.expand_dims([predicted_id], 0)\n",
    "        output[t] = predicted_id\n",
    "\n",
    "    return eng_tokenizer.sequences_to_texts(output.reshape((1, -1)))[0]"
   ]
  },
  {
   "cell_type": "code",
   "execution_count": 38,
   "id": "151405a7",
   "metadata": {},
   "outputs": [
    {
     "name": "stderr",
     "output_type": "stream",
     "text": [
      "Epoch  1: 100%|██████████| 1181/1181 [04:23<00:00,  4.48it/s, Loss 2.9554]\n"
     ]
    },
    {
     "name": "stdout",
     "output_type": "stream",
     "text": [
      "Epoch 1 Result\n",
      "오바마는 대통령이다.\n",
      "=> the the the the the the the the the the the the the the the the the the the the the the the the the the the the the the the the the the the the the the the the the the the the the the the the the the the the the the the the the the the\n",
      "\n",
      "시민들은 도시 속에 산다.\n",
      "=> the the the the the the the the the the the the the the the the the the the the the the the the the the the the the the the the the the the the the the the the the the the the the the the the the the the the the the the the the the the\n",
      "\n",
      "커피는 필요 없다.\n",
      "=> the the the the the the the the the the the the the the the the the the the the the the the the the the the the the the the the the the the the the the the the the the the the the the the the the the the the the the the the the the the\n",
      "\n",
      "일곱 명의 사망자가 발생했다.\n",
      "=> the the the the the the the the the the the the the the the the the the the the the the the the the the the the the the the the the the the the the the the the the the the the the the the the the the the the the the the the the the the\n",
      "\n"
     ]
    },
    {
     "name": "stderr",
     "output_type": "stream",
     "text": [
      "Epoch  2: 100%|██████████| 1181/1181 [02:41<00:00,  7.31it/s, Loss 2.9265]\n"
     ]
    },
    {
     "name": "stdout",
     "output_type": "stream",
     "text": [
      "Epoch 2 Result\n",
      "오바마는 대통령이다.\n",
      "=> the the the the the the the the the the the the the the the the the the the the the the the the the the the the the the the the the the the the the the the the the the the the the the the the the the the the the the the the the the the\n",
      "\n",
      "시민들은 도시 속에 산다.\n",
      "=> the the the the the the the the the the the the the the the the the the the the the the the the the the the the the the the the the the the the the the the the the the the the the the the the the the the the the the the the the the the\n",
      "\n",
      "커피는 필요 없다.\n",
      "=> the the the the the the the the the the the the the the the the the the the the the the the the the the the the the the the the the the the the the the the the the the the the the the the the the the the the the the the the the the the\n",
      "\n",
      "일곱 명의 사망자가 발생했다.\n",
      "=> the the the the the the the the the the the the the the the the the the the the the the the the the the the the the the the the the the the the the the the the the the the the the the the the the the the the the the the the the the the\n",
      "\n"
     ]
    },
    {
     "name": "stderr",
     "output_type": "stream",
     "text": [
      "Epoch  3: 100%|██████████| 1181/1181 [02:41<00:00,  7.31it/s, Loss 2.7596]\n"
     ]
    },
    {
     "name": "stdout",
     "output_type": "stream",
     "text": [
      "Epoch 3 Result\n",
      "오바마는 대통령이다.\n",
      "=> the government , the government , the government , the government , the government , the government , the government , the government , the government , the government , the government , the government , the government , the government , the government , the government , the government , the government , the government , the government\n",
      "\n",
      "시민들은 도시 속에 산다.\n",
      "=> the government s .\n",
      "\n",
      "커피는 필요 없다.\n",
      "=> the government s .\n",
      "\n",
      "일곱 명의 사망자가 발생했다.\n",
      "=> the government s .\n",
      "\n"
     ]
    },
    {
     "name": "stderr",
     "output_type": "stream",
     "text": [
      "Epoch  4: 100%|██████████| 1181/1181 [02:41<00:00,  7.29it/s, Loss 2.4295]\n"
     ]
    },
    {
     "name": "stdout",
     "output_type": "stream",
     "text": [
      "Epoch 4 Result\n",
      "오바마는 대통령이다.\n",
      "=> obama s .\n",
      "\n",
      "시민들은 도시 속에 산다.\n",
      "=> the united states .\n",
      "\n",
      "커피는 필요 없다.\n",
      "=> the new york .\n",
      "\n",
      "일곱 명의 사망자가 발생했다.\n",
      "=> the united states .\n",
      "\n"
     ]
    },
    {
     "name": "stderr",
     "output_type": "stream",
     "text": [
      "Epoch  5: 100%|██████████| 1181/1181 [02:42<00:00,  7.29it/s, Loss 2.2716]\n"
     ]
    },
    {
     "name": "stdout",
     "output_type": "stream",
     "text": [
      "Epoch 5 Result\n",
      "오바마는 대통령이다.\n",
      "=> obama s .\n",
      "\n",
      "시민들은 도시 속에 산다.\n",
      "=> the police said .\n",
      "\n",
      "커피는 필요 없다.\n",
      "=> the new york , the new york , the new york , the new york , the new york , the new york , the new york , the new york , the new york , the new york , the new york , the new york , the new york , the new york , the new york\n",
      "\n",
      "일곱 명의 사망자가 발생했다.\n",
      "=> the police said .\n",
      "\n"
     ]
    },
    {
     "name": "stderr",
     "output_type": "stream",
     "text": [
      "Epoch  6: 100%|██████████| 1181/1181 [02:42<00:00,  7.29it/s, Loss 2.1602]\n"
     ]
    },
    {
     "name": "stdout",
     "output_type": "stream",
     "text": [
      "Epoch 6 Result\n",
      "오바마는 대통령이다.\n",
      "=> obama s .\n",
      "\n",
      "시민들은 도시 속에 산다.\n",
      "=> the ministry said .\n",
      "\n",
      "커피는 필요 없다.\n",
      "=> the new york times said .\n",
      "\n",
      "일곱 명의 사망자가 발생했다.\n",
      "=> the two of the two people were killed in the two year old girl .\n",
      "\n"
     ]
    },
    {
     "name": "stderr",
     "output_type": "stream",
     "text": [
      "Epoch  7: 100%|██████████| 1181/1181 [02:42<00:00,  7.28it/s, Loss 2.0694]\n"
     ]
    },
    {
     "name": "stdout",
     "output_type": "stream",
     "text": [
      "Epoch 7 Result\n",
      "오바마는 대통령이다.\n",
      "=> obama s a new york times .\n",
      "\n",
      "시민들은 도시 속에 산다.\n",
      "=> the people are still , and the people were in the most populous country .\n",
      "\n",
      "커피는 필요 없다.\n",
      "=> the study said .\n",
      "\n",
      "일곱 명의 사망자가 발생했다.\n",
      "=> the quake was killed in the first time .\n",
      "\n"
     ]
    },
    {
     "name": "stderr",
     "output_type": "stream",
     "text": [
      "Epoch  8: 100%|██████████| 1181/1181 [02:42<00:00,  7.28it/s, Loss 1.9927]\n"
     ]
    },
    {
     "name": "stdout",
     "output_type": "stream",
     "text": [
      "Epoch 8 Result\n",
      "오바마는 대통령이다.\n",
      "=> obama s a new york times .\n",
      "\n",
      "시민들은 도시 속에 산다.\n",
      "=> the people are still , and the people are more than a few days .\n",
      "\n",
      "커피는 필요 없다.\n",
      "=> the study said .\n",
      "\n",
      "일곱 명의 사망자가 발생했다.\n",
      "=> the two of the two of the two of the two of the two of the two of the two of the two of the two of the two of the two of the two of the two of the two of the two of the two of the two of the two of the two of the two\n",
      "\n"
     ]
    },
    {
     "name": "stderr",
     "output_type": "stream",
     "text": [
      "Epoch  9: 100%|██████████| 1181/1181 [02:42<00:00,  7.28it/s, Loss 1.9279]\n"
     ]
    },
    {
     "name": "stdout",
     "output_type": "stream",
     "text": [
      "Epoch 9 Result\n",
      "오바마는 대통령이다.\n",
      "=> obama is the white house .\n",
      "\n",
      "시민들은 도시 속에 산다.\n",
      "=> the number of the most common in the most common in the most common in the most common in the most common in the most common in the most common in the most common in the most common in the most common in the most common in the most common in the most common in the most common in\n",
      "\n",
      "커피는 필요 없다.\n",
      "=> the best thing is a lot of the best thing .\n",
      "\n",
      "일곱 명의 사망자가 발생했다.\n",
      "=> the two of the two of the two of the u . s .\n",
      "\n"
     ]
    },
    {
     "name": "stderr",
     "output_type": "stream",
     "text": [
      "Epoch 10: 100%|██████████| 1181/1181 [02:42<00:00,  7.28it/s, Loss 1.8707]\n"
     ]
    },
    {
     "name": "stdout",
     "output_type": "stream",
     "text": [
      "Epoch 10 Result\n",
      "오바마는 대통령이다.\n",
      "=> obama s a white house .\n",
      "\n",
      "시민들은 도시 속에 산다.\n",
      "=> the children are more than a day .\n",
      "\n",
      "커피는 필요 없다.\n",
      "=> the whole number of the whole system .\n",
      "\n",
      "일곱 명의 사망자가 발생했다.\n",
      "=> two people were killed .\n",
      "\n"
     ]
    },
    {
     "name": "stderr",
     "output_type": "stream",
     "text": [
      "Epoch 11: 100%|██████████| 1181/1181 [02:42<00:00,  7.27it/s, Loss 1.8195]\n"
     ]
    },
    {
     "name": "stdout",
     "output_type": "stream",
     "text": [
      "Epoch 11 Result\n",
      "오바마는 대통령이다.\n",
      "=> obama s president elect barack obama s president s president s president s president s president s president s president s president s president s president s president s president s president s president s president s president s president s president s president s president s president s president s president s president s president s president s\n",
      "\n",
      "시민들은 도시 속에 산다.\n",
      "=> the number of the most populous country .\n",
      "\n",
      "커피는 필요 없다.\n",
      "=> the best thing is a very good of the best way .\n",
      "\n",
      "일곱 명의 사망자가 발생했다.\n",
      "=> two of the two of the two of the two of the two of the two of the two of the two of the two of the two of the two of the two of the two of the two of the two of the two of the two of the two of the two of the two of\n",
      "\n"
     ]
    },
    {
     "name": "stderr",
     "output_type": "stream",
     "text": [
      "Epoch 12: 100%|██████████| 1181/1181 [02:42<00:00,  7.27it/s, Loss 1.7729]\n"
     ]
    },
    {
     "name": "stdout",
     "output_type": "stream",
     "text": [
      "Epoch 12 Result\n",
      "오바마는 대통령이다.\n",
      "=> obama is a lot of the president s president s president s president s president s president s president s president s president s president s president s president s president s president s president s president s president s president s president s president s president s president s president s president s president s president s president\n",
      "\n",
      "시민들은 도시 속에 산다.\n",
      "=> the children are now in the streets .\n",
      "\n",
      "커피는 필요 없다.\n",
      "=> the best thing is a very important thing .\n",
      "\n",
      "일곱 명의 사망자가 발생했다.\n",
      "=> two of the two of the two of the two of the two hour .\n",
      "\n"
     ]
    },
    {
     "name": "stderr",
     "output_type": "stream",
     "text": [
      "Epoch 13: 100%|██████████| 1181/1181 [02:42<00:00,  7.28it/s, Loss 1.7296]\n"
     ]
    },
    {
     "name": "stdout",
     "output_type": "stream",
     "text": [
      "Epoch 13 Result\n",
      "오바마는 대통령이다.\n",
      "=> obama s a house of the president s house .\n",
      "\n",
      "시민들은 도시 속에 산다.\n",
      "=> the people are more than a lot .\n",
      "\n",
      "커피는 필요 없다.\n",
      "=> the average thing is a very important thing .\n",
      "\n",
      "일곱 명의 사망자가 발생했다.\n",
      "=> two of the two were injured .\n",
      "\n"
     ]
    },
    {
     "name": "stderr",
     "output_type": "stream",
     "text": [
      "Epoch 14: 100%|██████████| 1181/1181 [02:42<00:00,  7.27it/s, Loss 1.6894]\n"
     ]
    },
    {
     "name": "stdout",
     "output_type": "stream",
     "text": [
      "Epoch 14 Result\n",
      "오바마는 대통령이다.\n",
      "=> obama is the president s president .\n",
      "\n",
      "시민들은 도시 속에 산다.\n",
      "=> the children are more than a new delhi .\n",
      "\n",
      "커피는 필요 없다.\n",
      "=> it s a lot of the best way .\n",
      "\n",
      "일곱 명의 사망자가 발생했다.\n",
      "=> two crew members were killed .\n",
      "\n"
     ]
    },
    {
     "name": "stderr",
     "output_type": "stream",
     "text": [
      "Epoch 15: 100%|██████████| 1181/1181 [02:42<00:00,  7.27it/s, Loss 1.6548]\n"
     ]
    },
    {
     "name": "stdout",
     "output_type": "stream",
     "text": [
      "Epoch 15 Result\n",
      "오바마는 대통령이다.\n",
      "=> she s president .\n",
      "\n",
      "시민들은 도시 속에 산다.\n",
      "=> the number of the victims\n",
      "\n",
      "커피는 필요 없다.\n",
      "=> the fact that s a lot of the best way .\n",
      "\n",
      "일곱 명의 사망자가 발생했다.\n",
      "=> the crew members were killed .\n",
      "\n"
     ]
    },
    {
     "name": "stderr",
     "output_type": "stream",
     "text": [
      "Epoch 16: 100%|██████████| 1181/1181 [02:42<00:00,  7.29it/s, Loss 1.6203]\n"
     ]
    },
    {
     "name": "stdout",
     "output_type": "stream",
     "text": [
      "Epoch 16 Result\n",
      "오바마는 대통령이다.\n",
      "=> obama is the president to be a new york times .\n",
      "\n",
      "시민들은 도시 속에 산다.\n",
      "=> the men are more than a lot .\n",
      "\n",
      "커피는 필요 없다.\n",
      "=> the average number of the average of the same time .\n",
      "\n",
      "일곱 명의 사망자가 발생했다.\n",
      "=> two crew were killed in the number of the number of the number of the number of the number of the number of the number of the number of the number of the number of the number of the number of the number of the number of the number of the number of the number of the number of\n",
      "\n"
     ]
    },
    {
     "name": "stderr",
     "output_type": "stream",
     "text": [
      "Epoch 17: 100%|██████████| 1181/1181 [02:42<00:00,  7.28it/s, Loss 1.5851]\n"
     ]
    },
    {
     "name": "stdout",
     "output_type": "stream",
     "text": [
      "Epoch 17 Result\n",
      "오바마는 대통령이다.\n",
      "=> obama is a transformational figure\n",
      "\n",
      "시민들은 도시 속에 산다.\n",
      "=> the number of the two year .\n",
      "\n",
      "커피는 필요 없다.\n",
      "=> it s a lot of the future .\n",
      "\n",
      "일곱 명의 사망자가 발생했다.\n",
      "=> the two were injured .\n",
      "\n"
     ]
    },
    {
     "name": "stderr",
     "output_type": "stream",
     "text": [
      "Epoch 18: 100%|██████████| 1181/1181 [02:42<00:00,  7.29it/s, Loss 1.5531]\n"
     ]
    },
    {
     "name": "stdout",
     "output_type": "stream",
     "text": [
      "Epoch 18 Result\n",
      "오바마는 대통령이다.\n",
      "=> obama s a day to the president s president .\n",
      "\n",
      "시민들은 도시 속에 산다.\n",
      "=> the children are more than a lot .\n",
      "\n",
      "커피는 필요 없다.\n",
      "=> that s a very important thing .\n",
      "\n",
      "일곱 명의 사망자가 발생했다.\n",
      "=> the two daughters were killed in the city .\n",
      "\n"
     ]
    },
    {
     "name": "stderr",
     "output_type": "stream",
     "text": [
      "Epoch 19: 100%|██████████| 1181/1181 [02:42<00:00,  7.28it/s, Loss 1.5245]\n"
     ]
    },
    {
     "name": "stdout",
     "output_type": "stream",
     "text": [
      "Epoch 19 Result\n",
      "오바마는 대통령이다.\n",
      "=> obama is a transformational figure\n",
      "\n",
      "시민들은 도시 속에 산다.\n",
      "=> the number of the indian city .\n",
      "\n",
      "커피는 필요 없다.\n",
      "=> it s a very important thing .\n",
      "\n",
      "일곱 명의 사망자가 발생했다.\n",
      "=> two were killed in the number of the number of the number of the number of the number of the number of the number of the number of the number of the number of the number of the number of the number of the number of the number of the number of the number of the number of the\n",
      "\n"
     ]
    },
    {
     "name": "stderr",
     "output_type": "stream",
     "text": [
      "Epoch 20: 100%|██████████| 1181/1181 [02:41<00:00,  7.29it/s, Loss 1.4978]\n"
     ]
    },
    {
     "name": "stdout",
     "output_type": "stream",
     "text": [
      "Epoch 20 Result\n",
      "오바마는 대통령이다.\n",
      "=> obama is the president to be a bit of the president to be a bit of the president to be a bit of the president to be a bit of the president to be a bit of the president to be a bit of the president to be a bit of the president to be a bit of the\n",
      "\n",
      "시민들은 도시 속에 산다.\n",
      "=> the number of the two children .\n",
      "\n",
      "커피는 필요 없다.\n",
      "=> it s a very important thing .\n",
      "\n",
      "일곱 명의 사망자가 발생했다.\n",
      "=> seven people were killed in the number of the number of the number of the number of the number of the number of the number of the number of the number of the number of the number of the number of the number of the number of the number of the number of the number of the number of\n",
      "\n"
     ]
    },
    {
     "name": "stderr",
     "output_type": "stream",
     "text": [
      "Epoch 21: 100%|██████████| 1181/1181 [02:42<00:00,  7.29it/s, Loss 1.4706]\n"
     ]
    },
    {
     "name": "stdout",
     "output_type": "stream",
     "text": [
      "Epoch 21 Result\n",
      "오바마는 대통령이다.\n",
      "=> obama s president obama s president .\n",
      "\n",
      "시민들은 도시 속에 산다.\n",
      "=> the number of people are more than a lot .\n",
      "\n",
      "커피는 필요 없다.\n",
      "=> it s a lot of the coffee .\n",
      "\n",
      "일곱 명의 사망자가 발생했다.\n",
      "=> seven people were killed in the death toll in the number of the number of the number of the number of the number of the number of the number of the number of the number of the number of the number of the number of the number of the number of the number of the number of the number\n",
      "\n"
     ]
    },
    {
     "name": "stderr",
     "output_type": "stream",
     "text": [
      "Epoch 22: 100%|██████████| 1181/1181 [02:42<00:00,  7.27it/s, Loss 1.4442]\n"
     ]
    },
    {
     "name": "stdout",
     "output_type": "stream",
     "text": [
      "Epoch 22 Result\n",
      "오바마는 대통령이다.\n",
      "=> obama is the president to be a wonderful seat of the obama she is the president to be a wonderful seat of the obama she is the president to be a wonderful seat of the obama she is the president to be a wonderful seat of the obama she is the president to be a wonderful seat of the\n",
      "\n",
      "시민들은 도시 속에 산다.\n",
      "=> they are more than most of the streets .\n",
      "\n",
      "커피는 필요 없다.\n",
      "=> it s a lot of the coffee .\n",
      "\n",
      "일곱 명의 사망자가 발생했다.\n",
      "=> two people were killed in the number of the number of the number of the number of the number of the number of the number of the number of the number of the number of the number of the number of the number of the number of the number of the number of the number of the number of\n",
      "\n"
     ]
    },
    {
     "name": "stderr",
     "output_type": "stream",
     "text": [
      "Epoch 23: 100%|██████████| 1181/1181 [02:42<00:00,  7.28it/s, Loss 1.4202]\n"
     ]
    },
    {
     "name": "stdout",
     "output_type": "stream",
     "text": [
      "Epoch 23 Result\n",
      "오바마는 대통령이다.\n",
      "=> obama is a transformational figure ?\n",
      "\n",
      "시민들은 도시 속에 산다.\n",
      "=> they are more than ever .\n",
      "\n",
      "커피는 필요 없다.\n",
      "=> it s a very important factor .\n",
      "\n",
      "일곱 명의 사망자가 발생했다.\n",
      "=> seven people were killed .\n",
      "\n"
     ]
    },
    {
     "name": "stderr",
     "output_type": "stream",
     "text": [
      "Epoch 24: 100%|██████████| 1181/1181 [02:42<00:00,  7.29it/s, Loss 1.3992]\n"
     ]
    },
    {
     "name": "stdout",
     "output_type": "stream",
     "text": [
      "Epoch 24 Result\n",
      "오바마는 대통령이다.\n",
      "=> obama is a transformational figure ?\n",
      "\n",
      "시민들은 도시 속에 산다.\n",
      "=> the two countries are more than a lot .\n",
      "\n",
      "커피는 필요 없다.\n",
      "=> it s a lot of coffee .\n",
      "\n",
      "일곱 명의 사망자가 발생했다.\n",
      "=> seven people were killed at the number of the number of the number of the number of the number of the number of the number of the number of the number of the number of the number of the number of the number of the number of the number of the number of the number of the number of\n",
      "\n"
     ]
    },
    {
     "name": "stderr",
     "output_type": "stream",
     "text": [
      "Epoch 25: 100%|██████████| 1181/1181 [02:42<00:00,  7.28it/s, Loss 1.3770]\n"
     ]
    },
    {
     "name": "stdout",
     "output_type": "stream",
     "text": [
      "Epoch 25 Result\n",
      "오바마는 대통령이다.\n",
      "=> he s a superdelegate endorsements , obama said .\n",
      "\n",
      "시민들은 도시 속에 산다.\n",
      "=> the most populous countries .\n",
      "\n",
      "커피는 필요 없다.\n",
      "=> it s a lot of coffee .\n",
      "\n",
      "일곱 명의 사망자가 발생했다.\n",
      "=> seven people were killed .\n",
      "\n"
     ]
    },
    {
     "name": "stderr",
     "output_type": "stream",
     "text": [
      "Epoch 26: 100%|██████████| 1181/1181 [02:42<00:00,  7.28it/s, Loss 1.3555]\n"
     ]
    },
    {
     "name": "stdout",
     "output_type": "stream",
     "text": [
      "Epoch 26 Result\n",
      "오바마는 대통령이다.\n",
      "=> obama is a transformational figure\n",
      "\n",
      "시민들은 도시 속에 산다.\n",
      "=> they are more than ever .\n",
      "\n",
      "커피는 필요 없다.\n",
      "=> it s a lot of you .\n",
      "\n",
      "일곱 명의 사망자가 발생했다.\n",
      "=> seven people were killed in the death toll in the death toll in the death toll in the death toll in the death toll in the death toll in the death toll in the death toll in the death toll in the death toll in the death toll in the death toll in the death toll in the death\n",
      "\n"
     ]
    },
    {
     "name": "stderr",
     "output_type": "stream",
     "text": [
      "Epoch 27: 100%|██████████| 1181/1181 [02:42<00:00,  7.29it/s, Loss 1.3362]\n"
     ]
    },
    {
     "name": "stdout",
     "output_type": "stream",
     "text": [
      "Epoch 27 Result\n",
      "오바마는 대통령이다.\n",
      "=> i think obama is the obama war .\n",
      "\n",
      "시민들은 도시 속에 산다.\n",
      "=> the group is more than a lot .\n",
      "\n",
      "커피는 필요 없다.\n",
      "=> it s a lot of the price of the price of the price of the price of the price of the price of the price of the price of the price of the price of the price of the price of the price of the price of the price of the price of the price of the price of\n",
      "\n",
      "일곱 명의 사망자가 발생했다.\n",
      "=> seven people died in the number of the number of the number of the number of the number of the number of the number of the number of the number of the number of the number of the number of the number of the number of the number of the number of the number of the number of the\n",
      "\n"
     ]
    },
    {
     "name": "stderr",
     "output_type": "stream",
     "text": [
      "Epoch 28: 100%|██████████| 1181/1181 [02:41<00:00,  7.29it/s, Loss 1.3166]\n"
     ]
    },
    {
     "name": "stdout",
     "output_type": "stream",
     "text": [
      "Epoch 28 Result\n",
      "오바마는 대통령이다.\n",
      "=> he s a debate about obama .\n",
      "\n",
      "시민들은 도시 속에 산다.\n",
      "=> they are more than ever .\n",
      "\n",
      "커피는 필요 없다.\n",
      "=> it s a coffee cup .\n",
      "\n",
      "일곱 명의 사망자가 발생했다.\n",
      "=> seven people died in the number of the number of the number of the number of the number of the number of the number of the number of the number of the number of the number of the number of the number of the number of the number of the number of the number of the number of the\n",
      "\n"
     ]
    },
    {
     "name": "stderr",
     "output_type": "stream",
     "text": [
      "Epoch 29: 100%|██████████| 1181/1181 [02:42<00:00,  7.29it/s, Loss 1.2989]\n"
     ]
    },
    {
     "name": "stdout",
     "output_type": "stream",
     "text": [
      "Epoch 29 Result\n",
      "오바마는 대통령이다.\n",
      "=> obama is a transformational figure ?\n",
      "\n",
      "시민들은 도시 속에 산다.\n",
      "=> in the population , and is in the streets .\n",
      "\n",
      "커피는 필요 없다.\n",
      "=> it s a lot of coffee .\n",
      "\n",
      "일곱 명의 사망자가 발생했다.\n",
      "=> seven people were killed in the number of the number of the number of the area .\n",
      "\n"
     ]
    },
    {
     "name": "stderr",
     "output_type": "stream",
     "text": [
      "Epoch 30: 100%|██████████| 1181/1181 [02:41<00:00,  7.29it/s, Loss 1.2823]\n"
     ]
    },
    {
     "name": "stdout",
     "output_type": "stream",
     "text": [
      "Epoch 30 Result\n",
      "오바마는 대통령이다.\n",
      "=> i think obama s president obama s president .\n",
      "\n",
      "시민들은 도시 속에 산다.\n",
      "=> the number of people are more than a lot .\n",
      "\n",
      "커피는 필요 없다.\n",
      "=> it s a very important factor .\n",
      "\n",
      "일곱 명의 사망자가 발생했다.\n",
      "=> two of the dead were killed at the number of the number of the number of the number of the number of the number of the number of the number of the number of the number of the number of the number of the number of the number of the number of the number of the number of the\n",
      "\n"
     ]
    }
   ],
   "source": [
    "BATCH_SIZE = 64\n",
    "EPOCHS = 30\n",
    "EPOCH_START = 0 # 이어서 학습할 때 사용, 중단한 epoch에서 시작\n",
    "\n",
    "for epoch in range(EPOCHS):\n",
    "    total_loss = 0\n",
    "\n",
    "    # 데이터셋 섞기\n",
    "    idx_list = list(range(0, kor_sequences.shape[0], BATCH_SIZE))\n",
    "    random.shuffle(idx_list)\n",
    "    t = tqdm(idx_list)    # tqdm\n",
    "\n",
    "    for (batch, idx) in enumerate(t):\n",
    "        batch_loss = train_step(kor_sequences[idx:idx+BATCH_SIZE], # batch를 직접 지정\n",
    "                                eng_sequences[idx:idx+BATCH_SIZE],\n",
    "                                encoder,\n",
    "                                decoder,\n",
    "                                optimizer,\n",
    "                                eng_tokenizer)\n",
    "\n",
    "        total_loss += batch_loss\n",
    "\n",
    "        t.set_description_str('Epoch %2d' % (EPOCH_START + epoch + 1))    # tqdm\n",
    "        t.set_postfix_str('Loss %.4f' % (total_loss.numpy() / (batch + 1)))    # tqdm\n",
    "    \n",
    "    # 학습한 결과 확인하기\n",
    "    print('Epoch', EPOCH_START + epoch + 1, 'Result')\n",
    "    for kor in [\"오바마는 대통령이다.\", \"시민들은 도시 속에 산다.\", \"커피는 필요 없다.\", \"일곱 명의 사망자가 발생했다.\"]:\n",
    "        print(kor)\n",
    "        print('=>', predict(kor, encoder, decoder))\n",
    "        print('')"
   ]
  },
  {
   "cell_type": "code",
   "execution_count": 44,
   "id": "dae25cfc",
   "metadata": {},
   "outputs": [
    {
     "name": "stdout",
     "output_type": "stream",
     "text": [
      "Input: ['오바마', '는', '대통령', '이', '다', '.']\n",
      "Predicted translation: i think obama s president obama s president . <end> \n"
     ]
    },
    {
     "name": "stderr",
     "output_type": "stream",
     "text": [
      "/tmp/ipykernel_47/323876978.py:54: UserWarning: FixedFormatter should only be used together with FixedLocator\n",
      "  ax.set_xticklabels([''] + sentence, fontdict=fontdict, rotation=90)\n",
      "/tmp/ipykernel_47/323876978.py:55: UserWarning: FixedFormatter should only be used together with FixedLocator\n",
      "  ax.set_yticklabels([''] + predicted_sentence, fontdict=fontdict)\n"
     ]
    },
    {
     "data": {
      "image/png": "[encoded data removed]",
      "text/plain": [
       "<Figure size 720x720 with 1 Axes>"
      ]
     },
     "metadata": {
      "image/png": {
       "height": 606,
       "width": 407
      },
      "needs_background": "light"
     },
     "output_type": "display_data"
    }
   ],
   "source": [
    "def evaluate(sentence, encoder, decoder):\n",
    "    # 어텐션 가중치 저장\n",
    "    attention = np.zeros((59, 85))\n",
    "    \n",
    "    # 전처리\n",
    "    sentence = preprocess_sentence(sentence)\n",
    "    inputs = kor_spliter.morphs(sentence)\n",
    "    inputs = kor_tokenizer.texts_to_sequences([inputs])\n",
    "    inputs = tf.keras.preprocessing.sequence.pad_sequences(inputs,\n",
    "                                                           maxlen=85,\n",
    "                                                           padding='post')\n",
    "    # 번역 결과를 담을 문자열 변수\n",
    "    result = ''\n",
    "\n",
    "    # 인코더\n",
    "    # inputs = tf.reverse(inputs, [-1])\n",
    "    enc_out = encoder(inputs)\n",
    "\n",
    "    # 디코더\n",
    "    dec_hidden = enc_out[:, -1]\n",
    "    dec_input = tf.expand_dims([eng_tokenizer.word_index['<start>']], 0)\n",
    "\n",
    "    for t in range(59):\n",
    "        predictions, dec_hidden, attention_weights = decoder(dec_input,\n",
    "                                                             dec_hidden,\n",
    "                                                             enc_out)\n",
    "\n",
    "        # 어텐션 가중치를 저장\n",
    "        attention_weights = tf.reshape(attention_weights, (-1, ))\n",
    "        attention[t] = attention_weights.numpy()\n",
    "\n",
    "        # 디코더가 예측한 단어 디코딩\n",
    "        predicted_id = \\\n",
    "        tf.argmax(tf.math.softmax(predictions, axis=-1)[0]).numpy()\n",
    "\n",
    "        result += eng_tokenizer.index_word[predicted_id] + ' '\n",
    "        \n",
    "        # 종료 토큰이 나오면 즉시 종료\n",
    "        if eng_tokenizer.index_word[predicted_id] == '<end>':\n",
    "            return result, sentence, attention\n",
    "\n",
    "        dec_input = tf.expand_dims([predicted_id], 0)\n",
    "\n",
    "    return result, sentence, attention\n",
    "\n",
    "\n",
    "def plot_attention(attention, sentence, predicted_sentence):\n",
    "    fig = plt.figure(figsize=(10,10))\n",
    "    ax = fig.add_subplot(1, 1, 1)\n",
    "    ax.matshow(attention, cmap='viridis')\n",
    "\n",
    "    fontdict = {'fontsize': 14}\n",
    "\n",
    "    ax.set_xticklabels([''] + sentence, fontdict=fontdict, rotation=90)\n",
    "    ax.set_yticklabels([''] + predicted_sentence, fontdict=fontdict)\n",
    "\n",
    "    ax.xaxis.set_major_locator(ticker.MultipleLocator(1))\n",
    "    ax.yaxis.set_major_locator(ticker.MultipleLocator(1))\n",
    "\n",
    "    plt.show()\n",
    "\n",
    "\n",
    "def translate(sentence, encoder, decoder):\n",
    "    result, sentence, attention = evaluate(sentence, encoder, decoder)\n",
    "    sentence = kor_spliter.morphs(sentence)\n",
    "\n",
    "    print('Input: %s' % (sentence))\n",
    "    print('Predicted translation: {}'.format(result))\n",
    "    \n",
    "    attention = attention[:len(result.split()), :len(sentence)]\n",
    "    plot_attention(attention, sentence, result.split(' '))\n",
    "\n",
    "\n",
    "translate(\"오바마는 대통령이다.\", encoder, decoder)"
   ]
  },
  {
   "cell_type": "code",
   "execution_count": null,
   "id": "1a375426",
   "metadata": {},
   "outputs": [],
   "source": []
  }
 ],
 "metadata": {
  "kernelspec": {
   "display_name": "Python 3 (ipykernel)",
   "language": "python",
   "name": "python3"
  },
  "language_info": {
   "codemirror_mode": {
    "name": "ipython",
    "version": 3
   },
   "file_extension": ".py",
   "mimetype": "text/x-python",
   "name": "python",
   "nbconvert_exporter": "python",
   "pygments_lexer": "ipython3",
   "version": "3.9.7"
  }
 },
 "nbformat": 4,
 "nbformat_minor": 5
}
